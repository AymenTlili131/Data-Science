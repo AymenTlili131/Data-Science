{
 "cells": [
  {
   "cell_type": "markdown",
   "metadata": {},
   "source": [
    "Objectives :\n",
    "Re-itirate and understand \n",
    "\n",
    "\n",
    "Setting up training and test data sets \n",
    "\n",
    "\n",
    "Data pre-processing\n",
    "\n",
    "\n",
    "model performance Classification\n",
    "\n",
    "\n",
    "Cross-validation"
   ]
  },
  {
   "cell_type": "code",
   "execution_count": 3,
   "metadata": {},
   "outputs": [],
   "source": [
    "using RDatasets\n",
    "using Distributions\n",
    "using MLBase"
   ]
  },
  {
   "cell_type": "code",
   "execution_count": 4,
   "metadata": {},
   "outputs": [
    {
     "data": {
      "text/plain": [
       "150-element Array{String,1}:\n",
       " \"setosa\"   \n",
       " \"setosa\"   \n",
       " \"setosa\"   \n",
       " \"setosa\"   \n",
       " \"setosa\"   \n",
       " \"setosa\"   \n",
       " \"setosa\"   \n",
       " \"setosa\"   \n",
       " \"setosa\"   \n",
       " \"setosa\"   \n",
       " \"setosa\"   \n",
       " \"setosa\"   \n",
       " \"setosa\"   \n",
       " ⋮          \n",
       " \"virginica\"\n",
       " \"virginica\"\n",
       " \"virginica\"\n",
       " \"virginica\"\n",
       " \"virginica\"\n",
       " \"virginica\"\n",
       " \"virginica\"\n",
       " \"virginica\"\n",
       " \"virginica\"\n",
       " \"virginica\"\n",
       " \"virginica\"\n",
       " \"virginica\""
      ]
     },
     "execution_count": 4,
     "metadata": {},
     "output_type": "execute_result"
    }
   ],
   "source": [
    "iris =dataset(\"datasets\",\"iris\")\n",
    "features=iris[:,1:4]\n",
    "labels=convert( Array , iris[:,5])"
   ]
  },
  {
   "cell_type": "code",
   "execution_count": 5,
   "metadata": {},
   "outputs": [
    {
     "data": {
      "text/plain": [
       "150"
      ]
     },
     "execution_count": 5,
     "metadata": {},
     "output_type": "execute_result"
    }
   ],
   "source": [
    "nrow(iris)"
   ]
  },
  {
   "cell_type": "code",
   "execution_count": 6,
   "metadata": {},
   "outputs": [],
   "source": [
    "#just loop revision . don't notice me . hehe xd\n",
    "#train= Int64[]\n",
    "#for i in 1:nrow(iris)\n",
    "#    push!(train, 1)\n",
    "#end"
   ]
  },
  {
   "cell_type": "code",
   "execution_count": 7,
   "metadata": {},
   "outputs": [
    {
     "name": "stdout",
     "output_type": "stream",
     "text": [
      "Bool[false, true, true, true, true, false, true, true, true, true, true, true, true, true, true, true, false, true, true, true, true, true, true, false, false, true, true, true, false, true, true, true, true, false, false, false, true, true, true, true, true, true, true, true, true, true, true, true, true, false, true, true, true, true, false, true, false, true, true, true, true, true, true, false, true, true, true, true, true, true, false, true, true, true, true, true, true, true, false, true, true, true, true, true, false, true, true, true, true, false, true, true, false, false, true, true, false, true, false, true, true, true, true, true, false, true, true, true, false, true, true, true, false, true, true, true, true, true, false, true, true, true, true, true, true, true, true, false, true, true, true, true, false, true, true, true, true, false, true, false, false, true, true, false, true, false, true, true, true, true]"
     ]
    }
   ],
   "source": [
    "train=rand(Bernoulli(0.75),nrow(iris)) #random array of trues and false to feed to the model as training data\n",
    "show(train)"
   ]
  },
  {
   "cell_type": "code",
   "execution_count": 8,
   "metadata": {},
   "outputs": [
    {
     "data": {
      "text/plain": [
       "DataFrame"
      ]
     },
     "execution_count": 8,
     "metadata": {},
     "output_type": "execute_result"
    }
   ],
   "source": [
    "typeof(features)"
   ]
  },
  {
   "cell_type": "code",
   "execution_count": 9,
   "metadata": {},
   "outputs": [
    {
     "name": "stdout",
     "output_type": "stream",
     "text": [
      "118×4 DataFrame\n",
      "│ Row │ SepalLength │ SepalWidth │ PetalLength │ PetalWidth │\n",
      "│     │ \u001b[90mFloat64\u001b[39m     │ \u001b[90mFloat64\u001b[39m    │ \u001b[90mFloat64\u001b[39m     │ \u001b[90mFloat64\u001b[39m    │\n",
      "├─────┼─────────────┼────────────┼─────────────┼────────────┤\n",
      "│ 1   │ 4.9         │ 3.0        │ 1.4         │ 0.2        │\n",
      "│ 2   │ 4.7         │ 3.2        │ 1.3         │ 0.2        │\n",
      "│ 3   │ 4.6         │ 3.1        │ 1.5         │ 0.2        │\n",
      "│ 4   │ 5.0         │ 3.6        │ 1.4         │ 0.2        │\n",
      "│ 5   │ 4.6         │ 3.4        │ 1.4         │ 0.3        │\n",
      "│ 6   │ 5.0         │ 3.4        │ 1.5         │ 0.2        │\n",
      "│ 7   │ 4.4         │ 2.9        │ 1.4         │ 0.2        │\n",
      "│ 8   │ 4.9         │ 3.1        │ 1.5         │ 0.1        │\n",
      "│ 9   │ 5.4         │ 3.7        │ 1.5         │ 0.2        │\n",
      "│ 10  │ 4.8         │ 3.4        │ 1.6         │ 0.2        │\n",
      "│ 11  │ 4.8         │ 3.0        │ 1.4         │ 0.1        │\n",
      "│ 12  │ 4.3         │ 3.0        │ 1.1         │ 0.1        │\n",
      "│ 13  │ 5.8         │ 4.0        │ 1.2         │ 0.2        │\n",
      "│ 14  │ 5.7         │ 4.4        │ 1.5         │ 0.4        │\n",
      "│ 15  │ 5.1         │ 3.5        │ 1.4         │ 0.3        │\n",
      "│ 16  │ 5.7         │ 3.8        │ 1.7         │ 0.3        │\n",
      "│ 17  │ 5.1         │ 3.8        │ 1.5         │ 0.3        │\n",
      "│ 18  │ 5.4         │ 3.4        │ 1.7         │ 0.2        │\n",
      "│ 19  │ 5.1         │ 3.7        │ 1.5         │ 0.4        │\n",
      "│ 20  │ 4.6         │ 3.6        │ 1.0         │ 0.2        │\n",
      "│ 21  │ 5.0         │ 3.0        │ 1.6         │ 0.2        │\n",
      "│ 22  │ 5.0         │ 3.4        │ 1.6         │ 0.4        │\n",
      "│ 23  │ 5.2         │ 3.5        │ 1.5         │ 0.2        │\n",
      "│ 24  │ 4.7         │ 3.2        │ 1.6         │ 0.2        │\n",
      "│ 25  │ 4.8         │ 3.1        │ 1.6         │ 0.2        │\n",
      "│ 26  │ 5.4         │ 3.4        │ 1.5         │ 0.4        │\n",
      "│ 27  │ 5.2         │ 4.1        │ 1.5         │ 0.1        │\n",
      "│ 28  │ 5.5         │ 3.5        │ 1.3         │ 0.2        │\n",
      "│ 29  │ 4.9         │ 3.6        │ 1.4         │ 0.1        │\n",
      "│ 30  │ 4.4         │ 3.0        │ 1.3         │ 0.2        │\n",
      "│ 31  │ 5.1         │ 3.4        │ 1.5         │ 0.2        │\n",
      "│ 32  │ 5.0         │ 3.5        │ 1.3         │ 0.3        │\n",
      "│ 33  │ 4.5         │ 2.3        │ 1.3         │ 0.3        │\n",
      "│ 34  │ 4.4         │ 3.2        │ 1.3         │ 0.2        │\n",
      "│ 35  │ 5.0         │ 3.5        │ 1.6         │ 0.6        │\n",
      "│ 36  │ 5.1         │ 3.8        │ 1.9         │ 0.4        │\n",
      "│ 37  │ 4.8         │ 3.0        │ 1.4         │ 0.3        │\n",
      "│ 38  │ 5.1         │ 3.8        │ 1.6         │ 0.2        │\n",
      "│ 39  │ 4.6         │ 3.2        │ 1.4         │ 0.2        │\n",
      "│ 40  │ 5.3         │ 3.7        │ 1.5         │ 0.2        │\n",
      "│ 41  │ 7.0         │ 3.2        │ 4.7         │ 1.4        │\n",
      "│ 42  │ 6.4         │ 3.2        │ 4.5         │ 1.5        │\n",
      "│ 43  │ 6.9         │ 3.1        │ 4.9         │ 1.5        │\n",
      "│ 44  │ 5.5         │ 2.3        │ 4.0         │ 1.3        │\n",
      "│ 45  │ 5.7         │ 2.8        │ 4.5         │ 1.3        │\n",
      "│ 46  │ 4.9         │ 2.4        │ 3.3         │ 1.0        │\n",
      "│ 47  │ 6.6         │ 2.9        │ 4.6         │ 1.3        │\n",
      "│ 48  │ 5.2         │ 2.7        │ 3.9         │ 1.4        │\n",
      "│ 49  │ 5.0         │ 2.0        │ 3.5         │ 1.0        │\n",
      "│ 50  │ 5.9         │ 3.0        │ 4.2         │ 1.5        │\n",
      "│ 51  │ 6.0         │ 2.2        │ 4.0         │ 1.0        │\n",
      "│ 52  │ 5.6         │ 2.9        │ 3.6         │ 1.3        │\n",
      "│ 53  │ 6.7         │ 3.1        │ 4.4         │ 1.4        │\n",
      "│ 54  │ 5.6         │ 3.0        │ 4.5         │ 1.5        │\n",
      "│ 55  │ 5.8         │ 2.7        │ 4.1         │ 1.0        │\n",
      "│ 56  │ 6.2         │ 2.2        │ 4.5         │ 1.5        │\n",
      "│ 57  │ 5.6         │ 2.5        │ 3.9         │ 1.1        │\n",
      "│ 58  │ 6.1         │ 2.8        │ 4.0         │ 1.3        │\n",
      "│ 59  │ 6.3         │ 2.5        │ 4.9         │ 1.5        │\n",
      "│ 60  │ 6.1         │ 2.8        │ 4.7         │ 1.2        │\n",
      "│ 61  │ 6.4         │ 2.9        │ 4.3         │ 1.3        │\n",
      "│ 62  │ 6.6         │ 3.0        │ 4.4         │ 1.4        │\n",
      "│ 63  │ 6.8         │ 2.8        │ 4.8         │ 1.4        │\n",
      "│ 64  │ 6.7         │ 3.0        │ 5.0         │ 1.7        │\n",
      "│ 65  │ 5.7         │ 2.6        │ 3.5         │ 1.0        │\n",
      "│ 66  │ 5.5         │ 2.4        │ 3.8         │ 1.1        │\n",
      "│ 67  │ 5.5         │ 2.4        │ 3.7         │ 1.0        │\n",
      "│ 68  │ 5.8         │ 2.7        │ 3.9         │ 1.2        │\n",
      "│ 69  │ 6.0         │ 2.7        │ 5.1         │ 1.6        │\n",
      "│ 70  │ 6.0         │ 3.4        │ 4.5         │ 1.6        │\n",
      "│ 71  │ 6.7         │ 3.1        │ 4.7         │ 1.5        │\n",
      "│ 72  │ 6.3         │ 2.3        │ 4.4         │ 1.3        │\n",
      "│ 73  │ 5.6         │ 3.0        │ 4.1         │ 1.3        │\n",
      "│ 74  │ 5.5         │ 2.6        │ 4.4         │ 1.2        │\n",
      "│ 75  │ 6.1         │ 3.0        │ 4.6         │ 1.4        │\n",
      "│ 76  │ 5.6         │ 2.7        │ 4.2         │ 1.3        │\n",
      "│ 77  │ 5.7         │ 3.0        │ 4.2         │ 1.2        │\n",
      "│ 78  │ 6.2         │ 2.9        │ 4.3         │ 1.3        │\n",
      "│ 79  │ 5.7         │ 2.8        │ 4.1         │ 1.3        │\n",
      "│ 80  │ 6.3         │ 3.3        │ 6.0         │ 2.5        │\n",
      "│ 81  │ 5.8         │ 2.7        │ 5.1         │ 1.9        │\n",
      "│ 82  │ 7.1         │ 3.0        │ 5.9         │ 2.1        │\n",
      "│ 83  │ 6.3         │ 2.9        │ 5.6         │ 1.8        │\n",
      "│ 84  │ 7.6         │ 3.0        │ 6.6         │ 2.1        │\n",
      "│ 85  │ 4.9         │ 2.5        │ 4.5         │ 1.7        │\n",
      "│ 86  │ 7.3         │ 2.9        │ 6.3         │ 1.8        │\n",
      "│ 87  │ 7.2         │ 3.6        │ 6.1         │ 2.5        │\n",
      "│ 88  │ 6.5         │ 3.2        │ 5.1         │ 2.0        │\n",
      "│ 89  │ 6.4         │ 2.7        │ 5.3         │ 1.9        │\n",
      "│ 90  │ 5.7         │ 2.5        │ 5.0         │ 2.0        │\n",
      "│ 91  │ 5.8         │ 2.8        │ 5.1         │ 2.4        │\n",
      "│ 92  │ 6.4         │ 3.2        │ 5.3         │ 2.3        │\n",
      "│ 93  │ 6.5         │ 3.0        │ 5.5         │ 1.8        │\n",
      "│ 94  │ 7.7         │ 3.8        │ 6.7         │ 2.2        │\n",
      "│ 95  │ 6.0         │ 2.2        │ 5.0         │ 1.5        │\n",
      "│ 96  │ 6.9         │ 3.2        │ 5.7         │ 2.3        │\n",
      "│ 97  │ 5.6         │ 2.8        │ 4.9         │ 2.0        │\n",
      "│ 98  │ 7.7         │ 2.8        │ 6.7         │ 2.0        │\n",
      "│ 99  │ 6.3         │ 2.7        │ 4.9         │ 1.8        │\n",
      "│ 100 │ 6.7         │ 3.3        │ 5.7         │ 2.1        │\n",
      "│ 101 │ 7.2         │ 3.2        │ 6.0         │ 1.8        │\n",
      "│ 102 │ 6.2         │ 2.8        │ 4.8         │ 1.8        │\n",
      "│ 103 │ 6.4         │ 2.8        │ 5.6         │ 2.1        │\n",
      "│ 104 │ 7.2         │ 3.0        │ 5.8         │ 1.6        │\n",
      "│ 105 │ 7.4         │ 2.8        │ 6.1         │ 1.9        │\n",
      "│ 106 │ 7.9         │ 3.8        │ 6.4         │ 2.0        │\n",
      "│ 107 │ 6.3         │ 2.8        │ 5.1         │ 1.5        │\n",
      "│ 108 │ 6.1         │ 2.6        │ 5.6         │ 1.4        │\n",
      "│ 109 │ 7.7         │ 3.0        │ 6.1         │ 2.3        │\n",
      "│ 110 │ 6.3         │ 3.4        │ 5.6         │ 2.4        │\n",
      "│ 111 │ 6.0         │ 3.0        │ 4.8         │ 1.8        │\n",
      "│ 112 │ 6.9         │ 3.1        │ 5.1         │ 2.3        │\n",
      "│ 113 │ 5.8         │ 2.7        │ 5.1         │ 1.9        │\n",
      "│ 114 │ 6.7         │ 3.3        │ 5.7         │ 2.5        │\n",
      "│ 115 │ 6.3         │ 2.5        │ 5.0         │ 1.9        │\n",
      "│ 116 │ 6.5         │ 3.0        │ 5.2         │ 2.0        │\n",
      "│ 117 │ 6.2         │ 3.4        │ 5.4         │ 2.3        │\n",
      "│ 118 │ 5.9         │ 3.0        │ 5.1         │ 1.8        │"
     ]
    },
    {
     "data": {
      "text/plain": [
       "118×1 Array{String,2}:\n",
       " \"setosa\"   \n",
       " \"setosa\"   \n",
       " \"setosa\"   \n",
       " \"setosa\"   \n",
       " \"setosa\"   \n",
       " \"setosa\"   \n",
       " \"setosa\"   \n",
       " \"setosa\"   \n",
       " \"setosa\"   \n",
       " \"setosa\"   \n",
       " \"setosa\"   \n",
       " \"setosa\"   \n",
       " \"setosa\"   \n",
       " ⋮          \n",
       " \"virginica\"\n",
       " \"virginica\"\n",
       " \"virginica\"\n",
       " \"virginica\"\n",
       " \"virginica\"\n",
       " \"virginica\"\n",
       " \"virginica\"\n",
       " \"virginica\"\n",
       " \"virginica\"\n",
       " \"virginica\"\n",
       " \"virginica\"\n",
       " \"virginica\""
      ]
     },
     "execution_count": 9,
     "metadata": {},
     "output_type": "execute_result"
    }
   ],
   "source": [
    "print(features[train,:])\n",
    "labels[train,:]"
   ]
  },
  {
   "cell_type": "code",
   "execution_count": 10,
   "metadata": {},
   "outputs": [],
   "source": [
    "#convert(UInt8, x)\n",
    "test=Bool[]\n",
    "for i in 1:nrow(iris)\n",
    " push!(test,!train[i])\n",
    "end"
   ]
  },
  {
   "cell_type": "code",
   "execution_count": 11,
   "metadata": {},
   "outputs": [
    {
     "name": "stdout",
     "output_type": "stream",
     "text": [
      "Bool[true, false, false, false, false, true, false, false, false, false, false, false, false, false, false, false, true, false, false, false, false, false, false, true, true, false, false, false, true, false, false, false, false, true, true, true, false, false, false, false, false, false, false, false, false, false, false, false, false, true, false, false, false, false, true, false, true, false, false, false, false, false, false, true, false, false, false, false, false, false, true, false, false, false, false, false, false, false, true, false, false, false, false, false, true, false, false, false, false, true, false, false, true, true, false, false, true, false, true, false, false, false, false, false, true, false, false, false, true, false, false, false, true, false, false, false, false, false, true, false, false, false, false, false, false, false, false, true, false, false, false, false, true, false, false, false, false, true, false, true, true, false, false, true, false, true, false, false, false, false]"
     ]
    },
    {
     "data": {
      "text/plain": [
       "150"
      ]
     },
     "execution_count": 11,
     "metadata": {},
     "output_type": "execute_result"
    }
   ],
   "source": [
    "show(test)\n",
    "length(test)"
   ]
  },
  {
   "cell_type": "code",
   "execution_count": 12,
   "metadata": {},
   "outputs": [
    {
     "data": {
      "text/plain": [
       "32×1 Array{String,2}:\n",
       " \"setosa\"    \n",
       " \"setosa\"    \n",
       " \"setosa\"    \n",
       " \"setosa\"    \n",
       " \"setosa\"    \n",
       " \"setosa\"    \n",
       " \"setosa\"    \n",
       " \"setosa\"    \n",
       " \"setosa\"    \n",
       " \"setosa\"    \n",
       " \"versicolor\"\n",
       " \"versicolor\"\n",
       " \"versicolor\"\n",
       " ⋮           \n",
       " \"versicolor\"\n",
       " \"virginica\" \n",
       " \"virginica\" \n",
       " \"virginica\" \n",
       " \"virginica\" \n",
       " \"virginica\" \n",
       " \"virginica\" \n",
       " \"virginica\" \n",
       " \"virginica\" \n",
       " \"virginica\" \n",
       " \"virginica\" \n",
       " \"virginica\" "
      ]
     },
     "execution_count": 12,
     "metadata": {},
     "output_type": "execute_result"
    }
   ],
   "source": [
    "features[test,:]\n",
    "labels[test,:]"
   ]
  },
  {
   "cell_type": "code",
   "execution_count": 13,
   "metadata": {},
   "outputs": [
    {
     "data": {
      "text/plain": [
       "118×1 Array{Int64,2}:\n",
       " 1\n",
       " 1\n",
       " 1\n",
       " 1\n",
       " 1\n",
       " 1\n",
       " 1\n",
       " 1\n",
       " 1\n",
       " 1\n",
       " 1\n",
       " 1\n",
       " 1\n",
       " ⋮\n",
       " 3\n",
       " 3\n",
       " 3\n",
       " 3\n",
       " 3\n",
       " 3\n",
       " 3\n",
       " 3\n",
       " 3\n",
       " 3\n",
       " 3\n",
       " 3"
      ]
     },
     "execution_count": 13,
     "metadata": {},
     "output_type": "execute_result"
    }
   ],
   "source": [
    "species=[\"setosa\",\"versicolor\",\"virginica\"]\n",
    "lm=labelmap(species)  #code the species to 1 2 3\n",
    "labelencode(lm,labels[train,:]) #replace the label with the encoded value"
   ]
  },
  {
   "cell_type": "code",
   "execution_count": 14,
   "metadata": {},
   "outputs": [
    {
     "data": {
      "text/plain": [
       "3-element Array{Array{Int64,1},1}:\n",
       " [1, 2, 3, 4, 5, 6, 7, 8, 9, 10  …  31, 32, 33, 34, 35, 36, 37, 38, 39, 40]                   \n",
       " [41, 42, 43, 44, 45, 46, 47, 48, 49, 50  …  70, 71, 72, 73, 74, 75, 76, 77, 78, 79]          \n",
       " [80, 81, 82, 83, 84, 85, 86, 87, 88, 89  …  109, 110, 111, 112, 113, 114, 115, 116, 117, 118]"
      ]
     },
     "execution_count": 14,
     "metadata": {},
     "output_type": "execute_result"
    }
   ],
   "source": [
    "MLBase.groupindices(lm,labels[train,:]) #show the indices of each encoded value in the training set"
   ]
  },
  {
   "cell_type": "markdown",
   "metadata": {},
   "source": [
    "# Basic teamplate of how the modeling phase goes in ML :\n",
    "\n",
    "model=build_model(labels[train,:],features[train,:])\n",
    "\n",
    "model=prune_model(model,0.7)\n",
    "\n",
    "print_tree(model)\n",
    "\n",
    "predictions=apply_model(model,features[test,:])\n",
    "\n",
    "#gridtune method is also useful for adjusting the model parameters\n"
   ]
  },
  {
   "cell_type": "markdown",
   "metadata": {},
   "source": [
    "#performance Checks\n",
    "\n",
    "gt=[\"setosa\",\"versicolor\",\"virginica\",\"setosa\",\"virginica\"]\n",
    "\n",
    "pred=[\"setosa\",\"versicolor\",\"setosa\",\"setosa\",\"virginica\" ]\n",
    "\n",
    "gtl=labelencode(lm,gt)\n",
    "\n",
    "predl=labelencode(lm,pred)\n",
    "\n",
    "correctrate(gtl,predl)\n",
    "\n",
    "errorrate(gtl,predl)\n",
    "\n",
    "confusmat(3,gtl,predl)"
   ]
  },
  {
   "cell_type": "code",
   "execution_count": 15,
   "metadata": {},
   "outputs": [],
   "source": [
    "#Receiver Operating Characteristics ROC\n",
    "#r=roc(gtl,predl)"
   ]
  },
  {
   "cell_type": "code",
   "execution_count": 16,
   "metadata": {},
   "outputs": [],
   "source": [
    "#true_positive_rate(r)\n",
    "#true_negative_rate(r)\n",
    "#precision(r)\n",
    "#recall(r)"
   ]
  },
  {
   "cell_type": "markdown",
   "metadata": {},
   "source": [
    "Classification using Decision Trees and Rules\n",
    "\n",
    "\n",
    "Objectives :\n",
    "\n",
    "\n",
    "Understand the usage of Decision Trees\n",
    "\n",
    "\n",
    "Pruned Tree classifer\n",
    "\n",
    "\n",
    "Random Forest Classifer\n",
    "\n",
    "\n",
    "adaptive Boosted Decision Stump Classifier"
   ]
  },
  {
   "cell_type": "code",
   "execution_count": 17,
   "metadata": {},
   "outputs": [
    {
     "data": {
      "text/html": [
       "<table class=\"data-frame\"><thead><tr><th></th><th>SepalLength</th><th>SepalWidth</th><th>PetalLength</th><th>PetalWidth</th></tr><tr><th></th><th>Float64</th><th>Float64</th><th>Float64</th><th>Float64</th></tr></thead><tbody><p>150 rows × 4 columns</p><tr><th>1</th><td>5.1</td><td>3.5</td><td>1.4</td><td>0.2</td></tr><tr><th>2</th><td>4.9</td><td>3.0</td><td>1.4</td><td>0.2</td></tr><tr><th>3</th><td>4.7</td><td>3.2</td><td>1.3</td><td>0.2</td></tr><tr><th>4</th><td>4.6</td><td>3.1</td><td>1.5</td><td>0.2</td></tr><tr><th>5</th><td>5.0</td><td>3.6</td><td>1.4</td><td>0.2</td></tr><tr><th>6</th><td>5.4</td><td>3.9</td><td>1.7</td><td>0.4</td></tr><tr><th>7</th><td>4.6</td><td>3.4</td><td>1.4</td><td>0.3</td></tr><tr><th>8</th><td>5.0</td><td>3.4</td><td>1.5</td><td>0.2</td></tr><tr><th>9</th><td>4.4</td><td>2.9</td><td>1.4</td><td>0.2</td></tr><tr><th>10</th><td>4.9</td><td>3.1</td><td>1.5</td><td>0.1</td></tr><tr><th>11</th><td>5.4</td><td>3.7</td><td>1.5</td><td>0.2</td></tr><tr><th>12</th><td>4.8</td><td>3.4</td><td>1.6</td><td>0.2</td></tr><tr><th>13</th><td>4.8</td><td>3.0</td><td>1.4</td><td>0.1</td></tr><tr><th>14</th><td>4.3</td><td>3.0</td><td>1.1</td><td>0.1</td></tr><tr><th>15</th><td>5.8</td><td>4.0</td><td>1.2</td><td>0.2</td></tr><tr><th>16</th><td>5.7</td><td>4.4</td><td>1.5</td><td>0.4</td></tr><tr><th>17</th><td>5.4</td><td>3.9</td><td>1.3</td><td>0.4</td></tr><tr><th>18</th><td>5.1</td><td>3.5</td><td>1.4</td><td>0.3</td></tr><tr><th>19</th><td>5.7</td><td>3.8</td><td>1.7</td><td>0.3</td></tr><tr><th>20</th><td>5.1</td><td>3.8</td><td>1.5</td><td>0.3</td></tr><tr><th>21</th><td>5.4</td><td>3.4</td><td>1.7</td><td>0.2</td></tr><tr><th>22</th><td>5.1</td><td>3.7</td><td>1.5</td><td>0.4</td></tr><tr><th>23</th><td>4.6</td><td>3.6</td><td>1.0</td><td>0.2</td></tr><tr><th>24</th><td>5.1</td><td>3.3</td><td>1.7</td><td>0.5</td></tr><tr><th>25</th><td>4.8</td><td>3.4</td><td>1.9</td><td>0.2</td></tr><tr><th>26</th><td>5.0</td><td>3.0</td><td>1.6</td><td>0.2</td></tr><tr><th>27</th><td>5.0</td><td>3.4</td><td>1.6</td><td>0.4</td></tr><tr><th>28</th><td>5.2</td><td>3.5</td><td>1.5</td><td>0.2</td></tr><tr><th>29</th><td>5.2</td><td>3.4</td><td>1.4</td><td>0.2</td></tr><tr><th>30</th><td>4.7</td><td>3.2</td><td>1.6</td><td>0.2</td></tr><tr><th>&vellip;</th><td>&vellip;</td><td>&vellip;</td><td>&vellip;</td><td>&vellip;</td></tr></tbody></table>"
      ],
      "text/latex": [
       "\\begin{tabular}{r|cccc}\n",
       "\t& SepalLength & SepalWidth & PetalLength & PetalWidth\\\\\n",
       "\t\\hline\n",
       "\t& Float64 & Float64 & Float64 & Float64\\\\\n",
       "\t\\hline\n",
       "\t1 & 5.1 & 3.5 & 1.4 & 0.2 \\\\\n",
       "\t2 & 4.9 & 3.0 & 1.4 & 0.2 \\\\\n",
       "\t3 & 4.7 & 3.2 & 1.3 & 0.2 \\\\\n",
       "\t4 & 4.6 & 3.1 & 1.5 & 0.2 \\\\\n",
       "\t5 & 5.0 & 3.6 & 1.4 & 0.2 \\\\\n",
       "\t6 & 5.4 & 3.9 & 1.7 & 0.4 \\\\\n",
       "\t7 & 4.6 & 3.4 & 1.4 & 0.3 \\\\\n",
       "\t8 & 5.0 & 3.4 & 1.5 & 0.2 \\\\\n",
       "\t9 & 4.4 & 2.9 & 1.4 & 0.2 \\\\\n",
       "\t10 & 4.9 & 3.1 & 1.5 & 0.1 \\\\\n",
       "\t11 & 5.4 & 3.7 & 1.5 & 0.2 \\\\\n",
       "\t12 & 4.8 & 3.4 & 1.6 & 0.2 \\\\\n",
       "\t13 & 4.8 & 3.0 & 1.4 & 0.1 \\\\\n",
       "\t14 & 4.3 & 3.0 & 1.1 & 0.1 \\\\\n",
       "\t15 & 5.8 & 4.0 & 1.2 & 0.2 \\\\\n",
       "\t16 & 5.7 & 4.4 & 1.5 & 0.4 \\\\\n",
       "\t17 & 5.4 & 3.9 & 1.3 & 0.4 \\\\\n",
       "\t18 & 5.1 & 3.5 & 1.4 & 0.3 \\\\\n",
       "\t19 & 5.7 & 3.8 & 1.7 & 0.3 \\\\\n",
       "\t20 & 5.1 & 3.8 & 1.5 & 0.3 \\\\\n",
       "\t21 & 5.4 & 3.4 & 1.7 & 0.2 \\\\\n",
       "\t22 & 5.1 & 3.7 & 1.5 & 0.4 \\\\\n",
       "\t23 & 4.6 & 3.6 & 1.0 & 0.2 \\\\\n",
       "\t24 & 5.1 & 3.3 & 1.7 & 0.5 \\\\\n",
       "\t25 & 4.8 & 3.4 & 1.9 & 0.2 \\\\\n",
       "\t26 & 5.0 & 3.0 & 1.6 & 0.2 \\\\\n",
       "\t27 & 5.0 & 3.4 & 1.6 & 0.4 \\\\\n",
       "\t28 & 5.2 & 3.5 & 1.5 & 0.2 \\\\\n",
       "\t29 & 5.2 & 3.4 & 1.4 & 0.2 \\\\\n",
       "\t30 & 4.7 & 3.2 & 1.6 & 0.2 \\\\\n",
       "\t$\\dots$ & $\\dots$ & $\\dots$ & $\\dots$ & $\\dots$ \\\\\n",
       "\\end{tabular}\n"
      ],
      "text/plain": [
       "150×4 DataFrame\n",
       "│ Row │ SepalLength │ SepalWidth │ PetalLength │ PetalWidth │\n",
       "│     │ \u001b[90mFloat64\u001b[39m     │ \u001b[90mFloat64\u001b[39m    │ \u001b[90mFloat64\u001b[39m     │ \u001b[90mFloat64\u001b[39m    │\n",
       "├─────┼─────────────┼────────────┼─────────────┼────────────┤\n",
       "│ 1   │ 5.1         │ 3.5        │ 1.4         │ 0.2        │\n",
       "│ 2   │ 4.9         │ 3.0        │ 1.4         │ 0.2        │\n",
       "│ 3   │ 4.7         │ 3.2        │ 1.3         │ 0.2        │\n",
       "│ 4   │ 4.6         │ 3.1        │ 1.5         │ 0.2        │\n",
       "│ 5   │ 5.0         │ 3.6        │ 1.4         │ 0.2        │\n",
       "│ 6   │ 5.4         │ 3.9        │ 1.7         │ 0.4        │\n",
       "│ 7   │ 4.6         │ 3.4        │ 1.4         │ 0.3        │\n",
       "│ 8   │ 5.0         │ 3.4        │ 1.5         │ 0.2        │\n",
       "│ 9   │ 4.4         │ 2.9        │ 1.4         │ 0.2        │\n",
       "│ 10  │ 4.9         │ 3.1        │ 1.5         │ 0.1        │\n",
       "⋮\n",
       "│ 140 │ 6.9         │ 3.1        │ 5.4         │ 2.1        │\n",
       "│ 141 │ 6.7         │ 3.1        │ 5.6         │ 2.4        │\n",
       "│ 142 │ 6.9         │ 3.1        │ 5.1         │ 2.3        │\n",
       "│ 143 │ 5.8         │ 2.7        │ 5.1         │ 1.9        │\n",
       "│ 144 │ 6.8         │ 3.2        │ 5.9         │ 2.3        │\n",
       "│ 145 │ 6.7         │ 3.3        │ 5.7         │ 2.5        │\n",
       "│ 146 │ 6.7         │ 3.0        │ 5.2         │ 2.3        │\n",
       "│ 147 │ 6.3         │ 2.5        │ 5.0         │ 1.9        │\n",
       "│ 148 │ 6.5         │ 3.0        │ 5.2         │ 2.0        │\n",
       "│ 149 │ 6.2         │ 3.4        │ 5.4         │ 2.3        │\n",
       "│ 150 │ 5.9         │ 3.0        │ 5.1         │ 1.8        │"
      ]
     },
     "execution_count": 17,
     "metadata": {},
     "output_type": "execute_result"
    }
   ],
   "source": [
    "iris[:,1:4]"
   ]
  },
  {
   "cell_type": "code",
   "execution_count": 18,
   "metadata": {},
   "outputs": [
    {
     "data": {
      "text/plain": [
       "1.4"
      ]
     },
     "execution_count": 18,
     "metadata": {},
     "output_type": "execute_result"
    }
   ],
   "source": [
    "iris[:,1:4][2,3]"
   ]
  },
  {
   "cell_type": "code",
   "execution_count": 19,
   "metadata": {},
   "outputs": [
    {
     "data": {
      "text/plain": [
       "150-element Array{String,1}:\n",
       " \"setosa\"   \n",
       " \"setosa\"   \n",
       " \"setosa\"   \n",
       " \"setosa\"   \n",
       " \"setosa\"   \n",
       " \"setosa\"   \n",
       " \"setosa\"   \n",
       " \"setosa\"   \n",
       " \"setosa\"   \n",
       " \"setosa\"   \n",
       " \"setosa\"   \n",
       " \"setosa\"   \n",
       " \"setosa\"   \n",
       " ⋮          \n",
       " \"virginica\"\n",
       " \"virginica\"\n",
       " \"virginica\"\n",
       " \"virginica\"\n",
       " \"virginica\"\n",
       " \"virginica\"\n",
       " \"virginica\"\n",
       " \"virginica\"\n",
       " \"virginica\"\n",
       " \"virginica\"\n",
       " \"virginica\"\n",
       " \"virginica\""
      ]
     },
     "execution_count": 19,
     "metadata": {},
     "output_type": "execute_result"
    }
   ],
   "source": [
    "using DecisionTree #warning Decision Trees have a habit of overfitting the model to the dataset\n",
    "iris =dataset(\"datasets\",\"iris\")\n",
    "features=convert(Array , features)\n",
    "labels=convert( Array , iris[:,5])"
   ]
  },
  {
   "cell_type": "code",
   "execution_count": 20,
   "metadata": {},
   "outputs": [
    {
     "data": {
      "text/plain": [
       "Decision Tree\n",
       "Leaves: 9\n",
       "Depth:  5"
      ]
     },
     "execution_count": 20,
     "metadata": {},
     "output_type": "execute_result"
    }
   ],
   "source": [
    "model=build_tree(labels,features)"
   ]
  },
  {
   "cell_type": "code",
   "execution_count": 21,
   "metadata": {},
   "outputs": [
    {
     "data": {
      "text/plain": [
       "Decision Tree\n",
       "Leaves: 8\n",
       "Depth:  5"
      ]
     },
     "execution_count": 21,
     "metadata": {},
     "output_type": "execute_result"
    }
   ],
   "source": [
    "model=prune_tree(model,0.9)"
   ]
  },
  {
   "cell_type": "code",
   "execution_count": 22,
   "metadata": {},
   "outputs": [
    {
     "name": "stdout",
     "output_type": "stream",
     "text": [
      "Feature 3, Threshold 2.45\n",
      "L-> setosa : 50/50\n",
      "R-> Feature 4, Threshold 1.75\n",
      "    L-> Feature 3, Threshold 4.95\n",
      "        L-> versicolor : 47/48\n",
      "        R-> Feature 4, Threshold 1.55\n",
      "            L-> virginica : 3/3\n",
      "            R-> Feature 1, Threshold 6.95\n",
      "                L-> versicolor : 2/2\n",
      "                R-> virginica : 1/1\n",
      "    R-> Feature 3, Threshold 4.85\n",
      "        L-> Feature 1, Threshold 5.95\n",
      "            L-> versicolor : 1/1\n",
      "            R-> virginica : 2/2\n",
      "        R-> virginica : 43/43\n"
     ]
    }
   ],
   "source": [
    "print_tree(model,5) #5level depth"
   ]
  },
  {
   "cell_type": "code",
   "execution_count": 23,
   "metadata": {},
   "outputs": [
    {
     "data": {
      "text/plain": [
       "\"setosa\""
      ]
     },
     "execution_count": 23,
     "metadata": {},
     "output_type": "execute_result"
    }
   ],
   "source": [
    "apply_tree(model,[5.9,3.0,.1,1.9])"
   ]
  },
  {
   "cell_type": "code",
   "execution_count": 24,
   "metadata": {},
   "outputs": [
    {
     "ename": "MethodError",
     "evalue": "\u001b[91mMethodError: no method matching nfoldCV_tree(::Array{String,1}, ::Array{Float64,2}, ::Float64, ::Int64)\u001b[39m\n\u001b[91m\u001b[0mClosest candidates are:\u001b[39m\n\u001b[91m\u001b[0m  nfoldCV_tree(::Array{T,1}, ::Array{S,2}, \u001b[91m::Integer\u001b[39m) where {S, T} at C:\\Users\\Aymen\\.julia\\packages\\DecisionTree\\PJvXT\\src\\measures.jl:160\u001b[39m\n\u001b[91m\u001b[0m  nfoldCV_tree(::Array{T,1}, ::Array{S,2}, \u001b[91m::Integer\u001b[39m, \u001b[91m::Float64\u001b[39m) where {S, T} at C:\\Users\\Aymen\\.julia\\packages\\DecisionTree\\PJvXT\\src\\measures.jl:160\u001b[39m\n\u001b[91m\u001b[0m  nfoldCV_tree(::Array{T,1}, ::Array{S,2}, \u001b[91m::Integer\u001b[39m, \u001b[91m::Float64\u001b[39m, \u001b[91m::Integer\u001b[39m) where {S, T} at C:\\Users\\Aymen\\.julia\\packages\\DecisionTree\\PJvXT\\src\\measures.jl:160\u001b[39m\n\u001b[91m\u001b[0m  ...\u001b[39m",
     "output_type": "error",
     "traceback": [
      "\u001b[91mMethodError: no method matching nfoldCV_tree(::Array{String,1}, ::Array{Float64,2}, ::Float64, ::Int64)\u001b[39m\n\u001b[91m\u001b[0mClosest candidates are:\u001b[39m\n\u001b[91m\u001b[0m  nfoldCV_tree(::Array{T,1}, ::Array{S,2}, \u001b[91m::Integer\u001b[39m) where {S, T} at C:\\Users\\Aymen\\.julia\\packages\\DecisionTree\\PJvXT\\src\\measures.jl:160\u001b[39m\n\u001b[91m\u001b[0m  nfoldCV_tree(::Array{T,1}, ::Array{S,2}, \u001b[91m::Integer\u001b[39m, \u001b[91m::Float64\u001b[39m) where {S, T} at C:\\Users\\Aymen\\.julia\\packages\\DecisionTree\\PJvXT\\src\\measures.jl:160\u001b[39m\n\u001b[91m\u001b[0m  nfoldCV_tree(::Array{T,1}, ::Array{S,2}, \u001b[91m::Integer\u001b[39m, \u001b[91m::Float64\u001b[39m, \u001b[91m::Integer\u001b[39m) where {S, T} at C:\\Users\\Aymen\\.julia\\packages\\DecisionTree\\PJvXT\\src\\measures.jl:160\u001b[39m\n\u001b[91m\u001b[0m  ...\u001b[39m",
      "",
      "Stacktrace:",
      " [1] top-level scope at In[24]:1"
     ]
    }
   ],
   "source": [
    "#cross-validation\n",
    "accuracy=nfoldCV_tree(labels,features, 0.9,3 ) #90% purity  #3folds\n",
    "\n",
    "\n",
    "#this function has not been maintained in Julia 1.0.5 but after chatting with support and \n",
    "#community members on discord they confirmed that the DecisionTree package will overhauled and the cross validation function \n",
    "#will drop in the upcomming version"
   ]
  },
  {
   "cell_type": "code",
   "execution_count": 25,
   "metadata": {},
   "outputs": [
    {
     "ename": "UndefVarError",
     "evalue": "\u001b[91mUndefVarError: Test not defined\u001b[39m",
     "output_type": "error",
     "traceback": [
      "\u001b[91mUndefVarError: Test not defined\u001b[39m",
      "",
      "Stacktrace:",
      " [1] top-level scope at In[25]:1"
     ]
    }
   ],
   "source": [
    "using Base.Test\n",
    "@test mean(accuracy)"
   ]
  },
  {
   "cell_type": "code",
   "execution_count": 26,
   "metadata": {},
   "outputs": [
    {
     "data": {
      "text/plain": [
       "(Ensemble of Decision Trees\n",
       "Trees:      10\n",
       "Avg Leaves: 2.0\n",
       "Avg Depth:  1.0, [0.346574, 0.255413, 0.264577, 0.335749, 0.288846, 0.258287, 0.356882, 0.298766, 0.242485, 0.349976])"
      ]
     },
     "execution_count": 26,
     "metadata": {},
     "output_type": "execute_result"
    }
   ],
   "source": [
    "#improve performance by using Adaptive_boosted Decisions Stumps Classifier\n",
    "model,coeffs=build_adaboost_stumps(labels,features,10)"
   ]
  },
  {
   "cell_type": "code",
   "execution_count": 27,
   "metadata": {},
   "outputs": [
    {
     "name": "stdout",
     "output_type": "stream",
     "text": [
      "\n",
      "Fold 1\n",
      "Classes:  "
     ]
    },
    {
     "data": {
      "text/plain": [
       "3×3 Array{Int64,2}:\n",
       " 2  0  0\n",
       " 0  6  0\n",
       " 0  0  7"
      ]
     },
     "metadata": {},
     "output_type": "display_data"
    },
    {
     "name": "stdout",
     "output_type": "stream",
     "text": [
      "[\"setosa\", \"versicolor\", \"virginica\"]\n",
      "Matrix:   "
     ]
    },
    {
     "data": {
      "text/plain": [
       "3×3 Array{Int64,2}:\n",
       " 6  0  0\n",
       " 0  2  1\n",
       " 0  1  5"
      ]
     },
     "metadata": {},
     "output_type": "display_data"
    },
    {
     "name": "stdout",
     "output_type": "stream",
     "text": [
      "\n",
      "Accuracy: 1.0\n",
      "Kappa:    1.0\n",
      "\n",
      "Fold 2\n",
      "Classes:  [\"setosa\", \"versicolor\", \"virginica\"]\n",
      "Matrix:   \n",
      "Accuracy: 0.8666666666666667\n",
      "Kappa:    0.7916666666666667\n",
      "\n",
      "Fold 3\n",
      "Classes:  [\"setosa\", \""
     ]
    },
    {
     "data": {
      "text/plain": [
       "3×3 Array{Int64,2}:\n",
       " 6  0  0\n",
       " 0  5  0\n",
       " 0  0  4"
      ]
     },
     "metadata": {},
     "output_type": "display_data"
    },
    {
     "data": {
      "text/plain": [
       "3×3 Array{Int64,2}:\n",
       " 4  0  0\n",
       " 0  4  0\n",
       " 0  1  6"
      ]
     },
     "metadata": {},
     "output_type": "display_data"
    },
    {
     "data": {
      "text/plain": [
       "3×3 Array{Int64,2}:\n",
       " 5  0  0\n",
       " 0  5  0\n",
       " 0  2  3"
      ]
     },
     "metadata": {},
     "output_type": "display_data"
    },
    {
     "name": "stdout",
     "output_type": "stream",
     "text": [
      "versicolor\", \"virginica\"]\n",
      "Matrix:   \n",
      "Accuracy: 1.0\n",
      "Kappa:    1.0\n",
      "\n",
      "Fold 4\n",
      "Classes:  [\"setosa\", \"versicolor\", \"virginica\"]\n",
      "Matrix:   \n",
      "Accuracy: 0.9333333333333333\n",
      "Kappa:    0.8979591836734694\n",
      "\n",
      "Fold 5\n",
      "Classes:  [\"setosa\", \"versicolor\", \"virginica\"]\n",
      "Matrix:   \n",
      "Accuracy: 0.8666666666666667\n",
      "Kappa:    0.8\n",
      "\n",
      "Fold 6\n",
      "Classes:  [\"setosa\", \"ver"
     ]
    },
    {
     "data": {
      "text/plain": [
       "3×3 Array{Int64,2}:\n",
       " 5  0  0\n",
       " 0  5  0\n",
       " 0  0  5"
      ]
     },
     "metadata": {},
     "output_type": "display_data"
    },
    {
     "name": "stdout",
     "output_type": "stream",
     "text": [
      "sicolor\", \"virginica\"]\n",
      "Matrix:   \n",
      "Accuracy: 1.0\n",
      "Kappa:    1.0\n",
      "\n",
      "Fold 7\n",
      "Classes:  [\"setosa\", \"versicolor\", \""
     ]
    },
    {
     "data": {
      "text/plain": [
       "3×3 Array{Int64,2}:\n",
       " 5  0  0\n",
       " 0  7  0\n",
       " 0  1  2"
      ]
     },
     "metadata": {},
     "output_type": "display_data"
    },
    {
     "data": {
      "text/plain": [
       "3×3 Array{Int64,2}:\n",
       " 8  0  0\n",
       " 0  2  1\n",
       " 0  0  4"
      ]
     },
     "metadata": {},
     "output_type": "display_data"
    },
    {
     "name": "stdout",
     "output_type": "stream",
     "text": [
      "virginica\"]\n",
      "Matrix:   \n",
      "Accuracy: 0.9333333333333333\n",
      "Kappa:    0.8913043478260869\n",
      "\n",
      "Fold 8\n",
      "Classes:  [\"setosa\", \"versicolor\", \"virginica\"]\n",
      "Matrix:   \n",
      "Accuracy: 0.9333333333333333\n",
      "Kappa:    0.888888888888889\n",
      "\n",
      "Fold 9\n",
      "Classes:  [\"setosa\", \"versicolor\", \"virgi"
     ]
    },
    {
     "data": {
      "text/plain": [
       "3×3 Array{Int64,2}:\n",
       " 3  0  0\n",
       " 0  6  0\n",
       " 0  2  4"
      ]
     },
     "metadata": {},
     "output_type": "display_data"
    },
    {
     "data": {
      "text/plain": [
       "3×3 Array{Int64,2}:\n",
       " 6  0  0\n",
       " 0  5  1\n",
       " 0  0  3"
      ]
     },
     "metadata": {},
     "output_type": "display_data"
    },
    {
     "name": "stdout",
     "output_type": "stream",
     "text": [
      "nica\"]\n",
      "Matrix:   \n",
      "Accuracy: 0.8666666666666667\n",
      "Kappa:    0.7916666666666667\n",
      "\n",
      "Fold 10\n",
      "Classes:  [\"setosa\", \"versicolor\", \"virginica\"]\n",
      "Matrix:   \n",
      "Accuracy: 0.9333333333333333\n",
      "Kappa:    0.8979591836734694\n",
      "\n",
      "Mean Accuracy: 0.9333333333333333\n"
     ]
    },
    {
     "data": {
      "text/plain": [
       "10-element Array{Float64,1}:\n",
       " 1.0               \n",
       " 0.8666666666666667\n",
       " 1.0               \n",
       " 0.9333333333333333\n",
       " 0.8666666666666667\n",
       " 1.0               \n",
       " 0.9333333333333333\n",
       " 0.9333333333333333\n",
       " 0.8666666666666667\n",
       " 0.9333333333333333"
      ]
     },
     "execution_count": 27,
     "metadata": {},
     "output_type": "execute_result"
    }
   ],
   "source": [
    "accuracy=nfoldCV_stumps(labels,features, 10 ,3 ) #3folds\n",
    "#in this specific dataset the boosting technique gives us no improvement probably due to outliers or other problems"
   ]
  },
  {
   "cell_type": "markdown",
   "metadata": {},
   "source": [
    "Using a Random Forest Classifier \n",
    "\n",
    "to create multiple trees and ouputting a class and it's the mean prediction of the trees' ouputs"
   ]
  },
  {
   "cell_type": "code",
   "execution_count": 28,
   "metadata": {},
   "outputs": [
    {
     "data": {
      "text/plain": [
       "Ensemble of Decision Trees\n",
       "Trees:      10\n",
       "Avg Leaves: 6.9\n",
       "Avg Depth:  4.6"
      ]
     },
     "execution_count": 28,
     "metadata": {},
     "output_type": "execute_result"
    }
   ],
   "source": [
    "model=build_forest(labels,features,2,10,0.5) \n",
    "#2 random features #10 trees  #0.5 of samples per tree\n",
    "#accuracy rising"
   ]
  },
  {
   "cell_type": "code",
   "execution_count": null,
   "metadata": {},
   "outputs": [],
   "source": []
  }
 ],
 "metadata": {
  "kernelspec": {
   "display_name": "Julia 1.0.5",
   "language": "julia",
   "name": "julia-1.0"
  },
  "language_info": {
   "file_extension": ".jl",
   "mimetype": "application/julia",
   "name": "julia",
   "version": "1.0.5"
  }
 },
 "nbformat": 4,
 "nbformat_minor": 4
}
