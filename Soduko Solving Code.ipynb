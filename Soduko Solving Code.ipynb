{
 "cells": [
  {
   "cell_type": "markdown",
   "metadata": {},
   "source": [
    "**Note : I am not claiming to have coded this myself but in fact I'm experimenting and trying to understand the steps one by one by changing up the arguments and reading the documentation of functions used with only purpose of learning and feeding my curiosity**\n",
    "the Original Article :\n",
    "https://www.analyticsvidhya.com/blog/2021/05/solving-sudoku-from-image-using-deep-learning-with-python-code/\n",
    "the author's mail and LinkedIn : \n",
    "Email id: gakshay1210@gmail.com \n",
    "LinkedIn:https://www.linkedin.com/in/akshay-gupta-944aa714a/"
   ]
  },
  {
   "cell_type": "markdown",
   "metadata": {},
   "source": [
    "# **Part 1: Digit Classification Model**"
   ]
  },
  {
   "cell_type": "markdown",
   "metadata": {},
   "source": [
    "**IMPORTING LIBRARIES**"
   ]
  },
  {
   "cell_type": "code",
   "execution_count": null,
   "metadata": {},
   "outputs": [],
   "source": [
    "import numpy as np \n",
    "import pandas as pd\n",
    "import seaborn as sns\n",
    "import matplotlib.pyplot as plt\n",
    "import os, random\n",
    "import cv2\n",
    "from glob import glob\n",
    "import sklearn\n",
    "from sklearn.model_selection import train_test_split\n",
    "import tensorflow as tf\n",
    "from tensorflow import keras\n",
    "from tensorflow.keras.preprocessing.image import ImageDataGenerator\n",
    "from keras.preprocessing.image import ImageDataGenerator, load_img\n",
    "from keras.utils.np_utils import to_categorical\n",
    "from tensorflow.keras.models import Sequential\n",
    "from tensorflow.keras.layers import Activation, Dropout, Dense, Flatten, BatchNormalization, Conv2D, MaxPooling2D\n",
    "from tensorflow.keras.optimizers import RMSprop\n",
    "from tensorflow.keras import backend as K\n",
    "from tensorflow.keras.preprocessing import image\n",
    "from sklearn.metrics import accuracy_score, classification_report\n",
    "from pathlib import Path\n",
    "from PIL import Image"
   ]
  },
  {
   "cell_type": "markdown",
   "metadata": {},
   "source": [
    "**Loading Data**"
   ]
  },
  {
   "cell_type": "code",
   "execution_count": null,
   "metadata": {},
   "outputs": [],
   "source": [
    "#Loading the data \n",
    "data = os.listdir(\"digits/Digits\" )\n",
    "data_X = []     \n",
    "data_y = []  \n",
    "data_classes = len(data)\n",
    "for i in range (0,data_classes):\n",
    "data_list = os.listdir(\"digits/Digits\" +\"/\"+str(i))\n",
    "    for j in data_list:\n",
    "pic = cv2.imread(\"digits/Digits\" +\"/\"+str(i)+\"/\"+j)\n",
    "pic = cv2.resize(pic,(32,32))\n",
    "data_X.append(pic)\n",
    "data_y.append(i)\n",
    "if len(data_X) == len(data_y) :\n",
    "print(\"Total Dataponits = \",len(data_X))\n",
    "# Labels and images\n",
    "data_X = np.array(data_X)\n",
    "data_y = np.array(data_y)"
   ]
  },
  {
   "cell_type": "markdown",
   "metadata": {},
   "source": [
    "**Splitting the Dataset**"
   ]
  },
  {
   "cell_type": "code",
   "execution_count": null,
   "metadata": {},
   "outputs": [],
   "source": [
    "#Spliting the train validation and test sets\n",
    "train_X, test_X, train_y, test_y = train_test_split(data_X,data_y,test_size=0.05)\n",
    "train_X, valid_X, train_y, valid_y = train_test_split(train_X,train_y,test_size=0.2)\n",
    "print(\"Training Set Shape = \",train_X.shape)\n",
    "print(\"Validation Set Shape = \",valid_X.shape)\n",
    "print(\"Test Set Shape = \",test_X.shape)"
   ]
  },
  {
   "cell_type": "markdown",
   "metadata": {},
   "source": [
    "**Preprocessing the images for neural net**"
   ]
  },
  {
   "cell_type": "code",
   "execution_count": null,
   "metadata": {},
   "outputs": [],
   "source": [
    "def Prep(img):\n",
    "img = cv2.cvtColor(img,cv2.COLOR_BGR2GRAY) #making image grayscale\n",
    "img = cv2.equalizeHist(img) #Histogram equalization to enhance contrast\n",
    "img = img/255 #normalizing\n",
    "    return img\n",
    "train_X = np.array(list(map(Prep, train_X)))\n",
    "test_X = np.array(list(map(Prep, test_X)))\n",
    "valid_X= np.array(list(map(Prep, valid_X)))\n",
    "#Reshaping the images\n",
    "train_X = train_X.reshape(train_X.shape[0], train_X.shape[1], train_X.shape[2],1)\n",
    "test_X = test_X.reshape(test_X.shape[0], test_X.shape[1], test_X.shape[2],1)\n",
    "valid_X = valid_X.reshape(valid_X.shape[0], valid_X.shape[1], valid_X.shape[2],1)\n",
    "#Augmentation\n",
    "datagen = ImageDataGenerator(width_shift_range=0.1, height_shift_range=0.1, zoom_range=0.2, shear_range=0.1, rotation_range=10)\n",
    "datagen.fit(train_X)"
   ]
  },
  {
   "cell_type": "markdown",
   "metadata": {},
   "source": [
    "**Encoding**"
   ]
  },
  {
   "cell_type": "code",
   "execution_count": null,
   "metadata": {},
   "outputs": [],
   "source": [
    "train_y = to_categorical(train_y, data_classes)\n",
    "test_y = to_categorical(test_y, data_classes)\n",
    "valid_y = to_categorical(valid_y, data_classes)"
   ]
  },
  {
   "cell_type": "markdown",
   "metadata": {},
   "source": [
    "**MODEL BUILDING**"
   ]
  },
  {
   "cell_type": "code",
   "execution_count": null,
   "metadata": {},
   "outputs": [],
   "source": [
    "#Creating a Neural Network\n",
    "model = Sequential()\n",
    "model.add((Conv2D(60,(5,5),input_shape=(32, 32, 1) ,padding = 'Same' ,activation='relu')))\n",
    "model.add((Conv2D(60, (5,5),padding=\"same\",activation='relu')))\n",
    "model.add(MaxPooling2D(pool_size=(2,2)))\n",
    "#model.add(Dropout(0.25))\n",
    "model.add((Conv2D(30, (3,3),padding=\"same\", activation='relu')))\n",
    "model.add((Conv2D(30, (3,3), padding=\"same\", activation='relu')))\n",
    "model.add(MaxPooling2D(pool_size=(2,2), strides=(2,2)))\n",
    "model.add(Dropout(0.5))\n",
    "model.add(Flatten())\n",
    "model.add(Dense(500,activation='relu'))\n",
    "model.add(Dropout(0.5))\n",
    "model.add(Dense(10, activation='softmax'))\n",
    "model.summary()"
   ]
  },
  {
   "cell_type": "code",
   "execution_count": null,
   "metadata": {},
   "outputs": [],
   "source": [
    "#Compiling the model\n",
    "optimizer = RMSprop(lr=0.001, rho=0.9, epsilon = 1e-08, decay=0.0)\n",
    "model.compile(optimizer=optimizer,loss='categorical_crossentropy',metrics=['accuracy'])\n",
    "#Fit the model\n",
    "history = model.fit(datagen.flow(train_X, train_y, batch_size=32),\n",
    "                              epochs = 30, validation_data = (valid_X, valid_y),\n",
    "                              verbose = 2, steps_per_epoch= 200)\n",
    "\n",
    "# Testing the model on the test set\n",
    "score = model.evaluate(test_X, test_y, verbose=0)\n",
    "print('Test Score = ',score[0])\n",
    "print('Test Accuracy =', score[1])"
   ]
  },
  {
   "cell_type": "markdown",
   "metadata": {},
   "source": [
    "# **Part 2: Reading and Detecting the Sudoku From an Image**"
   ]
  },
  {
   "cell_type": "markdown",
   "metadata": {},
   "source": [
    "**READING THE SUDOKU PUZZLE**"
   ]
  },
  {
   "cell_type": "code",
   "execution_count": null,
   "metadata": {},
   "outputs": [],
   "source": [
    "# Randomly select an image from the dataset \n",
    "folder=\"sudoku-box-detection/aug\"\n",
    "a=random.choice(os.listdir(folder))\n",
    "print(a)\n",
    "sudoku_a = cv2.imread(folder+'/'+a)\n",
    "plt.figure()\n",
    "plt.imshow(sudoku_a)\n",
    "plt.show()"
   ]
  },
  {
   "cell_type": "markdown",
   "metadata": {},
   "source": [
    "**Preprocess the image for further analysis**"
   ]
  },
  {
   "cell_type": "code",
   "execution_count": null,
   "metadata": {},
   "outputs": [],
   "source": [
    "#Preprocessing image to be read\n",
    "sudoku_a = cv2.resize(sudoku_a, (450,450))\n",
    "# function to greyscale, blur and change the receptive threshold of image\n",
    "def preprocess(image):\n",
    "gray = cv2.cvtColor(image, cv2.COLOR_BGR2GRAY) \n",
    "blur = cv2.GaussianBlur(gray, (3,3),6) \n",
    "    #blur = cv2.bilateralFilter(gray,9,75,75)\n",
    "threshold_img = cv2.adaptiveThreshold(blur,255,1,1,11,2)\n",
    "    return threshold_img\n",
    "threshold = preprocess(sudoku_a)\n",
    "#let's look at what we have got\n",
    "plt.figure()\n",
    "plt.imshow(threshold)\n",
    "plt.show()"
   ]
  },
  {
   "cell_type": "markdown",
   "metadata": {},
   "source": [
    "**DETECTING CONTOUR**"
   ]
  },
  {
   "cell_type": "code",
   "execution_count": null,
   "metadata": {},
   "outputs": [],
   "source": [
    "# Finding the outline of the sudoku puzzle in the image\n",
    "contour_1 = sudoku_a.copy()\n",
    "contour_2 = sudoku_a.copy()\n",
    "contour, hierarchy = cv2.findContours(threshold,cv2.RETR_EXTERNAL,cv2.CHAIN_APPROX_SIMPLE)\n",
    "cv2.drawContours(contour_1, contour,-1,(0,255,0),3)\n",
    "#let's see what we got\n",
    "plt.figure()\n",
    "plt.imshow(contour_1)\n",
    "plt.show()"
   ]
  },
  {
   "cell_type": "code",
   "execution_count": null,
   "metadata": {},
   "outputs": [],
   "source": [
    "#return the cropped image right side up\n",
    "def main_outline(contour):\n",
    "biggest = np.array([])\n",
    "max_area = 0\n",
    "    for i in contour:\n",
    "area = cv2.contourArea(i)\n",
    "        if area >50:\n",
    "peri = cv2.arcLength(i, True)\n",
    "approx = cv2.approxPolyDP(i , 0.02* peri, True)\n",
    "            if area > max_area and len(approx) ==4:\n",
    "biggest = approx\n",
    "max_area = area\n",
    "    return biggest ,max_area\n",
    "def reframe(points):\n",
    "points = points.reshape((4, 2))\n",
    "points_new = np.zeros((4,1,2),dtype = np.int32)\n",
    "add = points.sum(1)\n",
    "points_new[0] = points[np.argmin(add)]\n",
    "points_new[3] = points[np.argmax(add)]\n",
    "diff = np.diff(points, axis =1)\n",
    "points_new[1] = points[np.argmin(diff)]\n",
    "points_new[2] = points[np.argmax(diff)]\n",
    "    return points_new\n",
    "def splitcells(img):\n",
    "rows = np.vsplit(img,9)\n",
    "boxes = []\n",
    "    for r in rows:\n",
    "cols = np.hsplit(r,9)\n",
    "        for box in cols:\n",
    "boxes.append(box)\n",
    "    return boxes\n",
    "black_img = np.zeros((450,450,3), np.uint8)\n",
    "biggest, maxArea = main_outline(contour)\n",
    "if biggest.size != 0:\n",
    "biggest = reframe(biggest)\n",
    "cv2.drawContours(contour_2,biggest,-1, (0,255,0),10)\n",
    "pts1 = np.float32(biggest)\n",
    "pts2 = np.float32([[0,0],[450,0],[0,450],[450,450]])\n",
    "matrix = cv2.getPerspectiveTransform(pts1,pts2)\n",
    "  imagewrap = cv2.warpPerspective(sudoku_a,matrix,(450,450))\n",
    "imagewrap =cv2.cvtColor(imagewrap, cv2.COLOR_BGR2GRAY)\n",
    "plt.figure()\n",
    "plt.imshow(imagewrap)\n",
    "plt.show()"
   ]
  },
  {
   "cell_type": "markdown",
   "metadata": {},
   "source": [
    "**Importing puzzle to be solved**"
   ]
  },
  {
   "cell_type": "code",
   "execution_count": null,
   "metadata": {},
   "outputs": [],
   "source": [
    "# Importing puzzle to be solved\n",
    "puzzle = cv2.imread(\"su-puzzle/su.jpg\")\n",
    "#let's see what we got\n",
    "plt.figure()\n",
    "plt.imshow(puzzle)\n",
    "plt.show()"
   ]
  },
  {
   "cell_type": "markdown",
   "metadata": {},
   "source": [
    "**Finding the outline**"
   ]
  },
  {
   "cell_type": "code",
   "execution_count": null,
   "metadata": {},
   "outputs": [],
   "source": [
    "# Finding the outline of the sudoku puzzle in the image\n",
    "su_contour_1= su_puzzle.copy()\n",
    "su_contour_2= sudoku_a.copy()\n",
    "su_contour, hierarchy = cv2.findContours(su_puzzle,cv2.RETR_EXTERNAL,cv2.CHAIN_APPROX_SIMPLE)\n",
    "cv2.drawContours(su_contour_1, su_contour,-1,(0,255,0),3)\n",
    "black_img = np.zeros((450,450,3), np.uint8)\n",
    "su_biggest, su_maxArea = main_outline(su_contour)\n",
    "if su_biggest.size != 0:\n",
    "su_biggest = reframe(su_biggest)\n",
    "cv2.drawContours(su_contour_2,su_biggest,-1, (0,255,0),10)\n",
    "su_pts1 = np.float32(su_biggest)\n",
    "su_pts2 = np.float32([[0,0],[450,0],[0,450],[450,450]])\n",
    "su_matrix = cv2.getPerspectiveTransform(su_pts1,su_pts2)  \n",
    "su_imagewrap = cv2.warpPerspective(puzzle,su_matrix,(450,450))\n",
    "su_imagewrap =cv2.cvtColor(su_imagewrap, cv2.COLOR_BGR2GRAY)\n",
    "plt.figure()\n",
    "plt.imshow(su_imagewrap)\n",
    "plt.show()"
   ]
  },
  {
   "cell_type": "markdown",
   "metadata": {},
   "source": [
    "**SPLITTING THE CELLS AND CLASSIFYING DIGITS**"
   ]
  },
  {
   "cell_type": "code",
   "execution_count": null,
   "metadata": {},
   "outputs": [],
   "source": [
    "sudoku_cell = splitcells(su_imagewrap)\n",
    "#Let's have alook at the last cell\n",
    "plt.figure()\n",
    "plt.imshow(sudoku_cell[58])\n",
    "plt.show()"
   ]
  },
  {
   "cell_type": "code",
   "execution_count": null,
   "metadata": {},
   "outputs": [],
   "source": [
    "def CropCell(cells):\n",
    "Cells_croped = []\n",
    "    for image in cells:\n",
    "img = np.array(image)\n",
    "img = img[4:46, 6:46]\n",
    "img = Image.fromarray(img)\n",
    "Cells_croped.append(img)\n",
    "    return Cells_croped\n",
    "sudoku_cell_croped= CropCell(sudoku_cell)\n",
    "#Let's have alook at the last cell\n",
    "plt.figure()\n",
    "plt.imshow(sudoku_cell_croped[58])\n",
    "plt.show()"
   ]
  },
  {
   "cell_type": "markdown",
   "metadata": {},
   "source": [
    "# Part3: SOLVING THE SODOKU "
   ]
  },
  {
   "cell_type": "code",
   "execution_count": null,
   "metadata": {},
   "outputs": [],
   "source": [
    "# Reshaping the grid to a 9x9 matrix\n",
    "grid = np.reshape(grid,(9,9))\n",
    "grid"
   ]
  },
  {
   "cell_type": "code",
   "execution_count": null,
   "metadata": {},
   "outputs": [],
   "source": [
    "#For compairing \n",
    "plt.figure()\n",
    "plt.imshow(su_imagewrap)\n",
    "plt.show()"
   ]
  },
  {
   "cell_type": "markdown",
   "metadata": {},
   "source": [
    "**solving the sudoku puzzle:**"
   ]
  },
  {
   "cell_type": "code",
   "execution_count": null,
   "metadata": {},
   "outputs": [],
   "source": [
    "def next_box(quiz):\n",
    "    for row in range(9):\n",
    "        for col in range(9):\n",
    "            if quiz\n",
    "[col] == 0:\n",
    "                return (row, col)\n",
    "    return False\n",
    "#Function to fill in the possible values by evaluating rows collumns and smaller cells\n",
    "def possible (quiz,row, col, n):\n",
    "    #global quiz\n",
    "    for i in range (0,9):\n",
    "        if quiz\n",
    "[i] == n and row != i:\n",
    "            return False\n",
    "    for i in range (0,9):\n",
    "        if quiz[i][col] == n and col != i:\n",
    "            return False\n",
    "row0 = (row)//3\n",
    "col0 = (col)//3\n",
    "    for i in range(row0*3, row0*3 + 3):\n",
    "        for j in range(col0*3, col0*3 + 3):\n",
    "            if quiz[i][j]==n and (i,j) != (row, col):\n",
    "                return False\n",
    "    return True\n",
    "#Recursion function to loop over untill a valid answer is found. \n",
    "def solve(quiz):\n",
    "val = next_box(quiz)\n",
    "    if val is False:\n",
    "        return True\n",
    "    else:\n",
    "        row, col = val\n",
    "     for n in range(1,10): #n is the possible solution\n",
    "            if possible(quiz,row, col, n):\n",
    "                quiz[col]=n\n",
    "                if solve(quiz):\n",
    "                    return True \n",
    "                else:\n",
    "                    quiz[col]=0\n",
    "        return \n",
    "def Solved(quiz):\n",
    "    for row in range(9):\n",
    "        if row % 3 == 0 and row != 0:\n",
    "print(\"....................\")\n",
    "        for col in range(9):\n",
    "            if col % 3 == 0 and col != 0:\n",
    "print(\"|\", end=\" \")\n",
    "            if col == 8:\n",
    "print(quiz[col])\n",
    "            else:\n",
    "print(str(quiz[col]) + \" \", end=\"\")"
   ]
  },
  {
   "cell_type": "code",
   "execution_count": null,
   "metadata": {},
   "outputs": [],
   "source": [
    "solve(grid)"
   ]
  },
  {
   "cell_type": "code",
   "execution_count": null,
   "metadata": {},
   "outputs": [],
   "source": [
    "if solve(grid):\n",
    "    Solved(grid)\n",
    "else:\n",
    "    print(\"Solution don't exist. Model misread digits.\")"
   ]
  }
 ],
 "metadata": {
  "kernelspec": {
   "display_name": "p36workshop",
   "language": "python",
   "name": "p36workshop"
  },
  "language_info": {
   "codemirror_mode": {
    "name": "ipython",
    "version": 3
   },
   "file_extension": ".py",
   "mimetype": "text/x-python",
   "name": "python",
   "nbconvert_exporter": "python",
   "pygments_lexer": "ipython3",
   "version": "3.6.10"
  }
 },
 "nbformat": 4,
 "nbformat_minor": 4
}
