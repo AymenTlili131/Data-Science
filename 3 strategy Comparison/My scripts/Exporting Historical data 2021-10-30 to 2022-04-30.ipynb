{
 "cells": [
  {
   "cell_type": "markdown",
   "metadata": {},
   "source": [
    "https://towardsdatascience.com/free-stock-data-for-python-using-yahoo-finance-api-9dafd96cad2e"
   ]
  },
  {
   "cell_type": "code",
   "execution_count": 1,
   "metadata": {},
   "outputs": [
    {
     "name": "stdout",
     "output_type": "stream",
     "text": [
      "Requirement already satisfied: yfinance in c:\\users\\aymen\\.conda\\envs\\p36workshop\\lib\\site-packages (0.1.63)\n",
      "Requirement already satisfied: numpy>=1.15 in c:\\users\\aymen\\.conda\\envs\\p36workshop\\lib\\site-packages (from yfinance) (1.19.5)\n",
      "Requirement already satisfied: requests>=2.20 in c:\\users\\aymen\\.conda\\envs\\p36workshop\\lib\\site-packages (from yfinance) (2.24.0)\n",
      "Requirement already satisfied: pandas>=0.24 in c:\\users\\aymen\\.conda\\envs\\p36workshop\\lib\\site-packages (from yfinance) (1.3.1)\n",
      "Requirement already satisfied: multitasking>=0.0.7 in c:\\users\\aymen\\.conda\\envs\\p36workshop\\lib\\site-packages (from yfinance) (0.0.9)\n",
      "Requirement already satisfied: lxml>=4.5.1 in c:\\users\\aymen\\.conda\\envs\\p36workshop\\lib\\site-packages (from yfinance) (4.6.3)\n",
      "Requirement already satisfied: python-dateutil>=2.7.3 in c:\\users\\aymen\\.conda\\envs\\p36workshop\\lib\\site-packages (from pandas>=0.24->yfinance) (2.8.1)\n",
      "Requirement already satisfied: pytz>=2017.3 in c:\\users\\aymen\\.conda\\envs\\p36workshop\\lib\\site-packages (from pandas>=0.24->yfinance) (2020.1)\n",
      "Requirement already satisfied: six>=1.5 in c:\\users\\aymen\\.conda\\envs\\p36workshop\\lib\\site-packages (from python-dateutil>=2.7.3->pandas>=0.24->yfinance) (1.15.0)\n",
      "Requirement already satisfied: chardet<4,>=3.0.2 in c:\\users\\aymen\\.conda\\envs\\p36workshop\\lib\\site-packages (from requests>=2.20->yfinance) (3.0.4)\n",
      "Requirement already satisfied: idna<3,>=2.5 in c:\\users\\aymen\\.conda\\envs\\p36workshop\\lib\\site-packages (from requests>=2.20->yfinance) (2.10)\n",
      "Requirement already satisfied: urllib3!=1.25.0,!=1.25.1,<1.26,>=1.21.1 in c:\\users\\aymen\\.conda\\envs\\p36workshop\\lib\\site-packages (from requests>=2.20->yfinance) (1.25.9)\n",
      "Requirement already satisfied: certifi>=2017.4.17 in c:\\users\\aymen\\.conda\\envs\\p36workshop\\lib\\site-packages (from requests>=2.20->yfinance) (2021.10.8)\n"
     ]
    }
   ],
   "source": [
    "!pip install yfinance"
   ]
  },
  {
   "cell_type": "code",
   "execution_count": 2,
   "metadata": {},
   "outputs": [],
   "source": [
    "import yfinance as yf\n",
    "Symbol=\"JPYCHF\"\n",
    "JPYCHF = yf.Ticker(\"JPYCHF=X\")\n",
    "\n",
    "# get stock info\n",
    "#print(JPYCHF.info)\n",
    "\n",
    "# get historical market data\n",
    "start_date=\"2021-10-30\"\n",
    "end_date=\"2022-04-30\"\n",
    "hist = JPYCHF.history(start=\"2021-10-30\",end=\"2022-04-30\",interval = \"1h\",\n",
    "                              auto_adjust = True)"
   ]
  },
  {
   "cell_type": "code",
   "execution_count": 3,
   "metadata": {},
   "outputs": [
    {
     "data": {
      "text/html": [
       "<div>\n",
       "<style scoped>\n",
       "    .dataframe tbody tr th:only-of-type {\n",
       "        vertical-align: middle;\n",
       "    }\n",
       "\n",
       "    .dataframe tbody tr th {\n",
       "        vertical-align: top;\n",
       "    }\n",
       "\n",
       "    .dataframe thead th {\n",
       "        text-align: right;\n",
       "    }\n",
       "</style>\n",
       "<table border=\"1\" class=\"dataframe\">\n",
       "  <thead>\n",
       "    <tr style=\"text-align: right;\">\n",
       "      <th></th>\n",
       "      <th>Open</th>\n",
       "      <th>High</th>\n",
       "      <th>Low</th>\n",
       "      <th>Close</th>\n",
       "    </tr>\n",
       "  </thead>\n",
       "  <tbody>\n",
       "    <tr>\n",
       "      <th>2021-11-01 00:00:00+00:00</th>\n",
       "      <td>0.008009</td>\n",
       "      <td>0.008032</td>\n",
       "      <td>0.008008</td>\n",
       "      <td>0.008031</td>\n",
       "    </tr>\n",
       "    <tr>\n",
       "      <th>2021-11-01 01:00:00+00:00</th>\n",
       "      <td>0.008031</td>\n",
       "      <td>0.008031</td>\n",
       "      <td>0.008013</td>\n",
       "      <td>0.008023</td>\n",
       "    </tr>\n",
       "    <tr>\n",
       "      <th>2021-11-01 02:00:00+00:00</th>\n",
       "      <td>0.008024</td>\n",
       "      <td>0.008031</td>\n",
       "      <td>0.008013</td>\n",
       "      <td>0.008028</td>\n",
       "    </tr>\n",
       "    <tr>\n",
       "      <th>2021-11-01 03:00:00+00:00</th>\n",
       "      <td>0.008028</td>\n",
       "      <td>0.008028</td>\n",
       "      <td>0.008014</td>\n",
       "      <td>0.008027</td>\n",
       "    </tr>\n",
       "    <tr>\n",
       "      <th>2021-11-01 04:00:00+00:00</th>\n",
       "      <td>0.008027</td>\n",
       "      <td>0.008027</td>\n",
       "      <td>0.008012</td>\n",
       "      <td>0.008023</td>\n",
       "    </tr>\n",
       "  </tbody>\n",
       "</table>\n",
       "</div>"
      ],
      "text/plain": [
       "                               Open      High       Low     Close\n",
       "2021-11-01 00:00:00+00:00  0.008009  0.008032  0.008008  0.008031\n",
       "2021-11-01 01:00:00+00:00  0.008031  0.008031  0.008013  0.008023\n",
       "2021-11-01 02:00:00+00:00  0.008024  0.008031  0.008013  0.008028\n",
       "2021-11-01 03:00:00+00:00  0.008028  0.008028  0.008014  0.008027\n",
       "2021-11-01 04:00:00+00:00  0.008027  0.008027  0.008012  0.008023"
      ]
     },
     "execution_count": 3,
     "metadata": {},
     "output_type": "execute_result"
    }
   ],
   "source": [
    "hist=hist[[\"Open\",\"High\",\"Low\",\"Close\"]]\n",
    "hist.head()"
   ]
  },
  {
   "cell_type": "code",
   "execution_count": 4,
   "metadata": {},
   "outputs": [
    {
     "data": {
      "text/html": [
       "<div>\n",
       "<style scoped>\n",
       "    .dataframe tbody tr th:only-of-type {\n",
       "        vertical-align: middle;\n",
       "    }\n",
       "\n",
       "    .dataframe tbody tr th {\n",
       "        vertical-align: top;\n",
       "    }\n",
       "\n",
       "    .dataframe thead th {\n",
       "        text-align: right;\n",
       "    }\n",
       "</style>\n",
       "<table border=\"1\" class=\"dataframe\">\n",
       "  <thead>\n",
       "    <tr style=\"text-align: right;\">\n",
       "      <th></th>\n",
       "      <th>Open</th>\n",
       "      <th>High</th>\n",
       "      <th>Low</th>\n",
       "      <th>Close</th>\n",
       "    </tr>\n",
       "  </thead>\n",
       "  <tbody>\n",
       "    <tr>\n",
       "      <th>2022-04-29 19:00:00+01:00</th>\n",
       "      <td>0.007494</td>\n",
       "      <td>0.007504</td>\n",
       "      <td>0.007482</td>\n",
       "      <td>0.007500</td>\n",
       "    </tr>\n",
       "    <tr>\n",
       "      <th>2022-04-29 20:00:00+01:00</th>\n",
       "      <td>0.007492</td>\n",
       "      <td>0.007502</td>\n",
       "      <td>0.007484</td>\n",
       "      <td>0.007485</td>\n",
       "    </tr>\n",
       "    <tr>\n",
       "      <th>2022-04-29 21:00:00+01:00</th>\n",
       "      <td>0.007486</td>\n",
       "      <td>0.007497</td>\n",
       "      <td>0.007479</td>\n",
       "      <td>0.007496</td>\n",
       "    </tr>\n",
       "    <tr>\n",
       "      <th>2022-04-29 22:00:00+01:00</th>\n",
       "      <td>0.007492</td>\n",
       "      <td>0.007492</td>\n",
       "      <td>0.007492</td>\n",
       "      <td>0.007492</td>\n",
       "    </tr>\n",
       "    <tr>\n",
       "      <th>2022-05-26 23:59:00+01:00</th>\n",
       "      <td>0.007526</td>\n",
       "      <td>0.007526</td>\n",
       "      <td>0.007526</td>\n",
       "      <td>0.007526</td>\n",
       "    </tr>\n",
       "  </tbody>\n",
       "</table>\n",
       "</div>"
      ],
      "text/plain": [
       "                               Open      High       Low     Close\n",
       "2022-04-29 19:00:00+01:00  0.007494  0.007504  0.007482  0.007500\n",
       "2022-04-29 20:00:00+01:00  0.007492  0.007502  0.007484  0.007485\n",
       "2022-04-29 21:00:00+01:00  0.007486  0.007497  0.007479  0.007496\n",
       "2022-04-29 22:00:00+01:00  0.007492  0.007492  0.007492  0.007492\n",
       "2022-05-26 23:59:00+01:00  0.007526  0.007526  0.007526  0.007526"
      ]
     },
     "execution_count": 4,
     "metadata": {},
     "output_type": "execute_result"
    }
   ],
   "source": [
    "hist.tail()"
   ]
  },
  {
   "cell_type": "code",
   "execution_count": 5,
   "metadata": {},
   "outputs": [
    {
     "data": {
      "text/plain": [
       "(3089, 4)"
      ]
     },
     "execution_count": 5,
     "metadata": {},
     "output_type": "execute_result"
    }
   ],
   "source": [
    "hist.shape #start=\"2021-10-30\",end=\"2022-04-30\""
   ]
  },
  {
   "cell_type": "code",
   "execution_count": 6,
   "metadata": {},
   "outputs": [],
   "source": [
    "hist.to_csv(r'..\\data\\{Sym}_data_{s}_{e}.csv'.format(Sym=Symbol,s=start_date,e=end_date), index=True)"
   ]
  },
  {
   "cell_type": "code",
   "execution_count": null,
   "metadata": {},
   "outputs": [],
   "source": []
  },
  {
   "cell_type": "code",
   "execution_count": null,
   "metadata": {},
   "outputs": [],
   "source": []
  },
  {
   "cell_type": "code",
   "execution_count": 7,
   "metadata": {},
   "outputs": [],
   "source": [
    "import yfinance as yf\n",
    "Symbol=\"USDEUR\"\n",
    "JPYCHF_2 = yf.Ticker(\"EUR=X\")\n",
    "\n",
    "# get stock info\n",
    "#print(JPYCHF.info)\n",
    "\n",
    "# get historical market data\n",
    "start_date=\"2021-10-30\"\n",
    "end_date=\"2022-04-30\"\n",
    "hist = JPYCHF_2.history(start=\"2021-10-30\",end=\"2022-04-30\",interval = \"1h\",\n",
    "                              auto_adjust = True)"
   ]
  },
  {
   "cell_type": "code",
   "execution_count": 8,
   "metadata": {},
   "outputs": [],
   "source": [
    "hist=hist[[\"Open\",\"High\",\"Low\",\"Close\"]]"
   ]
  },
  {
   "cell_type": "code",
   "execution_count": 9,
   "metadata": {},
   "outputs": [
    {
     "data": {
      "text/plain": [
       "(3082, 4)"
      ]
     },
     "execution_count": 9,
     "metadata": {},
     "output_type": "execute_result"
    }
   ],
   "source": [
    "hist.shape"
   ]
  },
  {
   "cell_type": "code",
   "execution_count": 10,
   "metadata": {},
   "outputs": [],
   "source": [
    "hist.to_csv(r'..\\data\\{Sym}_data_{s}_{e}.csv'.format(Sym=Symbol,s=start_date,e=end_date), index=True)"
   ]
  },
  {
   "cell_type": "code",
   "execution_count": 11,
   "metadata": {},
   "outputs": [
    {
     "data": {
      "text/html": [
       "<div>\n",
       "<style scoped>\n",
       "    .dataframe tbody tr th:only-of-type {\n",
       "        vertical-align: middle;\n",
       "    }\n",
       "\n",
       "    .dataframe tbody tr th {\n",
       "        vertical-align: top;\n",
       "    }\n",
       "\n",
       "    .dataframe thead th {\n",
       "        text-align: right;\n",
       "    }\n",
       "</style>\n",
       "<table border=\"1\" class=\"dataframe\">\n",
       "  <thead>\n",
       "    <tr style=\"text-align: right;\">\n",
       "      <th></th>\n",
       "      <th>Open</th>\n",
       "      <th>High</th>\n",
       "      <th>Low</th>\n",
       "      <th>Close</th>\n",
       "    </tr>\n",
       "  </thead>\n",
       "  <tbody>\n",
       "    <tr>\n",
       "      <th>2022-04-29 19:00:00+01:00</th>\n",
       "      <td>0.9457</td>\n",
       "      <td>0.9463</td>\n",
       "      <td>0.9454</td>\n",
       "      <td>0.9454</td>\n",
       "    </tr>\n",
       "    <tr>\n",
       "      <th>2022-04-29 20:00:00+01:00</th>\n",
       "      <td>0.9461</td>\n",
       "      <td>0.9479</td>\n",
       "      <td>0.9456</td>\n",
       "      <td>0.9477</td>\n",
       "    </tr>\n",
       "    <tr>\n",
       "      <th>2022-04-29 21:00:00+01:00</th>\n",
       "      <td>0.9477</td>\n",
       "      <td>0.9483</td>\n",
       "      <td>0.9474</td>\n",
       "      <td>0.9480</td>\n",
       "    </tr>\n",
       "    <tr>\n",
       "      <th>2022-04-29 22:00:00+01:00</th>\n",
       "      <td>0.9480</td>\n",
       "      <td>0.9480</td>\n",
       "      <td>0.9480</td>\n",
       "      <td>0.9480</td>\n",
       "    </tr>\n",
       "    <tr>\n",
       "      <th>2022-05-26 23:59:00+01:00</th>\n",
       "      <td>0.9312</td>\n",
       "      <td>0.9312</td>\n",
       "      <td>0.9312</td>\n",
       "      <td>0.9312</td>\n",
       "    </tr>\n",
       "  </tbody>\n",
       "</table>\n",
       "</div>"
      ],
      "text/plain": [
       "                             Open    High     Low   Close\n",
       "2022-04-29 19:00:00+01:00  0.9457  0.9463  0.9454  0.9454\n",
       "2022-04-29 20:00:00+01:00  0.9461  0.9479  0.9456  0.9477\n",
       "2022-04-29 21:00:00+01:00  0.9477  0.9483  0.9474  0.9480\n",
       "2022-04-29 22:00:00+01:00  0.9480  0.9480  0.9480  0.9480\n",
       "2022-05-26 23:59:00+01:00  0.9312  0.9312  0.9312  0.9312"
      ]
     },
     "execution_count": 11,
     "metadata": {},
     "output_type": "execute_result"
    }
   ],
   "source": [
    "hist.tail()"
   ]
  },
  {
   "cell_type": "code",
   "execution_count": null,
   "metadata": {},
   "outputs": [],
   "source": []
  },
  {
   "cell_type": "code",
   "execution_count": 12,
   "metadata": {},
   "outputs": [],
   "source": [
    "import yfinance as yf\n",
    "Symbol=\"GBPAUD\"\n",
    "JPYCHF_1 = yf.Ticker(\"GBPAUD=X\")\n",
    "\n",
    "# get stock info\n",
    "#print(JPYCHF.info)\n",
    "\n",
    "# get historical market data\n",
    "start_date=\"2021-10-30\"\n",
    "end_date=\"2022-04-30\"\n",
    "hist = JPYCHF_1.history(start=\"2021-10-30\",end=\"2022-04-30\",interval = \"1h\",\n",
    "                              auto_adjust = True)"
   ]
  },
  {
   "cell_type": "code",
   "execution_count": 13,
   "metadata": {},
   "outputs": [],
   "source": [
    "hist=hist[[\"Open\",\"High\",\"Low\",\"Close\"]]"
   ]
  },
  {
   "cell_type": "code",
   "execution_count": 14,
   "metadata": {},
   "outputs": [
    {
     "data": {
      "text/plain": [
       "(3095, 4)"
      ]
     },
     "execution_count": 14,
     "metadata": {},
     "output_type": "execute_result"
    }
   ],
   "source": [
    "hist.shape"
   ]
  },
  {
   "cell_type": "code",
   "execution_count": 15,
   "metadata": {},
   "outputs": [],
   "source": [
    "hist.to_csv(r'..\\data\\{Sym}_data_{s}_{e}.csv'.format(Sym=Symbol,s=start_date,e=end_date), index=True)"
   ]
  },
  {
   "cell_type": "code",
   "execution_count": 16,
   "metadata": {},
   "outputs": [
    {
     "data": {
      "text/html": [
       "<div>\n",
       "<style scoped>\n",
       "    .dataframe tbody tr th:only-of-type {\n",
       "        vertical-align: middle;\n",
       "    }\n",
       "\n",
       "    .dataframe tbody tr th {\n",
       "        vertical-align: top;\n",
       "    }\n",
       "\n",
       "    .dataframe thead th {\n",
       "        text-align: right;\n",
       "    }\n",
       "</style>\n",
       "<table border=\"1\" class=\"dataframe\">\n",
       "  <thead>\n",
       "    <tr style=\"text-align: right;\">\n",
       "      <th></th>\n",
       "      <th>Open</th>\n",
       "      <th>High</th>\n",
       "      <th>Low</th>\n",
       "      <th>Close</th>\n",
       "    </tr>\n",
       "  </thead>\n",
       "  <tbody>\n",
       "    <tr>\n",
       "      <th>2022-04-29 19:00:00+01:00</th>\n",
       "      <td>1.77567</td>\n",
       "      <td>1.77928</td>\n",
       "      <td>1.77506</td>\n",
       "      <td>1.77894</td>\n",
       "    </tr>\n",
       "    <tr>\n",
       "      <th>2022-04-29 20:00:00+01:00</th>\n",
       "      <td>1.77899</td>\n",
       "      <td>1.78041</td>\n",
       "      <td>1.77733</td>\n",
       "      <td>1.77992</td>\n",
       "    </tr>\n",
       "    <tr>\n",
       "      <th>2022-04-29 21:00:00+01:00</th>\n",
       "      <td>1.77995</td>\n",
       "      <td>1.78175</td>\n",
       "      <td>1.77690</td>\n",
       "      <td>1.78013</td>\n",
       "    </tr>\n",
       "    <tr>\n",
       "      <th>2022-04-29 22:00:00+01:00</th>\n",
       "      <td>1.77982</td>\n",
       "      <td>1.77982</td>\n",
       "      <td>1.77982</td>\n",
       "      <td>1.77982</td>\n",
       "    </tr>\n",
       "    <tr>\n",
       "      <th>2022-05-26 23:59:00+01:00</th>\n",
       "      <td>1.76400</td>\n",
       "      <td>1.76400</td>\n",
       "      <td>1.76400</td>\n",
       "      <td>1.76400</td>\n",
       "    </tr>\n",
       "  </tbody>\n",
       "</table>\n",
       "</div>"
      ],
      "text/plain": [
       "                              Open     High      Low    Close\n",
       "2022-04-29 19:00:00+01:00  1.77567  1.77928  1.77506  1.77894\n",
       "2022-04-29 20:00:00+01:00  1.77899  1.78041  1.77733  1.77992\n",
       "2022-04-29 21:00:00+01:00  1.77995  1.78175  1.77690  1.78013\n",
       "2022-04-29 22:00:00+01:00  1.77982  1.77982  1.77982  1.77982\n",
       "2022-05-26 23:59:00+01:00  1.76400  1.76400  1.76400  1.76400"
      ]
     },
     "execution_count": 16,
     "metadata": {},
     "output_type": "execute_result"
    }
   ],
   "source": [
    "hist.tail()"
   ]
  },
  {
   "cell_type": "code",
   "execution_count": 17,
   "metadata": {},
   "outputs": [],
   "source": [
    "!pip freeze > requirements.txt"
   ]
  },
  {
   "cell_type": "code",
   "execution_count": null,
   "metadata": {},
   "outputs": [],
   "source": []
  }
 ],
 "metadata": {
  "kernelspec": {
   "display_name": "p36workshop",
   "language": "python",
   "name": "p36workshop"
  },
  "language_info": {
   "codemirror_mode": {
    "name": "ipython",
    "version": 3
   },
   "file_extension": ".py",
   "mimetype": "text/x-python",
   "name": "python",
   "nbconvert_exporter": "python",
   "pygments_lexer": "ipython3",
   "version": "3.7.11"
  }
 },
 "nbformat": 4,
 "nbformat_minor": 4
}
