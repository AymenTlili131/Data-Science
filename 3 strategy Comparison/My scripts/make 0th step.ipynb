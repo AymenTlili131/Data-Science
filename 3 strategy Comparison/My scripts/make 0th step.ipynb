{
 "cells": [
  {
   "cell_type": "code",
   "execution_count": 11,
   "metadata": {},
   "outputs": [],
   "source": [
    "import yfinance as yf\n",
    "import pandas as pd\n",
    "import datetime \n",
    "hour = datetime.timedelta(hours=1)\n",
    "Symbol=\"JPYCHF\"\n",
    "JPYCHF = yf.Ticker(\"JPYCHF=X\")\n",
    "\n",
    "# get historical market data\n",
    "start_date_str=\"2022-04-30\"\n",
    "start_date=datetime.datetime.strptime(start_date_str,'%Y-%m-%d').date()\n",
    "hist = JPYCHF.history(start=start_date,interval = \"1h\")\n",
    "hist=hist[[\"Open\",\"High\",\"Low\",\"Close\"]]\n",
    "new_step=hist.head(1)\n"
   ]
  },
  {
   "cell_type": "code",
   "execution_count": null,
   "metadata": {},
   "outputs": [],
   "source": []
  },
  {
   "cell_type": "code",
   "execution_count": 2,
   "metadata": {},
   "outputs": [
    {
     "data": {
      "text/html": [
       "<div>\n",
       "<style scoped>\n",
       "    .dataframe tbody tr th:only-of-type {\n",
       "        vertical-align: middle;\n",
       "    }\n",
       "\n",
       "    .dataframe tbody tr th {\n",
       "        vertical-align: top;\n",
       "    }\n",
       "\n",
       "    .dataframe thead th {\n",
       "        text-align: right;\n",
       "    }\n",
       "</style>\n",
       "<table border=\"1\" class=\"dataframe\">\n",
       "  <thead>\n",
       "    <tr style=\"text-align: right;\">\n",
       "      <th></th>\n",
       "      <th>Open</th>\n",
       "      <th>High</th>\n",
       "      <th>Low</th>\n",
       "      <th>Close</th>\n",
       "    </tr>\n",
       "  </thead>\n",
       "  <tbody>\n",
       "    <tr>\n",
       "      <th>2022-05-02 00:00:00+01:00</th>\n",
       "      <td>0.007468</td>\n",
       "      <td>0.007491</td>\n",
       "      <td>0.007468</td>\n",
       "      <td>0.007488</td>\n",
       "    </tr>\n",
       "  </tbody>\n",
       "</table>\n",
       "</div>"
      ],
      "text/plain": [
       "                               Open      High       Low     Close\n",
       "2022-05-02 00:00:00+01:00  0.007468  0.007491  0.007468  0.007488"
      ]
     },
     "execution_count": 2,
     "metadata": {},
     "output_type": "execute_result"
    }
   ],
   "source": [
    "new_step"
   ]
  },
  {
   "cell_type": "code",
   "execution_count": 14,
   "metadata": {},
   "outputs": [],
   "source": [
    "#read old and make copy of it:\n",
    "old_csv=pd.read_csv(r'../data/JPYCHF_data_2021-10-30_2022-04-30.csv')\n",
    "old_csv.set_index(\"Unnamed: 0\", drop=True, append=False, inplace=True)\n",
    "last_row = len(old_csv) - 1\n",
    "old_csv = old_csv.drop(old_csv.index[last_row])\n",
    "old_csv.to_csv('../data/JPYCHF_step0.csv', mode='a', index=True, header=True)"
   ]
  },
  {
   "cell_type": "code",
   "execution_count": 15,
   "metadata": {},
   "outputs": [
    {
     "data": {
      "text/html": [
       "<div>\n",
       "<style scoped>\n",
       "    .dataframe tbody tr th:only-of-type {\n",
       "        vertical-align: middle;\n",
       "    }\n",
       "\n",
       "    .dataframe tbody tr th {\n",
       "        vertical-align: top;\n",
       "    }\n",
       "\n",
       "    .dataframe thead th {\n",
       "        text-align: right;\n",
       "    }\n",
       "</style>\n",
       "<table border=\"1\" class=\"dataframe\">\n",
       "  <thead>\n",
       "    <tr style=\"text-align: right;\">\n",
       "      <th></th>\n",
       "      <th>Open</th>\n",
       "      <th>High</th>\n",
       "      <th>Low</th>\n",
       "      <th>Close</th>\n",
       "    </tr>\n",
       "    <tr>\n",
       "      <th>Unnamed: 0</th>\n",
       "      <th></th>\n",
       "      <th></th>\n",
       "      <th></th>\n",
       "      <th></th>\n",
       "    </tr>\n",
       "  </thead>\n",
       "  <tbody>\n",
       "    <tr>\n",
       "      <th>2022-04-29 18:00:00+01:00</th>\n",
       "      <td>0.007486</td>\n",
       "      <td>0.007499</td>\n",
       "      <td>0.007479</td>\n",
       "      <td>0.007493</td>\n",
       "    </tr>\n",
       "    <tr>\n",
       "      <th>2022-04-29 19:00:00+01:00</th>\n",
       "      <td>0.007494</td>\n",
       "      <td>0.007504</td>\n",
       "      <td>0.007482</td>\n",
       "      <td>0.007500</td>\n",
       "    </tr>\n",
       "    <tr>\n",
       "      <th>2022-04-29 20:00:00+01:00</th>\n",
       "      <td>0.007492</td>\n",
       "      <td>0.007502</td>\n",
       "      <td>0.007484</td>\n",
       "      <td>0.007485</td>\n",
       "    </tr>\n",
       "    <tr>\n",
       "      <th>2022-04-29 21:00:00+01:00</th>\n",
       "      <td>0.007486</td>\n",
       "      <td>0.007497</td>\n",
       "      <td>0.007479</td>\n",
       "      <td>0.007496</td>\n",
       "    </tr>\n",
       "    <tr>\n",
       "      <th>2022-04-29 22:00:00+01:00</th>\n",
       "      <td>0.007492</td>\n",
       "      <td>0.007492</td>\n",
       "      <td>0.007492</td>\n",
       "      <td>0.007492</td>\n",
       "    </tr>\n",
       "  </tbody>\n",
       "</table>\n",
       "</div>"
      ],
      "text/plain": [
       "                               Open      High       Low     Close\n",
       "Unnamed: 0                                                       \n",
       "2022-04-29 18:00:00+01:00  0.007486  0.007499  0.007479  0.007493\n",
       "2022-04-29 19:00:00+01:00  0.007494  0.007504  0.007482  0.007500\n",
       "2022-04-29 20:00:00+01:00  0.007492  0.007502  0.007484  0.007485\n",
       "2022-04-29 21:00:00+01:00  0.007486  0.007497  0.007479  0.007496\n",
       "2022-04-29 22:00:00+01:00  0.007492  0.007492  0.007492  0.007492"
      ]
     },
     "execution_count": 15,
     "metadata": {},
     "output_type": "execute_result"
    }
   ],
   "source": [
    "old_csv.tail()"
   ]
  },
  {
   "cell_type": "code",
   "execution_count": null,
   "metadata": {},
   "outputs": [],
   "source": []
  },
  {
   "cell_type": "code",
   "execution_count": null,
   "metadata": {},
   "outputs": [],
   "source": []
  },
  {
   "cell_type": "code",
   "execution_count": null,
   "metadata": {},
   "outputs": [],
   "source": []
  },
  {
   "cell_type": "code",
   "execution_count": 5,
   "metadata": {},
   "outputs": [],
   "source": [
    "Symbol=\"USDEUR\"\n",
    "JPYCHF_1 = yf.Ticker(\"EUR=X\")"
   ]
  },
  {
   "cell_type": "code",
   "execution_count": 6,
   "metadata": {},
   "outputs": [],
   "source": [
    "start_date_str=\"2022-04-30\"\n",
    "start_date=datetime.datetime.strptime(start_date_str,'%Y-%m-%d').date()\n",
    "hist = JPYCHF_1.history(start=start_date,interval = \"1h\")\n",
    "hist=hist[[\"Open\",\"High\",\"Low\",\"Close\"]]\n",
    "new_step=hist.head(1)"
   ]
  },
  {
   "cell_type": "code",
   "execution_count": 7,
   "metadata": {},
   "outputs": [],
   "source": [
    "#read old and make copy of it:\n",
    "old_csv=pd.read_csv(r'../data/USDEUR_data_2021-10-30_2022-04-30.csv')\n",
    "old_csv.set_index(\"Unnamed: 0\", drop=True, append=False, inplace=True)\n",
    "last_row = len(old_csv) - 1\n",
    "old_csv = old_csv.drop(old_csv.index[last_row])\n",
    "old_csv.to_csv('../data/USDEUR_step0.csv', mode='a', index=True, header=True)\n"
   ]
  },
  {
   "cell_type": "code",
   "execution_count": 8,
   "metadata": {},
   "outputs": [
    {
     "data": {
      "text/html": [
       "<div>\n",
       "<style scoped>\n",
       "    .dataframe tbody tr th:only-of-type {\n",
       "        vertical-align: middle;\n",
       "    }\n",
       "\n",
       "    .dataframe tbody tr th {\n",
       "        vertical-align: top;\n",
       "    }\n",
       "\n",
       "    .dataframe thead th {\n",
       "        text-align: right;\n",
       "    }\n",
       "</style>\n",
       "<table border=\"1\" class=\"dataframe\">\n",
       "  <thead>\n",
       "    <tr style=\"text-align: right;\">\n",
       "      <th></th>\n",
       "      <th>Open</th>\n",
       "      <th>High</th>\n",
       "      <th>Low</th>\n",
       "      <th>Close</th>\n",
       "    </tr>\n",
       "    <tr>\n",
       "      <th>Unnamed: 0</th>\n",
       "      <th></th>\n",
       "      <th></th>\n",
       "      <th></th>\n",
       "      <th></th>\n",
       "    </tr>\n",
       "  </thead>\n",
       "  <tbody>\n",
       "    <tr>\n",
       "      <th>2022-04-29 18:00:00+01:00</th>\n",
       "      <td>0.9477</td>\n",
       "      <td>0.9477</td>\n",
       "      <td>0.9449</td>\n",
       "      <td>0.9452</td>\n",
       "    </tr>\n",
       "    <tr>\n",
       "      <th>2022-04-29 19:00:00+01:00</th>\n",
       "      <td>0.9457</td>\n",
       "      <td>0.9463</td>\n",
       "      <td>0.9454</td>\n",
       "      <td>0.9454</td>\n",
       "    </tr>\n",
       "    <tr>\n",
       "      <th>2022-04-29 20:00:00+01:00</th>\n",
       "      <td>0.9461</td>\n",
       "      <td>0.9479</td>\n",
       "      <td>0.9456</td>\n",
       "      <td>0.9477</td>\n",
       "    </tr>\n",
       "    <tr>\n",
       "      <th>2022-04-29 21:00:00+01:00</th>\n",
       "      <td>0.9477</td>\n",
       "      <td>0.9483</td>\n",
       "      <td>0.9474</td>\n",
       "      <td>0.9480</td>\n",
       "    </tr>\n",
       "    <tr>\n",
       "      <th>2022-04-29 22:00:00+01:00</th>\n",
       "      <td>0.9480</td>\n",
       "      <td>0.9480</td>\n",
       "      <td>0.9480</td>\n",
       "      <td>0.9480</td>\n",
       "    </tr>\n",
       "  </tbody>\n",
       "</table>\n",
       "</div>"
      ],
      "text/plain": [
       "                             Open    High     Low   Close\n",
       "Unnamed: 0                                               \n",
       "2022-04-29 18:00:00+01:00  0.9477  0.9477  0.9449  0.9452\n",
       "2022-04-29 19:00:00+01:00  0.9457  0.9463  0.9454  0.9454\n",
       "2022-04-29 20:00:00+01:00  0.9461  0.9479  0.9456  0.9477\n",
       "2022-04-29 21:00:00+01:00  0.9477  0.9483  0.9474  0.9480\n",
       "2022-04-29 22:00:00+01:00  0.9480  0.9480  0.9480  0.9480"
      ]
     },
     "execution_count": 8,
     "metadata": {},
     "output_type": "execute_result"
    }
   ],
   "source": [
    "old_csv.tail()"
   ]
  },
  {
   "cell_type": "code",
   "execution_count": null,
   "metadata": {},
   "outputs": [],
   "source": []
  },
  {
   "cell_type": "code",
   "execution_count": null,
   "metadata": {},
   "outputs": [],
   "source": []
  },
  {
   "cell_type": "code",
   "execution_count": null,
   "metadata": {},
   "outputs": [],
   "source": []
  },
  {
   "cell_type": "code",
   "execution_count": null,
   "metadata": {},
   "outputs": [],
   "source": []
  },
  {
   "cell_type": "code",
   "execution_count": null,
   "metadata": {},
   "outputs": [],
   "source": []
  },
  {
   "cell_type": "code",
   "execution_count": 9,
   "metadata": {},
   "outputs": [],
   "source": [
    "Symbol=\"GBPAUD\"\n",
    "JPYCHF_2 = yf.Ticker(\"GBPAUD=X\")\n",
    "start_date_str=\"2022-04-30\"\n",
    "start_date=datetime.datetime.strptime(start_date_str,'%Y-%m-%d').date()\n",
    "hist = JPYCHF_2.history(start=start_date,interval = \"1h\")\n",
    "hist=hist[[\"Open\",\"High\",\"Low\",\"Close\"]]\n",
    "new_step=hist.head(1)\n",
    "#read old and make copy of it:\n",
    "old_csv=pd.read_csv(r'../data/GBPAUD_data_2021-10-30_2022-04-30.csv')\n",
    "old_csv.set_index(\"Unnamed: 0\", drop=True, append=False, inplace=True)\n",
    "last_row = len(old_csv) - 1\n",
    "old_csv = old_csv.drop(old_csv.index[last_row])\n",
    "old_csv.to_csv('../data/GBPAUD_step0.csv', mode='a', index=True, header=True)"
   ]
  },
  {
   "cell_type": "code",
   "execution_count": 10,
   "metadata": {},
   "outputs": [
    {
     "data": {
      "text/html": [
       "<div>\n",
       "<style scoped>\n",
       "    .dataframe tbody tr th:only-of-type {\n",
       "        vertical-align: middle;\n",
       "    }\n",
       "\n",
       "    .dataframe tbody tr th {\n",
       "        vertical-align: top;\n",
       "    }\n",
       "\n",
       "    .dataframe thead th {\n",
       "        text-align: right;\n",
       "    }\n",
       "</style>\n",
       "<table border=\"1\" class=\"dataframe\">\n",
       "  <thead>\n",
       "    <tr style=\"text-align: right;\">\n",
       "      <th></th>\n",
       "      <th>Open</th>\n",
       "      <th>High</th>\n",
       "      <th>Low</th>\n",
       "      <th>Close</th>\n",
       "    </tr>\n",
       "    <tr>\n",
       "      <th>Unnamed: 0</th>\n",
       "      <th></th>\n",
       "      <th></th>\n",
       "      <th></th>\n",
       "      <th></th>\n",
       "    </tr>\n",
       "  </thead>\n",
       "  <tbody>\n",
       "    <tr>\n",
       "      <th>2022-04-29 18:00:00+01:00</th>\n",
       "      <td>1.77544</td>\n",
       "      <td>1.77717</td>\n",
       "      <td>1.77406</td>\n",
       "      <td>1.77567</td>\n",
       "    </tr>\n",
       "    <tr>\n",
       "      <th>2022-04-29 19:00:00+01:00</th>\n",
       "      <td>1.77567</td>\n",
       "      <td>1.77928</td>\n",
       "      <td>1.77506</td>\n",
       "      <td>1.77894</td>\n",
       "    </tr>\n",
       "    <tr>\n",
       "      <th>2022-04-29 20:00:00+01:00</th>\n",
       "      <td>1.77899</td>\n",
       "      <td>1.78041</td>\n",
       "      <td>1.77733</td>\n",
       "      <td>1.77992</td>\n",
       "    </tr>\n",
       "    <tr>\n",
       "      <th>2022-04-29 21:00:00+01:00</th>\n",
       "      <td>1.77995</td>\n",
       "      <td>1.78175</td>\n",
       "      <td>1.77690</td>\n",
       "      <td>1.78013</td>\n",
       "    </tr>\n",
       "    <tr>\n",
       "      <th>2022-04-29 22:00:00+01:00</th>\n",
       "      <td>1.77982</td>\n",
       "      <td>1.77982</td>\n",
       "      <td>1.77982</td>\n",
       "      <td>1.77982</td>\n",
       "    </tr>\n",
       "  </tbody>\n",
       "</table>\n",
       "</div>"
      ],
      "text/plain": [
       "                              Open     High      Low    Close\n",
       "Unnamed: 0                                                   \n",
       "2022-04-29 18:00:00+01:00  1.77544  1.77717  1.77406  1.77567\n",
       "2022-04-29 19:00:00+01:00  1.77567  1.77928  1.77506  1.77894\n",
       "2022-04-29 20:00:00+01:00  1.77899  1.78041  1.77733  1.77992\n",
       "2022-04-29 21:00:00+01:00  1.77995  1.78175  1.77690  1.78013\n",
       "2022-04-29 22:00:00+01:00  1.77982  1.77982  1.77982  1.77982"
      ]
     },
     "execution_count": 10,
     "metadata": {},
     "output_type": "execute_result"
    }
   ],
   "source": [
    "old_csv.tail()"
   ]
  },
  {
   "cell_type": "code",
   "execution_count": null,
   "metadata": {},
   "outputs": [],
   "source": []
  }
 ],
 "metadata": {
  "kernelspec": {
   "display_name": "p36workshop",
   "language": "python",
   "name": "p36workshop"
  },
  "language_info": {
   "codemirror_mode": {
    "name": "ipython",
    "version": 3
   },
   "file_extension": ".py",
   "mimetype": "text/x-python",
   "name": "python",
   "nbconvert_exporter": "python",
   "pygments_lexer": "ipython3",
   "version": "3.7.11"
  }
 },
 "nbformat": 4,
 "nbformat_minor": 4
}
