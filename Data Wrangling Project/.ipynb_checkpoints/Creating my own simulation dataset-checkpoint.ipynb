{
 "cells": [
  {
   "cell_type": "code",
   "execution_count": 1,
   "metadata": {},
   "outputs": [],
   "source": [
    "import pandas as pd\n",
    "import numpy as np"
   ]
  },
  {
   "cell_type": "code",
   "execution_count": 57,
   "metadata": {},
   "outputs": [
    {
     "data": {
      "text/html": [
       "<div>\n",
       "<style scoped>\n",
       "    .dataframe tbody tr th:only-of-type {\n",
       "        vertical-align: middle;\n",
       "    }\n",
       "\n",
       "    .dataframe tbody tr th {\n",
       "        vertical-align: top;\n",
       "    }\n",
       "\n",
       "    .dataframe thead th {\n",
       "        text-align: right;\n",
       "    }\n",
       "</style>\n",
       "<table border=\"1\" class=\"dataframe\">\n",
       "  <thead>\n",
       "    <tr style=\"text-align: right;\">\n",
       "      <th></th>\n",
       "      <th>Cout</th>\n",
       "      <th>NomMat</th>\n",
       "      <th>Type</th>\n",
       "      <th>LieuExtraction</th>\n",
       "    </tr>\n",
       "  </thead>\n",
       "  <tbody>\n",
       "  </tbody>\n",
       "</table>\n",
       "</div>"
      ],
      "text/plain": [
       "Empty DataFrame\n",
       "Columns: [Cout, NomMat, Type, LieuExtraction]\n",
       "Index: []"
      ]
     },
     "execution_count": 57,
     "metadata": {},
     "output_type": "execute_result"
    }
   ],
   "source": [
    "Mat_Premiére=pd.DataFrame(None, columns=['Cout', 'NomMat',\"Type\",\"LieuExtraction\"])#,index=[0, 1, 2, 3\n",
    "Mat_Premiére"
   ]
  },
  {
   "cell_type": "code",
   "execution_count": 4,
   "metadata": {},
   "outputs": [],
   "source": [
    "Fournisseur=pd.DataFrame(None, columns=['Id_Fournisseur', 'Adresse',\"Classement\",\"RIB\"])"
   ]
  },
  {
   "cell_type": "code",
   "execution_count": 5,
   "metadata": {},
   "outputs": [],
   "source": [
    "Equipement=pd.DataFrame(None, columns=['Id_Equip', 'Cout',\"DateAchat\"])"
   ]
  },
  {
   "cell_type": "code",
   "execution_count": 6,
   "metadata": {},
   "outputs": [],
   "source": [
    "Ouvrier=pd.DataFrame(None, columns=['Id_Ouvrier', 'Nom_Prenom',\"Adresse\",\"DateRecrutementOuvrier\"])"
   ]
  },
  {
   "cell_type": "code",
   "execution_count": 7,
   "metadata": {},
   "outputs": [],
   "source": [
    "Piéce_Soutraitée=pd.DataFrame(None, columns=['Id_SousTraiteur','Id_Piéce'])"
   ]
  },
  {
   "cell_type": "code",
   "execution_count": 8,
   "metadata": {},
   "outputs": [],
   "source": [
    "Piéce_Maison=pd.DataFrame(None, columns=['Id_PiéceMaison','Cout'])"
   ]
  },
  {
   "cell_type": "code",
   "execution_count": 136,
   "metadata": {},
   "outputs": [],
   "source": [
    "Machine=pd.DataFrame(None, columns=[\"Id_Machine\",\"NomMachine\",\"Cout\",\"DateMaintenance\",\"DateAchat\"])"
   ]
  },
  {
   "cell_type": "code",
   "execution_count": 10,
   "metadata": {},
   "outputs": [],
   "source": [
    "Usine_Montage=pd.DataFrame(None, columns=['Id_Usine', 'Nom',\"Adresse\",\"NombreOuvriers\"])"
   ]
  },
  {
   "cell_type": "code",
   "execution_count": 11,
   "metadata": {},
   "outputs": [],
   "source": [
    "Produit=pd.DataFrame(None, columns=['Id_Produit','Libelle_Produit','Prix_Produit','Date_Fabrication','CoutProd'])"
   ]
  },
  {
   "cell_type": "code",
   "execution_count": 12,
   "metadata": {},
   "outputs": [],
   "source": [
    "Commande=pd.DataFrame(None, columns=['Id_Commande', 'Date',\"Articles\",\"Montant\"])"
   ]
  },
  {
   "cell_type": "code",
   "execution_count": 13,
   "metadata": {},
   "outputs": [],
   "source": [
    "Financier_ou_Commercial=pd.DataFrame(None, columns=['Id_Agent', 'Nom_Prénom',\"Grade\",\"Adresse\",\"DateRecrutement\",\"Salaire\"])"
   ]
  },
  {
   "cell_type": "code",
   "execution_count": 14,
   "metadata": {},
   "outputs": [],
   "source": [
    "Devis=pd.DataFrame(None, columns=['Id_Devis', 'DateDevis',\"Montant\"])"
   ]
  },
  {
   "cell_type": "code",
   "execution_count": 15,
   "metadata": {},
   "outputs": [],
   "source": [
    "Facture=pd.DataFrame(None, columns=['Id_Facture', 'MontantFac',\"DateFacture\",\"TVA\"])"
   ]
  },
  {
   "cell_type": "code",
   "execution_count": 16,
   "metadata": {},
   "outputs": [],
   "source": [
    "Client=pd.DataFrame(None, columns=['Id_Client', 'Adresse',\"RaisonSociale\",\"RIB\",\"Classement\"])"
   ]
  },
  {
   "cell_type": "code",
   "execution_count": 17,
   "metadata": {},
   "outputs": [],
   "source": [
    "L_df=list()\n",
    "L_df.append(Mat_Premiére)\n",
    "L_df.append(Fournisseur)\n",
    "L_df.append(Equipement)\n",
    "L_df.append(Ouvrier)\n",
    "L_df.append(Piéce_Soutraitée)\n",
    "L_df.append(Piéce_Maison)\n",
    "L_df.append(Machine)\n",
    "L_df.append(Usine_Montage)\n",
    "L_df.append(Produit)\n",
    "L_df.append(Commande)\n",
    "L_df.append(Financier_ou_Commercial)\n",
    "L_df.append(Devis)\n",
    "L_df.append(Facture)\n",
    "L_df.append(Client)"
   ]
  },
  {
   "cell_type": "code",
   "execution_count": 172,
   "metadata": {},
   "outputs": [
    {
     "data": {
      "text/plain": [
       "14"
      ]
     },
     "execution_count": 172,
     "metadata": {},
     "output_type": "execute_result"
    }
   ],
   "source": [
    "len(L_df)"
   ]
  },
  {
   "cell_type": "markdown",
   "metadata": {},
   "source": [
    "1-Mat_Premiére"
   ]
  },
  {
   "cell_type": "code",
   "execution_count": 62,
   "metadata": {},
   "outputs": [
    {
     "data": {
      "text/html": [
       "<div>\n",
       "<style scoped>\n",
       "    .dataframe tbody tr th:only-of-type {\n",
       "        vertical-align: middle;\n",
       "    }\n",
       "\n",
       "    .dataframe tbody tr th {\n",
       "        vertical-align: top;\n",
       "    }\n",
       "\n",
       "    .dataframe thead th {\n",
       "        text-align: right;\n",
       "    }\n",
       "</style>\n",
       "<table border=\"1\" class=\"dataframe\">\n",
       "  <thead>\n",
       "    <tr style=\"text-align: right;\">\n",
       "      <th></th>\n",
       "      <th>Cout</th>\n",
       "      <th>NomMat</th>\n",
       "      <th>Type</th>\n",
       "      <th>LieuExtraction</th>\n",
       "    </tr>\n",
       "  </thead>\n",
       "  <tbody>\n",
       "    <tr>\n",
       "      <th>0</th>\n",
       "      <td>3.5</td>\n",
       "      <td>tournseol</td>\n",
       "      <td>grisses_et_huiles</td>\n",
       "      <td>[Sfax]</td>\n",
       "    </tr>\n",
       "    <tr>\n",
       "      <th>1</th>\n",
       "      <td>2.0</td>\n",
       "      <td>palmier</td>\n",
       "      <td>grisses_et_huiles</td>\n",
       "      <td>[Bizerte, Gafsa]</td>\n",
       "    </tr>\n",
       "    <tr>\n",
       "      <th>2</th>\n",
       "      <td>4.1</td>\n",
       "      <td>coton</td>\n",
       "      <td>fibres</td>\n",
       "      <td>[Gafsa, Bizerte, Kairouan]</td>\n",
       "    </tr>\n",
       "    <tr>\n",
       "      <th>3</th>\n",
       "      <td>7.0</td>\n",
       "      <td>lin</td>\n",
       "      <td>fibres</td>\n",
       "      <td>[Sfax]</td>\n",
       "    </tr>\n",
       "    <tr>\n",
       "      <th>4</th>\n",
       "      <td>0.8</td>\n",
       "      <td>pomme de terre</td>\n",
       "      <td>amidon</td>\n",
       "      <td>[Cap-bon, Gafsa]</td>\n",
       "    </tr>\n",
       "    <tr>\n",
       "      <th>...</th>\n",
       "      <td>...</td>\n",
       "      <td>...</td>\n",
       "      <td>...</td>\n",
       "      <td>...</td>\n",
       "    </tr>\n",
       "    <tr>\n",
       "      <th>76</th>\n",
       "      <td>0.8</td>\n",
       "      <td>pomme de terre</td>\n",
       "      <td>amidon</td>\n",
       "      <td>[Cap-bon, Sfax, Sfax]</td>\n",
       "    </tr>\n",
       "    <tr>\n",
       "      <th>77</th>\n",
       "      <td>2.7</td>\n",
       "      <td>mais</td>\n",
       "      <td>amidon</td>\n",
       "      <td>[Gabes, Cap-bon]</td>\n",
       "    </tr>\n",
       "    <tr>\n",
       "      <th>78</th>\n",
       "      <td>1.3</td>\n",
       "      <td>blé</td>\n",
       "      <td>amidon</td>\n",
       "      <td>[Cap-bon]</td>\n",
       "    </tr>\n",
       "    <tr>\n",
       "      <th>79</th>\n",
       "      <td>3.0</td>\n",
       "      <td>Cannes à Sucre</td>\n",
       "      <td>NaN</td>\n",
       "      <td>[Bizerte]</td>\n",
       "    </tr>\n",
       "    <tr>\n",
       "      <th>80</th>\n",
       "      <td>22.0</td>\n",
       "      <td>Arbres</td>\n",
       "      <td>Bois</td>\n",
       "      <td>[Bizerte, Bizerte]</td>\n",
       "    </tr>\n",
       "  </tbody>\n",
       "</table>\n",
       "<p>81 rows × 4 columns</p>\n",
       "</div>"
      ],
      "text/plain": [
       "    Cout          NomMat               Type              LieuExtraction\n",
       "0    3.5       tournseol  grisses_et_huiles                      [Sfax]\n",
       "1    2.0         palmier  grisses_et_huiles            [Bizerte, Gafsa]\n",
       "2    4.1           coton             fibres  [Gafsa, Bizerte, Kairouan]\n",
       "3    7.0             lin             fibres                      [Sfax]\n",
       "4    0.8  pomme de terre             amidon            [Cap-bon, Gafsa]\n",
       "..   ...             ...                ...                         ...\n",
       "76   0.8  pomme de terre             amidon       [Cap-bon, Sfax, Sfax]\n",
       "77   2.7            mais             amidon            [Gabes, Cap-bon]\n",
       "78   1.3             blé             amidon                   [Cap-bon]\n",
       "79   3.0  Cannes à Sucre                NaN                   [Bizerte]\n",
       "80  22.0          Arbres               Bois          [Bizerte, Bizerte]\n",
       "\n",
       "[81 rows x 4 columns]"
      ]
     },
     "execution_count": 62,
     "metadata": {},
     "output_type": "execute_result"
    }
   ],
   "source": [
    "import random\n",
    "NomMat=[\"tournseol\",\"palmier\",\"coton\",\"lin\",\"pomme de terre\",\"mais\",\"blé\",\"Cannes à Sucre\",\"Arbres\"]\n",
    "Type={\"grisses_et_huiles\":[\"tournseol\",\"palmier\"],\"fibres\":[\"coton\",\"lin\"],\"amidon\":[\"pomme de terre\",\"mais\",\"blé\"],\"Bois\":[\"Arbres\"]}\n",
    "Cout={NomMat[0]:3.5,NomMat[1]:2.,NomMat[2]:4.1,NomMat[3]:7.,NomMat[4]:0.8,NomMat[5]:2.7,NomMat[6]:1.3,NomMat[7]:3.,NomMat[8]:22.}\n",
    "LieuExtraction=[\"Gabes\",\"Gafsa\",\"Kairouan\",\"Sfax\",\"Cap-bon\",\"Bizerte\"]\n",
    "#Mat_Premiére[\"NomMat\"]=NomMat*9\n",
    "#for i in range(len(Mat_Premiére)):\n",
    "#    for key,list_ in Type.items():\n",
    "#        for item in list_:\n",
    "#            if Mat_Premiére.at[i,\"NomMat\"]==item:\n",
    "#                Mat_Premiére.at[i,\"Type\"]=key\n",
    "for i in range(len(Mat_Premiére)):\n",
    "    possibilites=[1,2,3]\n",
    "    Mat_Premiére.at[i,\"LieuExtraction\"]=random.choices(LieuExtraction, k=random.choice(possibilites))\n",
    "Mat_Premiére"
   ]
  },
  {
   "cell_type": "code",
   "execution_count": 64,
   "metadata": {},
   "outputs": [
    {
     "data": {
      "text/plain": [
       "Cout                object\n",
       "NomMat              object\n",
       "Type              category\n",
       "LieuExtraction      object\n",
       "dtype: object"
      ]
     },
     "execution_count": 64,
     "metadata": {},
     "output_type": "execute_result"
    }
   ],
   "source": [
    "Mat_Premiére.dtypes"
   ]
  },
  {
   "cell_type": "code",
   "execution_count": 171,
   "metadata": {},
   "outputs": [
    {
     "data": {
      "text/html": [
       "<div>\n",
       "<style scoped>\n",
       "    .dataframe tbody tr th:only-of-type {\n",
       "        vertical-align: middle;\n",
       "    }\n",
       "\n",
       "    .dataframe tbody tr th {\n",
       "        vertical-align: top;\n",
       "    }\n",
       "\n",
       "    .dataframe thead th {\n",
       "        text-align: right;\n",
       "    }\n",
       "</style>\n",
       "<table border=\"1\" class=\"dataframe\">\n",
       "  <thead>\n",
       "    <tr style=\"text-align: right;\">\n",
       "      <th></th>\n",
       "      <th>Cout</th>\n",
       "      <th>NomMat</th>\n",
       "      <th>Type</th>\n",
       "      <th>LieuExtraction</th>\n",
       "    </tr>\n",
       "  </thead>\n",
       "  <tbody>\n",
       "    <tr>\n",
       "      <th>0</th>\n",
       "      <td>3.5</td>\n",
       "      <td>tournseol</td>\n",
       "      <td>grisses_et_huiles</td>\n",
       "      <td>[Sfax]</td>\n",
       "    </tr>\n",
       "    <tr>\n",
       "      <th>1</th>\n",
       "      <td>2.0</td>\n",
       "      <td>palmier</td>\n",
       "      <td>grisses_et_huiles</td>\n",
       "      <td>[Bizerte, Gafsa]</td>\n",
       "    </tr>\n",
       "    <tr>\n",
       "      <th>2</th>\n",
       "      <td>4.1</td>\n",
       "      <td>coton</td>\n",
       "      <td>fibres</td>\n",
       "      <td>[Gafsa, Bizerte, Kairouan]</td>\n",
       "    </tr>\n",
       "    <tr>\n",
       "      <th>3</th>\n",
       "      <td>7.0</td>\n",
       "      <td>lin</td>\n",
       "      <td>fibres</td>\n",
       "      <td>[Sfax]</td>\n",
       "    </tr>\n",
       "    <tr>\n",
       "      <th>4</th>\n",
       "      <td>0.8</td>\n",
       "      <td>pomme de terre</td>\n",
       "      <td>amidon</td>\n",
       "      <td>[Cap-bon, Gafsa]</td>\n",
       "    </tr>\n",
       "    <tr>\n",
       "      <th>...</th>\n",
       "      <td>...</td>\n",
       "      <td>...</td>\n",
       "      <td>...</td>\n",
       "      <td>...</td>\n",
       "    </tr>\n",
       "    <tr>\n",
       "      <th>76</th>\n",
       "      <td>0.8</td>\n",
       "      <td>pomme de terre</td>\n",
       "      <td>amidon</td>\n",
       "      <td>[Cap-bon, Sfax, Sfax]</td>\n",
       "    </tr>\n",
       "    <tr>\n",
       "      <th>77</th>\n",
       "      <td>2.7</td>\n",
       "      <td>mais</td>\n",
       "      <td>amidon</td>\n",
       "      <td>[Gabes, Cap-bon]</td>\n",
       "    </tr>\n",
       "    <tr>\n",
       "      <th>78</th>\n",
       "      <td>1.3</td>\n",
       "      <td>blé</td>\n",
       "      <td>amidon</td>\n",
       "      <td>[Cap-bon]</td>\n",
       "    </tr>\n",
       "    <tr>\n",
       "      <th>79</th>\n",
       "      <td>3.0</td>\n",
       "      <td>Cannes à Sucre</td>\n",
       "      <td>NaN</td>\n",
       "      <td>[Bizerte]</td>\n",
       "    </tr>\n",
       "    <tr>\n",
       "      <th>80</th>\n",
       "      <td>22.0</td>\n",
       "      <td>Arbres</td>\n",
       "      <td>Bois</td>\n",
       "      <td>[Bizerte, Bizerte]</td>\n",
       "    </tr>\n",
       "  </tbody>\n",
       "</table>\n",
       "<p>81 rows × 4 columns</p>\n",
       "</div>"
      ],
      "text/plain": [
       "    Cout          NomMat               Type              LieuExtraction\n",
       "0    3.5       tournseol  grisses_et_huiles                      [Sfax]\n",
       "1    2.0         palmier  grisses_et_huiles            [Bizerte, Gafsa]\n",
       "2    4.1           coton             fibres  [Gafsa, Bizerte, Kairouan]\n",
       "3    7.0             lin             fibres                      [Sfax]\n",
       "4    0.8  pomme de terre             amidon            [Cap-bon, Gafsa]\n",
       "..   ...             ...                ...                         ...\n",
       "76   0.8  pomme de terre             amidon       [Cap-bon, Sfax, Sfax]\n",
       "77   2.7            mais             amidon            [Gabes, Cap-bon]\n",
       "78   1.3             blé             amidon                   [Cap-bon]\n",
       "79   3.0  Cannes à Sucre                NaN                   [Bizerte]\n",
       "80  22.0          Arbres               Bois          [Bizerte, Bizerte]\n",
       "\n",
       "[81 rows x 4 columns]"
      ]
     },
     "execution_count": 171,
     "metadata": {},
     "output_type": "execute_result"
    }
   ],
   "source": [
    "Mat_Premiére"
   ]
  },
  {
   "cell_type": "code",
   "execution_count": 48,
   "metadata": {},
   "outputs": [],
   "source": [
    "Mat_Premiére=Mat_Premiére.astype({\"NomMat\": str})"
   ]
  },
  {
   "cell_type": "code",
   "execution_count": 63,
   "metadata": {},
   "outputs": [],
   "source": [
    "from pandas.api.types import CategoricalDtype\n",
    "Type_dtype = CategoricalDtype(categories=list(Type.keys()), ordered=False)\n",
    "Mat_Premiére[\"Type\"]=Mat_Premiére[\"Type\"].astype(Type_dtype)"
   ]
  },
  {
   "cell_type": "markdown",
   "metadata": {},
   "source": [
    "2-Fournisseur"
   ]
  },
  {
   "cell_type": "markdown",
   "metadata": {},
   "source": [
    "AGRI21.<br>\n",
    "MEDITERRANEAN INDUSTRIAL GROUP ( MIG )<br>\n",
    "SOCIETE ESSAI.<br>\n",
    "SOCIETE TUNISIENNE DE PRODUIT AGRICOLE ( STPA )<br>\n",
    "GRISSA EQUIPEMENT AGRICOLE ( GÉA )<br>\n",
    "SOCIETE ROYALE DISTRIBUTION ( FERMINET )<br>"
   ]
  },
  {
   "cell_type": "code",
   "execution_count": 65,
   "metadata": {},
   "outputs": [],
   "source": [
    "Fournisseur.at[0,\"Id_Fournisseur\"]=\"AGR21\"\n",
    "Fournisseur.at[1,\"Id_Fournisseur\"]=\"MIG\"\n",
    "Fournisseur.at[2,\"Id_Fournisseur\"]=\"SESSAI\"\n",
    "Fournisseur.at[3,\"Id_Fournisseur\"]=\"STPA\"\n",
    "Fournisseur.at[4,\"Id_Fournisseur\"]=\"GEA\"\n",
    "Fournisseur.at[5,\"Id_Fournisseur\"]=\"FERMINET\""
   ]
  },
  {
   "cell_type": "code",
   "execution_count": 85,
   "metadata": {},
   "outputs": [],
   "source": [
    "possibilites=[\"D\",\"C\",\"B\",\"A\",\"S\"]\n",
    "for i in range(len(Fournisseur)):\n",
    "       Fournisseur.at[i,\"Adresse\"]=random.choice(LieuExtraction)"
   ]
  },
  {
   "cell_type": "code",
   "execution_count": 86,
   "metadata": {},
   "outputs": [
    {
     "data": {
      "text/html": [
       "<div>\n",
       "<style scoped>\n",
       "    .dataframe tbody tr th:only-of-type {\n",
       "        vertical-align: middle;\n",
       "    }\n",
       "\n",
       "    .dataframe tbody tr th {\n",
       "        vertical-align: top;\n",
       "    }\n",
       "\n",
       "    .dataframe thead th {\n",
       "        text-align: right;\n",
       "    }\n",
       "</style>\n",
       "<table border=\"1\" class=\"dataframe\">\n",
       "  <thead>\n",
       "    <tr style=\"text-align: right;\">\n",
       "      <th></th>\n",
       "      <th>Id_Fournisseur</th>\n",
       "      <th>Adresse</th>\n",
       "      <th>Classement</th>\n",
       "      <th>RIB</th>\n",
       "    </tr>\n",
       "  </thead>\n",
       "  <tbody>\n",
       "    <tr>\n",
       "      <th>0</th>\n",
       "      <td>AGR21</td>\n",
       "      <td>Bizerte</td>\n",
       "      <td>A</td>\n",
       "      <td>13235151351</td>\n",
       "    </tr>\n",
       "    <tr>\n",
       "      <th>1</th>\n",
       "      <td>MIG</td>\n",
       "      <td>Sfax</td>\n",
       "      <td>C</td>\n",
       "      <td>131513115131</td>\n",
       "    </tr>\n",
       "    <tr>\n",
       "      <th>2</th>\n",
       "      <td>SESSAI</td>\n",
       "      <td>Bizerte</td>\n",
       "      <td>S</td>\n",
       "      <td>46846464431</td>\n",
       "    </tr>\n",
       "    <tr>\n",
       "      <th>3</th>\n",
       "      <td>STPA</td>\n",
       "      <td>Cap-bon</td>\n",
       "      <td>C</td>\n",
       "      <td>468464644313138888</td>\n",
       "    </tr>\n",
       "    <tr>\n",
       "      <th>4</th>\n",
       "      <td>GEA</td>\n",
       "      <td>Sfax</td>\n",
       "      <td>D</td>\n",
       "      <td>789131523</td>\n",
       "    </tr>\n",
       "    <tr>\n",
       "      <th>5</th>\n",
       "      <td>FERMINET</td>\n",
       "      <td>Sfax</td>\n",
       "      <td>A</td>\n",
       "      <td>23135535003</td>\n",
       "    </tr>\n",
       "  </tbody>\n",
       "</table>\n",
       "</div>"
      ],
      "text/plain": [
       "  Id_Fournisseur  Adresse Classement                 RIB\n",
       "0          AGR21  Bizerte          A         13235151351\n",
       "1            MIG     Sfax          C        131513115131\n",
       "2         SESSAI  Bizerte          S         46846464431\n",
       "3           STPA  Cap-bon          C  468464644313138888\n",
       "4            GEA     Sfax          D           789131523\n",
       "5       FERMINET     Sfax          A         23135535003"
      ]
     },
     "execution_count": 86,
     "metadata": {},
     "output_type": "execute_result"
    }
   ],
   "source": [
    "Fournisseur"
   ]
  },
  {
   "cell_type": "markdown",
   "metadata": {},
   "source": [
    "3-Equipement"
   ]
  },
  {
   "cell_type": "code",
   "execution_count": 95,
   "metadata": {},
   "outputs": [],
   "source": [
    "L_Equipement=[\"Industrial Mixers\",\"Homogenizers\",\"Industrial Mixers\",\"Powder Mixers\",\"Ribbon Blender\",\"Agitator\",\"Chemical Reactors\",\"Process Tanks\",\"Pressure Vessels\",\"Reaction Vessel\",\"Air Receiver\",\"Chemical Reactors\",\"Transport Tanks\"]\n",
    "idd=[x+1000 for x in range(1000)]\n",
    "cout=[x*783 for x in range(3,7)]"
   ]
  },
  {
   "cell_type": "code",
   "execution_count": 96,
   "metadata": {},
   "outputs": [],
   "source": [
    "for i in range(len(cout*9)):\n",
    "    Equipement.at[i,\"Id_Equip\"]=idd[i]\n",
    "    Equipement.at[i,\"Cout\"]=(cout*9)[i]\n",
    "    Equipement.at[i,\"DateAchat\"]=datelist[i]\n"
   ]
  },
  {
   "cell_type": "code",
   "execution_count": 168,
   "metadata": {},
   "outputs": [
    {
     "data": {
      "text/html": [
       "<div>\n",
       "<style scoped>\n",
       "    .dataframe tbody tr th:only-of-type {\n",
       "        vertical-align: middle;\n",
       "    }\n",
       "\n",
       "    .dataframe tbody tr th {\n",
       "        vertical-align: top;\n",
       "    }\n",
       "\n",
       "    .dataframe thead th {\n",
       "        text-align: right;\n",
       "    }\n",
       "</style>\n",
       "<table border=\"1\" class=\"dataframe\">\n",
       "  <thead>\n",
       "    <tr style=\"text-align: right;\">\n",
       "      <th></th>\n",
       "      <th>Id_Equip</th>\n",
       "      <th>Cout</th>\n",
       "      <th>DateAchat</th>\n",
       "    </tr>\n",
       "  </thead>\n",
       "  <tbody>\n",
       "    <tr>\n",
       "      <th>0</th>\n",
       "      <td>1000</td>\n",
       "      <td>2349</td>\n",
       "      <td>2022-05-13 12:21:44.745260</td>\n",
       "    </tr>\n",
       "    <tr>\n",
       "      <th>1</th>\n",
       "      <td>1001</td>\n",
       "      <td>3132</td>\n",
       "      <td>2022-05-14 12:21:44.745260</td>\n",
       "    </tr>\n",
       "    <tr>\n",
       "      <th>2</th>\n",
       "      <td>1002</td>\n",
       "      <td>3915</td>\n",
       "      <td>2022-05-15 12:21:44.745260</td>\n",
       "    </tr>\n",
       "    <tr>\n",
       "      <th>3</th>\n",
       "      <td>1003</td>\n",
       "      <td>4698</td>\n",
       "      <td>2022-05-16 12:21:44.745260</td>\n",
       "    </tr>\n",
       "    <tr>\n",
       "      <th>4</th>\n",
       "      <td>1004</td>\n",
       "      <td>2349</td>\n",
       "      <td>2022-05-17 12:21:44.745260</td>\n",
       "    </tr>\n",
       "    <tr>\n",
       "      <th>5</th>\n",
       "      <td>1005</td>\n",
       "      <td>3132</td>\n",
       "      <td>2022-05-18 12:21:44.745260</td>\n",
       "    </tr>\n",
       "  </tbody>\n",
       "</table>\n",
       "</div>"
      ],
      "text/plain": [
       "  Id_Equip  Cout                   DateAchat\n",
       "0     1000  2349  2022-05-13 12:21:44.745260\n",
       "1     1001  3132  2022-05-14 12:21:44.745260\n",
       "2     1002  3915  2022-05-15 12:21:44.745260\n",
       "3     1003  4698  2022-05-16 12:21:44.745260\n",
       "4     1004  2349  2022-05-17 12:21:44.745260\n",
       "5     1005  3132  2022-05-18 12:21:44.745260"
      ]
     },
     "execution_count": 168,
     "metadata": {},
     "output_type": "execute_result"
    }
   ],
   "source": [
    "Equipement.head(6)"
   ]
  },
  {
   "cell_type": "markdown",
   "metadata": {},
   "source": [
    "4-Ouvrier"
   ]
  },
  {
   "cell_type": "code",
   "execution_count": 101,
   "metadata": {},
   "outputs": [
    {
     "data": {
      "text/html": [
       "<div>\n",
       "<style scoped>\n",
       "    .dataframe tbody tr th:only-of-type {\n",
       "        vertical-align: middle;\n",
       "    }\n",
       "\n",
       "    .dataframe tbody tr th {\n",
       "        vertical-align: top;\n",
       "    }\n",
       "\n",
       "    .dataframe thead th {\n",
       "        text-align: right;\n",
       "    }\n",
       "</style>\n",
       "<table border=\"1\" class=\"dataframe\">\n",
       "  <thead>\n",
       "    <tr style=\"text-align: right;\">\n",
       "      <th></th>\n",
       "      <th>ID</th>\n",
       "      <th>Name</th>\n",
       "      <th>Age</th>\n",
       "      <th>Photo</th>\n",
       "      <th>Nationality</th>\n",
       "      <th>Flag</th>\n",
       "      <th>Overall</th>\n",
       "      <th>Potential</th>\n",
       "      <th>Club</th>\n",
       "      <th>Club Logo</th>\n",
       "      <th>...</th>\n",
       "      <th>Composure</th>\n",
       "      <th>Marking</th>\n",
       "      <th>StandingTackle</th>\n",
       "      <th>SlidingTackle</th>\n",
       "      <th>GKDiving</th>\n",
       "      <th>GKHandling</th>\n",
       "      <th>GKKicking</th>\n",
       "      <th>GKPositioning</th>\n",
       "      <th>GKReflexes</th>\n",
       "      <th>Release Clause</th>\n",
       "    </tr>\n",
       "  </thead>\n",
       "  <tbody>\n",
       "    <tr>\n",
       "      <th>0</th>\n",
       "      <td>16</td>\n",
       "      <td>Luis García</td>\n",
       "      <td>37</td>\n",
       "      <td>https://cdn.sofifa.org/players/4/19/16.png</td>\n",
       "      <td>Spain</td>\n",
       "      <td>https://cdn.sofifa.org/flags/45.png</td>\n",
       "      <td>71</td>\n",
       "      <td>71</td>\n",
       "      <td>KAS Eupen</td>\n",
       "      <td>https://cdn.sofifa.org/teams/2/light/2013.png</td>\n",
       "      <td>...</td>\n",
       "      <td>79.0</td>\n",
       "      <td>70.0</td>\n",
       "      <td>43.0</td>\n",
       "      <td>40.0</td>\n",
       "      <td>9.0</td>\n",
       "      <td>12.0</td>\n",
       "      <td>13.0</td>\n",
       "      <td>11.0</td>\n",
       "      <td>11.0</td>\n",
       "      <td>€1.1M</td>\n",
       "    </tr>\n",
       "    <tr>\n",
       "      <th>1</th>\n",
       "      <td>41</td>\n",
       "      <td>Iniesta</td>\n",
       "      <td>34</td>\n",
       "      <td>https://cdn.sofifa.org/players/4/19/41.png</td>\n",
       "      <td>Spain</td>\n",
       "      <td>https://cdn.sofifa.org/flags/45.png</td>\n",
       "      <td>86</td>\n",
       "      <td>86</td>\n",
       "      <td>Vissel Kobe</td>\n",
       "      <td>https://cdn.sofifa.org/teams/2/light/101146.png</td>\n",
       "      <td>...</td>\n",
       "      <td>89.0</td>\n",
       "      <td>67.0</td>\n",
       "      <td>57.0</td>\n",
       "      <td>56.0</td>\n",
       "      <td>6.0</td>\n",
       "      <td>13.0</td>\n",
       "      <td>6.0</td>\n",
       "      <td>13.0</td>\n",
       "      <td>7.0</td>\n",
       "      <td>€26.9M</td>\n",
       "    </tr>\n",
       "    <tr>\n",
       "      <th>2</th>\n",
       "      <td>80</td>\n",
       "      <td>E. Belözoğlu</td>\n",
       "      <td>37</td>\n",
       "      <td>https://cdn.sofifa.org/players/4/19/80.png</td>\n",
       "      <td>Turkey</td>\n",
       "      <td>https://cdn.sofifa.org/flags/48.png</td>\n",
       "      <td>79</td>\n",
       "      <td>79</td>\n",
       "      <td>Medipol Başakşehir FK</td>\n",
       "      <td>https://cdn.sofifa.org/teams/2/light/101014.png</td>\n",
       "      <td>...</td>\n",
       "      <td>80.0</td>\n",
       "      <td>65.0</td>\n",
       "      <td>67.0</td>\n",
       "      <td>60.0</td>\n",
       "      <td>7.0</td>\n",
       "      <td>11.0</td>\n",
       "      <td>7.0</td>\n",
       "      <td>14.0</td>\n",
       "      <td>8.0</td>\n",
       "      <td>€7.6M</td>\n",
       "    </tr>\n",
       "    <tr>\n",
       "      <th>3</th>\n",
       "      <td>164</td>\n",
       "      <td>G. Pinzi</td>\n",
       "      <td>37</td>\n",
       "      <td>https://cdn.sofifa.org/players/4/19/164.png</td>\n",
       "      <td>Italy</td>\n",
       "      <td>https://cdn.sofifa.org/flags/27.png</td>\n",
       "      <td>70</td>\n",
       "      <td>70</td>\n",
       "      <td>Padova</td>\n",
       "      <td>https://cdn.sofifa.org/teams/2/light/110912.png</td>\n",
       "      <td>...</td>\n",
       "      <td>68.0</td>\n",
       "      <td>74.0</td>\n",
       "      <td>71.0</td>\n",
       "      <td>66.0</td>\n",
       "      <td>5.0</td>\n",
       "      <td>15.0</td>\n",
       "      <td>7.0</td>\n",
       "      <td>6.0</td>\n",
       "      <td>13.0</td>\n",
       "      <td>€372K</td>\n",
       "    </tr>\n",
       "    <tr>\n",
       "      <th>4</th>\n",
       "      <td>657</td>\n",
       "      <td>D. Vaughan</td>\n",
       "      <td>35</td>\n",
       "      <td>https://cdn.sofifa.org/players/4/19/657.png</td>\n",
       "      <td>Wales</td>\n",
       "      <td>https://cdn.sofifa.org/flags/50.png</td>\n",
       "      <td>66</td>\n",
       "      <td>66</td>\n",
       "      <td>Notts County</td>\n",
       "      <td>https://cdn.sofifa.org/teams/2/light/1937.png</td>\n",
       "      <td>...</td>\n",
       "      <td>82.0</td>\n",
       "      <td>59.0</td>\n",
       "      <td>66.0</td>\n",
       "      <td>62.0</td>\n",
       "      <td>6.0</td>\n",
       "      <td>9.0</td>\n",
       "      <td>10.0</td>\n",
       "      <td>9.0</td>\n",
       "      <td>7.0</td>\n",
       "      <td>€263K</td>\n",
       "    </tr>\n",
       "  </tbody>\n",
       "</table>\n",
       "<p>5 rows × 88 columns</p>\n",
       "</div>"
      ],
      "text/plain": [
       "    ID          Name  Age                                        Photo  \\\n",
       "0   16   Luis García   37   https://cdn.sofifa.org/players/4/19/16.png   \n",
       "1   41       Iniesta   34   https://cdn.sofifa.org/players/4/19/41.png   \n",
       "2   80  E. Belözoğlu   37   https://cdn.sofifa.org/players/4/19/80.png   \n",
       "3  164      G. Pinzi   37  https://cdn.sofifa.org/players/4/19/164.png   \n",
       "4  657    D. Vaughan   35  https://cdn.sofifa.org/players/4/19/657.png   \n",
       "\n",
       "  Nationality                                 Flag  Overall  Potential  \\\n",
       "0       Spain  https://cdn.sofifa.org/flags/45.png       71         71   \n",
       "1       Spain  https://cdn.sofifa.org/flags/45.png       86         86   \n",
       "2      Turkey  https://cdn.sofifa.org/flags/48.png       79         79   \n",
       "3       Italy  https://cdn.sofifa.org/flags/27.png       70         70   \n",
       "4       Wales  https://cdn.sofifa.org/flags/50.png       66         66   \n",
       "\n",
       "                    Club                                        Club Logo  \\\n",
       "0              KAS Eupen    https://cdn.sofifa.org/teams/2/light/2013.png   \n",
       "1            Vissel Kobe  https://cdn.sofifa.org/teams/2/light/101146.png   \n",
       "2  Medipol Başakşehir FK  https://cdn.sofifa.org/teams/2/light/101014.png   \n",
       "3                 Padova  https://cdn.sofifa.org/teams/2/light/110912.png   \n",
       "4           Notts County    https://cdn.sofifa.org/teams/2/light/1937.png   \n",
       "\n",
       "   ... Composure Marking  StandingTackle SlidingTackle  GKDiving  GKHandling  \\\n",
       "0  ...      79.0    70.0            43.0          40.0       9.0        12.0   \n",
       "1  ...      89.0    67.0            57.0          56.0       6.0        13.0   \n",
       "2  ...      80.0    65.0            67.0          60.0       7.0        11.0   \n",
       "3  ...      68.0    74.0            71.0          66.0       5.0        15.0   \n",
       "4  ...      82.0    59.0            66.0          62.0       6.0         9.0   \n",
       "\n",
       "   GKKicking GKPositioning GKReflexes Release Clause  \n",
       "0       13.0          11.0       11.0          €1.1M  \n",
       "1        6.0          13.0        7.0         €26.9M  \n",
       "2        7.0          14.0        8.0          €7.6M  \n",
       "3        7.0           6.0       13.0          €372K  \n",
       "4       10.0           9.0        7.0          €263K  \n",
       "\n",
       "[5 rows x 88 columns]"
      ]
     },
     "execution_count": 101,
     "metadata": {},
     "output_type": "execute_result"
    }
   ],
   "source": [
    "\n",
    "fifa=pd.read_csv(\"5_8_fifa19-dataset-completed.csv\")\n",
    "fifa.head()"
   ]
  },
  {
   "cell_type": "code",
   "execution_count": 104,
   "metadata": {},
   "outputs": [],
   "source": [
    "Ouvrier[[\"Id_Ouvrier\",\"Nom_Prenom\"]]=fifa[[\"ID\",\"Name\"]]\n",
    "for i in range(len(Ouvrier)):\n",
    "    Ouvrier.at[i,\"DateRecrutementOuvrier\"]=random.choice(pd.date_range(datetime.today(), periods=1000).tolist())"
   ]
  },
  {
   "cell_type": "code",
   "execution_count": 169,
   "metadata": {},
   "outputs": [
    {
     "data": {
      "text/html": [
       "<div>\n",
       "<style scoped>\n",
       "    .dataframe tbody tr th:only-of-type {\n",
       "        vertical-align: middle;\n",
       "    }\n",
       "\n",
       "    .dataframe tbody tr th {\n",
       "        vertical-align: top;\n",
       "    }\n",
       "\n",
       "    .dataframe thead th {\n",
       "        text-align: right;\n",
       "    }\n",
       "</style>\n",
       "<table border=\"1\" class=\"dataframe\">\n",
       "  <thead>\n",
       "    <tr style=\"text-align: right;\">\n",
       "      <th></th>\n",
       "      <th>Id_Ouvrier</th>\n",
       "      <th>Nom_Prenom</th>\n",
       "      <th>Adresse</th>\n",
       "      <th>DateRecrutementOuvrier</th>\n",
       "    </tr>\n",
       "  </thead>\n",
       "  <tbody>\n",
       "    <tr>\n",
       "      <th>0</th>\n",
       "      <td>16</td>\n",
       "      <td>Luis García</td>\n",
       "      <td>NaN</td>\n",
       "      <td>2023-05-13 12:26:26.308155</td>\n",
       "    </tr>\n",
       "    <tr>\n",
       "      <th>1</th>\n",
       "      <td>41</td>\n",
       "      <td>Iniesta</td>\n",
       "      <td>NaN</td>\n",
       "      <td>2022-10-19 12:26:26.312201</td>\n",
       "    </tr>\n",
       "    <tr>\n",
       "      <th>2</th>\n",
       "      <td>80</td>\n",
       "      <td>E. Belözoğlu</td>\n",
       "      <td>NaN</td>\n",
       "      <td>2024-09-05 12:26:26.316168</td>\n",
       "    </tr>\n",
       "    <tr>\n",
       "      <th>3</th>\n",
       "      <td>164</td>\n",
       "      <td>G. Pinzi</td>\n",
       "      <td>NaN</td>\n",
       "      <td>2025-01-28 12:26:26.320124</td>\n",
       "    </tr>\n",
       "    <tr>\n",
       "      <th>4</th>\n",
       "      <td>657</td>\n",
       "      <td>D. Vaughan</td>\n",
       "      <td>NaN</td>\n",
       "      <td>2024-08-23 12:26:26.324175</td>\n",
       "    </tr>\n",
       "    <tr>\n",
       "      <th>5</th>\n",
       "      <td>768</td>\n",
       "      <td>Felipe</td>\n",
       "      <td>NaN</td>\n",
       "      <td>2024-08-22 12:26:26.327140</td>\n",
       "    </tr>\n",
       "  </tbody>\n",
       "</table>\n",
       "</div>"
      ],
      "text/plain": [
       "   Id_Ouvrier    Nom_Prenom Adresse      DateRecrutementOuvrier\n",
       "0          16   Luis García     NaN  2023-05-13 12:26:26.308155\n",
       "1          41       Iniesta     NaN  2022-10-19 12:26:26.312201\n",
       "2          80  E. Belözoğlu     NaN  2024-09-05 12:26:26.316168\n",
       "3         164      G. Pinzi     NaN  2025-01-28 12:26:26.320124\n",
       "4         657    D. Vaughan     NaN  2024-08-23 12:26:26.324175\n",
       "5         768        Felipe     NaN  2024-08-22 12:26:26.327140"
      ]
     },
     "execution_count": 169,
     "metadata": {},
     "output_type": "execute_result"
    }
   ],
   "source": [
    "Ouvrier.head(6)"
   ]
  },
  {
   "cell_type": "markdown",
   "metadata": {},
   "source": [
    "5-Piéce_Soutraitée"
   ]
  },
  {
   "cell_type": "code",
   "execution_count": 112,
   "metadata": {},
   "outputs": [],
   "source": [
    "L=[1001+x for x in range(30)]"
   ]
  },
  {
   "cell_type": "code",
   "execution_count": 113,
   "metadata": {},
   "outputs": [],
   "source": [
    "#Piéce_Soutraitée[\"Id_SousTraiteur\"]=L\n",
    "for i in range(len(Piéce_Soutraitée)):\n",
    "    Piéce_Soutraitée.at[i,\"Id_Piéce\"]=L[i]"
   ]
  },
  {
   "cell_type": "code",
   "execution_count": 170,
   "metadata": {},
   "outputs": [
    {
     "data": {
      "text/html": [
       "<div>\n",
       "<style scoped>\n",
       "    .dataframe tbody tr th:only-of-type {\n",
       "        vertical-align: middle;\n",
       "    }\n",
       "\n",
       "    .dataframe tbody tr th {\n",
       "        vertical-align: top;\n",
       "    }\n",
       "\n",
       "    .dataframe thead th {\n",
       "        text-align: right;\n",
       "    }\n",
       "</style>\n",
       "<table border=\"1\" class=\"dataframe\">\n",
       "  <thead>\n",
       "    <tr style=\"text-align: right;\">\n",
       "      <th></th>\n",
       "      <th>Id_SousTraiteur</th>\n",
       "      <th>Id_Piéce</th>\n",
       "    </tr>\n",
       "  </thead>\n",
       "  <tbody>\n",
       "    <tr>\n",
       "      <th>0</th>\n",
       "      <td>200</td>\n",
       "      <td>1001</td>\n",
       "    </tr>\n",
       "    <tr>\n",
       "      <th>1</th>\n",
       "      <td>201</td>\n",
       "      <td>1002</td>\n",
       "    </tr>\n",
       "    <tr>\n",
       "      <th>2</th>\n",
       "      <td>202</td>\n",
       "      <td>1003</td>\n",
       "    </tr>\n",
       "    <tr>\n",
       "      <th>3</th>\n",
       "      <td>203</td>\n",
       "      <td>1004</td>\n",
       "    </tr>\n",
       "    <tr>\n",
       "      <th>4</th>\n",
       "      <td>204</td>\n",
       "      <td>1005</td>\n",
       "    </tr>\n",
       "    <tr>\n",
       "      <th>5</th>\n",
       "      <td>205</td>\n",
       "      <td>1006</td>\n",
       "    </tr>\n",
       "  </tbody>\n",
       "</table>\n",
       "</div>"
      ],
      "text/plain": [
       "   Id_SousTraiteur Id_Piéce\n",
       "0              200     1001\n",
       "1              201     1002\n",
       "2              202     1003\n",
       "3              203     1004\n",
       "4              204     1005\n",
       "5              205     1006"
      ]
     },
     "execution_count": 170,
     "metadata": {},
     "output_type": "execute_result"
    }
   ],
   "source": [
    "Piéce_Soutraitée.head(6)"
   ]
  },
  {
   "cell_type": "markdown",
   "metadata": {},
   "source": [
    "6-Piéce_Maison"
   ]
  },
  {
   "cell_type": "markdown",
   "metadata": {},
   "source": [
    "7-Machine"
   ]
  },
  {
   "cell_type": "code",
   "execution_count": 137,
   "metadata": {},
   "outputs": [],
   "source": [
    "L_Equipement=[\"Industrial Mixers\",\"Homogenizers\",\"Industrial Mixers\",\"Powder Mixers\",\"Ribbon Blender\",\"Agitator\",\"Chemical Reactors\",\"Process Tanks\",\"Pressure Vessels\",\"Reaction Vessel\",\"Air Receiver\",\"Chemical Reactors\",\"Transport Tanks\"]"
   ]
  },
  {
   "cell_type": "code",
   "execution_count": 138,
   "metadata": {},
   "outputs": [],
   "source": [
    "L=[42001+x for x in range(300)]"
   ]
  },
  {
   "cell_type": "code",
   "execution_count": 139,
   "metadata": {},
   "outputs": [
    {
     "data": {
      "text/plain": [
       "300"
      ]
     },
     "execution_count": 139,
     "metadata": {},
     "output_type": "execute_result"
    }
   ],
   "source": [
    "c=np.random.default_rng().chisquare(2100,300)\n",
    "len(c)"
   ]
  },
  {
   "cell_type": "code",
   "execution_count": 140,
   "metadata": {},
   "outputs": [],
   "source": [
    "Machine[\"id_machine\"]=L"
   ]
  },
  {
   "cell_type": "code",
   "execution_count": 142,
   "metadata": {},
   "outputs": [],
   "source": [
    "for i in range(len(Machine)):\n",
    "    Machine.at[i,\"NomMachine\"]=random.choice(L_Equipement)"
   ]
  },
  {
   "cell_type": "code",
   "execution_count": 143,
   "metadata": {},
   "outputs": [
    {
     "data": {
      "text/html": [
       "<div>\n",
       "<style scoped>\n",
       "    .dataframe tbody tr th:only-of-type {\n",
       "        vertical-align: middle;\n",
       "    }\n",
       "\n",
       "    .dataframe tbody tr th {\n",
       "        vertical-align: top;\n",
       "    }\n",
       "\n",
       "    .dataframe thead th {\n",
       "        text-align: right;\n",
       "    }\n",
       "</style>\n",
       "<table border=\"1\" class=\"dataframe\">\n",
       "  <thead>\n",
       "    <tr style=\"text-align: right;\">\n",
       "      <th></th>\n",
       "      <th>Id_Machine</th>\n",
       "      <th>NomMachine</th>\n",
       "      <th>Cout</th>\n",
       "      <th>DateMaintenance</th>\n",
       "      <th>DateAchat</th>\n",
       "      <th>id_machine</th>\n",
       "    </tr>\n",
       "  </thead>\n",
       "  <tbody>\n",
       "    <tr>\n",
       "      <th>0</th>\n",
       "      <td>NaN</td>\n",
       "      <td>Chemical Reactors</td>\n",
       "      <td>2114.724373</td>\n",
       "      <td>NaN</td>\n",
       "      <td>NaN</td>\n",
       "      <td>42001</td>\n",
       "    </tr>\n",
       "    <tr>\n",
       "      <th>1</th>\n",
       "      <td>NaN</td>\n",
       "      <td>Agitator</td>\n",
       "      <td>2229.582186</td>\n",
       "      <td>NaN</td>\n",
       "      <td>NaN</td>\n",
       "      <td>42002</td>\n",
       "    </tr>\n",
       "    <tr>\n",
       "      <th>2</th>\n",
       "      <td>NaN</td>\n",
       "      <td>Agitator</td>\n",
       "      <td>2115.290161</td>\n",
       "      <td>NaN</td>\n",
       "      <td>NaN</td>\n",
       "      <td>42003</td>\n",
       "    </tr>\n",
       "    <tr>\n",
       "      <th>3</th>\n",
       "      <td>NaN</td>\n",
       "      <td>Transport Tanks</td>\n",
       "      <td>2117.279547</td>\n",
       "      <td>NaN</td>\n",
       "      <td>NaN</td>\n",
       "      <td>42004</td>\n",
       "    </tr>\n",
       "    <tr>\n",
       "      <th>4</th>\n",
       "      <td>NaN</td>\n",
       "      <td>Process Tanks</td>\n",
       "      <td>2168.344318</td>\n",
       "      <td>NaN</td>\n",
       "      <td>NaN</td>\n",
       "      <td>42005</td>\n",
       "    </tr>\n",
       "  </tbody>\n",
       "</table>\n",
       "</div>"
      ],
      "text/plain": [
       "  Id_Machine         NomMachine         Cout DateMaintenance DateAchat  \\\n",
       "0        NaN  Chemical Reactors  2114.724373             NaN       NaN   \n",
       "1        NaN           Agitator  2229.582186             NaN       NaN   \n",
       "2        NaN           Agitator  2115.290161             NaN       NaN   \n",
       "3        NaN    Transport Tanks  2117.279547             NaN       NaN   \n",
       "4        NaN      Process Tanks  2168.344318             NaN       NaN   \n",
       "\n",
       "   id_machine  \n",
       "0       42001  \n",
       "1       42002  \n",
       "2       42003  \n",
       "3       42004  \n",
       "4       42005  "
      ]
     },
     "execution_count": 143,
     "metadata": {},
     "output_type": "execute_result"
    }
   ],
   "source": [
    "Machine.head()"
   ]
  },
  {
   "cell_type": "code",
   "execution_count": 145,
   "metadata": {},
   "outputs": [
    {
     "data": {
      "image/png": "[encoded data removed]",
      "text/plain": [
       "<Figure size 900x800 with 1 Axes>"
      ]
     },
     "metadata": {},
     "output_type": "display_data"
    }
   ],
   "source": [
    "import matplotlib.pyplot as mp\n",
    "Machine.plot(x=\"NomMachine\", y=\"Cout\", kind=\"bar\", figsize=(9, 8))\n",
    " \n",
    "# print bar graph\n",
    "mp.show()"
   ]
  },
  {
   "cell_type": "markdown",
   "metadata": {},
   "source": [
    "8-Usine de Montage"
   ]
  },
  {
   "cell_type": "markdown",
   "metadata": {},
   "source": [
    "9-Produit"
   ]
  },
  {
   "cell_type": "code",
   "execution_count": 162,
   "metadata": {},
   "outputs": [
    {
     "data": {
      "text/html": [
       "<div>\n",
       "<style scoped>\n",
       "    .dataframe tbody tr th:only-of-type {\n",
       "        vertical-align: middle;\n",
       "    }\n",
       "\n",
       "    .dataframe tbody tr th {\n",
       "        vertical-align: top;\n",
       "    }\n",
       "\n",
       "    .dataframe thead th {\n",
       "        text-align: right;\n",
       "    }\n",
       "</style>\n",
       "<table border=\"1\" class=\"dataframe\">\n",
       "  <thead>\n",
       "    <tr style=\"text-align: right;\">\n",
       "      <th></th>\n",
       "      <th>data</th>\n",
       "      <th>venda</th>\n",
       "      <th>estoque</th>\n",
       "      <th>preco</th>\n",
       "    </tr>\n",
       "  </thead>\n",
       "  <tbody>\n",
       "    <tr>\n",
       "      <th>0</th>\n",
       "      <td>2014-01-01</td>\n",
       "      <td>0</td>\n",
       "      <td>4972</td>\n",
       "      <td>1.29</td>\n",
       "    </tr>\n",
       "    <tr>\n",
       "      <th>1</th>\n",
       "      <td>2014-01-02</td>\n",
       "      <td>70</td>\n",
       "      <td>4902</td>\n",
       "      <td>1.29</td>\n",
       "    </tr>\n",
       "    <tr>\n",
       "      <th>2</th>\n",
       "      <td>2014-01-03</td>\n",
       "      <td>59</td>\n",
       "      <td>4843</td>\n",
       "      <td>1.29</td>\n",
       "    </tr>\n",
       "    <tr>\n",
       "      <th>3</th>\n",
       "      <td>2014-01-04</td>\n",
       "      <td>93</td>\n",
       "      <td>4750</td>\n",
       "      <td>1.29</td>\n",
       "    </tr>\n",
       "    <tr>\n",
       "      <th>4</th>\n",
       "      <td>2014-01-05</td>\n",
       "      <td>96</td>\n",
       "      <td>4654</td>\n",
       "      <td>1.29</td>\n",
       "    </tr>\n",
       "  </tbody>\n",
       "</table>\n",
       "</div>"
      ],
      "text/plain": [
       "         data  venda  estoque  preco\n",
       "0  2014-01-01      0     4972   1.29\n",
       "1  2014-01-02     70     4902   1.29\n",
       "2  2014-01-03     59     4843   1.29\n",
       "3  2014-01-04     93     4750   1.29\n",
       "4  2014-01-05     96     4654   1.29"
      ]
     },
     "execution_count": 162,
     "metadata": {},
     "output_type": "execute_result"
    }
   ],
   "source": [
    "fifa=pd.read_csv(\"mock_retail.csv\")\n",
    "fifa.head()"
   ]
  },
  {
   "cell_type": "code",
   "execution_count": 163,
   "metadata": {},
   "outputs": [
    {
     "data": {
      "text/html": [
       "<div>\n",
       "<style scoped>\n",
       "    .dataframe tbody tr th:only-of-type {\n",
       "        vertical-align: middle;\n",
       "    }\n",
       "\n",
       "    .dataframe tbody tr th {\n",
       "        vertical-align: top;\n",
       "    }\n",
       "\n",
       "    .dataframe thead th {\n",
       "        text-align: right;\n",
       "    }\n",
       "</style>\n",
       "<table border=\"1\" class=\"dataframe\">\n",
       "  <thead>\n",
       "    <tr style=\"text-align: right;\">\n",
       "      <th></th>\n",
       "      <th>Id_Produit</th>\n",
       "      <th>Libelle_Produit</th>\n",
       "      <th>Prix_Produit</th>\n",
       "      <th>Date_Fabrication</th>\n",
       "      <th>CoutProd</th>\n",
       "    </tr>\n",
       "  </thead>\n",
       "  <tbody>\n",
       "  </tbody>\n",
       "</table>\n",
       "</div>"
      ],
      "text/plain": [
       "Empty DataFrame\n",
       "Columns: [Id_Produit, Libelle_Produit, Prix_Produit, Date_Fabrication, CoutProd]\n",
       "Index: []"
      ]
     },
     "execution_count": 163,
     "metadata": {},
     "output_type": "execute_result"
    }
   ],
   "source": []
  },
  {
   "cell_type": "code",
   "execution_count": null,
   "metadata": {},
   "outputs": [],
   "source": []
  },
  {
   "cell_type": "markdown",
   "metadata": {},
   "source": [
    "10-Commande"
   ]
  },
  {
   "cell_type": "markdown",
   "metadata": {},
   "source": [
    "11-Financier_ou_Commercial"
   ]
  },
  {
   "cell_type": "markdown",
   "metadata": {},
   "source": [
    "12-Devis"
   ]
  },
  {
   "cell_type": "markdown",
   "metadata": {},
   "source": [
    "13-Facture"
   ]
  },
  {
   "cell_type": "code",
   "execution_count": 150,
   "metadata": {},
   "outputs": [
    {
     "data": {
      "text/plain": [
       "''"
      ]
     },
     "execution_count": 150,
     "metadata": {},
     "output_type": "execute_result"
    }
   ],
   "source": [
    "import json\n",
    "# Opening JSON file\n",
    "f = open('C:\\\\Users\\\\Aymen\\\\Desktop\\\\4éme Semestre\\\\TP data wrangling\\\\TP 2 Data wrangling\\\\DTDPJ_factures.json')\n",
    "Tab_1=pd.json_normalize(f)\n",
    "Tab_2=pd.json_normalize(f,record_path=\"productQtys\",record_prefix='_',meta=[\"identifier\"])\n",
    "Tab_1=Tab_1[['identifier',\"client.raisonSociale\",\"date\"]]\n",
    "Tab_2=Tab_2[[\"identifier\",\"_name\",\"_quantity\",\"_price\"]] \n",
    "data3=Tab_1.merge(Tab_2, on='identifier')\n",
    "data3['hors_taxe']=data3[\"_quantity\"]*data3[\"_price\"]\n",
    "data3[\"TVA\"]=0.19*data3['hors_taxe']\n",
    "data3[\"TTC\"]=data3[\"TVA\"]+data3[\"hors_taxe\"]\n",
    "data_2021=data3.loc[data3[\"date\"].str.startswith(\"2011\")]\n",
    "data3"
   ]
  },
  {
   "attachments": {
    "image.png": {
     "image/png": "[encoded data removed]"
    }
   },
   "cell_type": "markdown",
   "metadata": {},
   "source": [
    "![image.png](attachment:image.png)"
   ]
  },
  {
   "cell_type": "markdown",
   "metadata": {},
   "source": [
    "14-Client"
   ]
  },
  {
   "cell_type": "code",
   "execution_count": 159,
   "metadata": {},
   "outputs": [
    {
     "data": {
      "text/html": [
       "<div>\n",
       "<style scoped>\n",
       "    .dataframe tbody tr th:only-of-type {\n",
       "        vertical-align: middle;\n",
       "    }\n",
       "\n",
       "    .dataframe tbody tr th {\n",
       "        vertical-align: top;\n",
       "    }\n",
       "\n",
       "    .dataframe thead th {\n",
       "        text-align: right;\n",
       "    }\n",
       "</style>\n",
       "<table border=\"1\" class=\"dataframe\">\n",
       "  <thead>\n",
       "    <tr style=\"text-align: right;\">\n",
       "      <th></th>\n",
       "      <th>identifier</th>\n",
       "      <th>client.raisonSociale</th>\n",
       "      <th>date</th>\n",
       "    </tr>\n",
       "  </thead>\n",
       "  <tbody>\n",
       "    <tr>\n",
       "      <th>0</th>\n",
       "      <td>1666239562000</td>\n",
       "      <td>Tunisie Medicaments</td>\n",
       "      <td>2020-02-21T12:35:32.068Z</td>\n",
       "    </tr>\n",
       "    <tr>\n",
       "      <th>1</th>\n",
       "      <td>-1187824257000</td>\n",
       "      <td>Cabdephar para</td>\n",
       "      <td>2021-01-02T23:00:00Z</td>\n",
       "    </tr>\n",
       "    <tr>\n",
       "      <th>2</th>\n",
       "      <td>-2080658422000</td>\n",
       "      <td>Tunisie Medicaments</td>\n",
       "      <td>2021-01-26T23:00:00Z</td>\n",
       "    </tr>\n",
       "    <tr>\n",
       "      <th>3</th>\n",
       "      <td>-992794964000</td>\n",
       "      <td>SOPROPHA SFAX</td>\n",
       "      <td>2019-11-14T12:14:03.068Z</td>\n",
       "    </tr>\n",
       "    <tr>\n",
       "      <th>4</th>\n",
       "      <td>-1766696871000</td>\n",
       "      <td>SOPROPHA SFAX</td>\n",
       "      <td>2019-02-14T17:09:11.068Z</td>\n",
       "    </tr>\n",
       "    <tr>\n",
       "      <th>...</th>\n",
       "      <td>...</td>\n",
       "      <td>...</td>\n",
       "      <td>...</td>\n",
       "    </tr>\n",
       "    <tr>\n",
       "      <th>821</th>\n",
       "      <td>1416995850000</td>\n",
       "      <td>Medika Kairouan</td>\n",
       "      <td>2021-12-21T23:00:00Z</td>\n",
       "    </tr>\n",
       "    <tr>\n",
       "      <th>822</th>\n",
       "      <td>1090433897000</td>\n",
       "      <td>SOPROPHA SFAX</td>\n",
       "      <td>2021-12-21T23:00:00Z</td>\n",
       "    </tr>\n",
       "    <tr>\n",
       "      <th>823</th>\n",
       "      <td>473931144000</td>\n",
       "      <td>Galien</td>\n",
       "      <td>2021-12-25T23:00:00Z</td>\n",
       "    </tr>\n",
       "    <tr>\n",
       "      <th>824</th>\n",
       "      <td>-794931613000</td>\n",
       "      <td>Cabdephar para</td>\n",
       "      <td>2021-12-25T23:00:00Z</td>\n",
       "    </tr>\n",
       "    <tr>\n",
       "      <th>825</th>\n",
       "      <td>164276473000</td>\n",
       "      <td>COTUPHA</td>\n",
       "      <td>2021-12-27T23:00:00Z</td>\n",
       "    </tr>\n",
       "  </tbody>\n",
       "</table>\n",
       "<p>826 rows × 3 columns</p>\n",
       "</div>"
      ],
      "text/plain": [
       "         identifier client.raisonSociale                      date\n",
       "0     1666239562000  Tunisie Medicaments  2020-02-21T12:35:32.068Z\n",
       "1    -1187824257000       Cabdephar para      2021-01-02T23:00:00Z\n",
       "2    -2080658422000  Tunisie Medicaments      2021-01-26T23:00:00Z\n",
       "3     -992794964000        SOPROPHA SFAX  2019-11-14T12:14:03.068Z\n",
       "4    -1766696871000        SOPROPHA SFAX  2019-02-14T17:09:11.068Z\n",
       "..              ...                  ...                       ...\n",
       "821   1416995850000      Medika Kairouan      2021-12-21T23:00:00Z\n",
       "822   1090433897000        SOPROPHA SFAX      2021-12-21T23:00:00Z\n",
       "823    473931144000               Galien      2021-12-25T23:00:00Z\n",
       "824   -794931613000       Cabdephar para      2021-12-25T23:00:00Z\n",
       "825    164276473000              COTUPHA      2021-12-27T23:00:00Z\n",
       "\n",
       "[826 rows x 3 columns]"
      ]
     },
     "execution_count": 159,
     "metadata": {},
     "output_type": "execute_result"
    }
   ],
   "source": [
    "# Opening JSON file\n",
    "f = open(r'C:\\Users\\Aymen\\Desktop\\Data Wrangling Project\\factures.json')\n",
    "info=json.load(f)\n",
    "Tab_1=pd.json_normalize(info)\n",
    "Tab_1=Tab_1[['identifier',\"client.raisonSociale\",\"date\"]]\n",
    "Tab_1"
   ]
  },
  {
   "cell_type": "code",
   "execution_count": 160,
   "metadata": {},
   "outputs": [
    {
     "data": {
      "text/html": [
       "<div>\n",
       "<style scoped>\n",
       "    .dataframe tbody tr th:only-of-type {\n",
       "        vertical-align: middle;\n",
       "    }\n",
       "\n",
       "    .dataframe tbody tr th {\n",
       "        vertical-align: top;\n",
       "    }\n",
       "\n",
       "    .dataframe thead th {\n",
       "        text-align: right;\n",
       "    }\n",
       "</style>\n",
       "<table border=\"1\" class=\"dataframe\">\n",
       "  <thead>\n",
       "    <tr style=\"text-align: right;\">\n",
       "      <th></th>\n",
       "      <th>Id_Client</th>\n",
       "      <th>Adresse</th>\n",
       "      <th>RaisonSociale</th>\n",
       "      <th>RIB</th>\n",
       "      <th>Classement</th>\n",
       "    </tr>\n",
       "  </thead>\n",
       "  <tbody>\n",
       "    <tr>\n",
       "      <th>0</th>\n",
       "      <td>1666239562000</td>\n",
       "      <td>NaN</td>\n",
       "      <td>Tunisie Medicaments</td>\n",
       "      <td>NaN</td>\n",
       "      <td>NaN</td>\n",
       "    </tr>\n",
       "    <tr>\n",
       "      <th>1</th>\n",
       "      <td>-1187824257000</td>\n",
       "      <td>NaN</td>\n",
       "      <td>Cabdephar para</td>\n",
       "      <td>NaN</td>\n",
       "      <td>NaN</td>\n",
       "    </tr>\n",
       "    <tr>\n",
       "      <th>2</th>\n",
       "      <td>-2080658422000</td>\n",
       "      <td>NaN</td>\n",
       "      <td>Tunisie Medicaments</td>\n",
       "      <td>NaN</td>\n",
       "      <td>NaN</td>\n",
       "    </tr>\n",
       "    <tr>\n",
       "      <th>3</th>\n",
       "      <td>-992794964000</td>\n",
       "      <td>NaN</td>\n",
       "      <td>SOPROPHA SFAX</td>\n",
       "      <td>NaN</td>\n",
       "      <td>NaN</td>\n",
       "    </tr>\n",
       "    <tr>\n",
       "      <th>4</th>\n",
       "      <td>-1766696871000</td>\n",
       "      <td>NaN</td>\n",
       "      <td>SOPROPHA SFAX</td>\n",
       "      <td>NaN</td>\n",
       "      <td>NaN</td>\n",
       "    </tr>\n",
       "    <tr>\n",
       "      <th>...</th>\n",
       "      <td>...</td>\n",
       "      <td>...</td>\n",
       "      <td>...</td>\n",
       "      <td>...</td>\n",
       "      <td>...</td>\n",
       "    </tr>\n",
       "    <tr>\n",
       "      <th>821</th>\n",
       "      <td>1416995850000</td>\n",
       "      <td>NaN</td>\n",
       "      <td>Medika Kairouan</td>\n",
       "      <td>NaN</td>\n",
       "      <td>NaN</td>\n",
       "    </tr>\n",
       "    <tr>\n",
       "      <th>822</th>\n",
       "      <td>1090433897000</td>\n",
       "      <td>NaN</td>\n",
       "      <td>SOPROPHA SFAX</td>\n",
       "      <td>NaN</td>\n",
       "      <td>NaN</td>\n",
       "    </tr>\n",
       "    <tr>\n",
       "      <th>823</th>\n",
       "      <td>473931144000</td>\n",
       "      <td>NaN</td>\n",
       "      <td>Galien</td>\n",
       "      <td>NaN</td>\n",
       "      <td>NaN</td>\n",
       "    </tr>\n",
       "    <tr>\n",
       "      <th>824</th>\n",
       "      <td>-794931613000</td>\n",
       "      <td>NaN</td>\n",
       "      <td>Cabdephar para</td>\n",
       "      <td>NaN</td>\n",
       "      <td>NaN</td>\n",
       "    </tr>\n",
       "    <tr>\n",
       "      <th>825</th>\n",
       "      <td>164276473000</td>\n",
       "      <td>NaN</td>\n",
       "      <td>COTUPHA</td>\n",
       "      <td>NaN</td>\n",
       "      <td>NaN</td>\n",
       "    </tr>\n",
       "  </tbody>\n",
       "</table>\n",
       "<p>826 rows × 5 columns</p>\n",
       "</div>"
      ],
      "text/plain": [
       "          Id_Client Adresse        RaisonSociale  RIB Classement\n",
       "0     1666239562000     NaN  Tunisie Medicaments  NaN        NaN\n",
       "1    -1187824257000     NaN       Cabdephar para  NaN        NaN\n",
       "2    -2080658422000     NaN  Tunisie Medicaments  NaN        NaN\n",
       "3     -992794964000     NaN        SOPROPHA SFAX  NaN        NaN\n",
       "4    -1766696871000     NaN        SOPROPHA SFAX  NaN        NaN\n",
       "..              ...     ...                  ...  ...        ...\n",
       "821   1416995850000     NaN      Medika Kairouan  NaN        NaN\n",
       "822   1090433897000     NaN        SOPROPHA SFAX  NaN        NaN\n",
       "823    473931144000     NaN               Galien  NaN        NaN\n",
       "824   -794931613000     NaN       Cabdephar para  NaN        NaN\n",
       "825    164276473000     NaN              COTUPHA  NaN        NaN\n",
       "\n",
       "[826 rows x 5 columns]"
      ]
     },
     "execution_count": 160,
     "metadata": {},
     "output_type": "execute_result"
    }
   ],
   "source": [
    "Client[[\"Id_Client\",\"RaisonSociale\"]]=Tab_1[[\"identifier\",\"client.raisonSociale\"]]\n",
    "Client"
   ]
  },
  {
   "cell_type": "code",
   "execution_count": 165,
   "metadata": {},
   "outputs": [],
   "source": [
    "L=[\"Mat_Premiére\",\"Fournisseur\",\"Equipement\",\"Ouvrier\",\"Piéce_Soutraitée\",\"Piéce_Maison\",\"Machine\",\"Usine_Montage\",\"Produit\",\"Commande\",\"Financier_ou_Commercial\",\"Devis\",\"Facture\",\"Client\"]"
   ]
  },
  {
   "cell_type": "code",
   "execution_count": 167,
   "metadata": {},
   "outputs": [],
   "source": [
    "for i in range(len(L_df)):\n",
    "    L_df[i].to_excel(L[i]+\".xlsx\")"
   ]
  },
  {
   "cell_type": "code",
   "execution_count": null,
   "metadata": {},
   "outputs": [],
   "source": []
  }
 ],
 "metadata": {
  "kernelspec": {
   "display_name": "p36workshop",
   "language": "python",
   "name": "p36workshop"
  },
  "language_info": {
   "codemirror_mode": {
    "name": "ipython",
    "version": 3
   },
   "file_extension": ".py",
   "mimetype": "text/x-python",
   "name": "python",
   "nbconvert_exporter": "python",
   "pygments_lexer": "ipython3",
   "version": "3.7.11"
  }
 },
 "nbformat": 4,
 "nbformat_minor": 4
}
