{
 "cells": [
  {
   "cell_type": "code",
   "execution_count": 1,
   "metadata": {},
   "outputs": [],
   "source": [
    "import numpy as np \n",
    "from Piece import Pawn,Knight,Bishop,King ,Queen,Rook\n",
    "from Board import Board"
   ]
  },
  {
   "cell_type": "code",
   "execution_count": 2,
   "metadata": {},
   "outputs": [],
   "source": [
    "def get_b_string(a,length=64):\n",
    "    a=np.uint64(a)\n",
    "    ch=bin(a)\n",
    "    ch=ch[2:].zfill(length)\n",
    "    print(ch)\n",
    "    return ch"
   ]
  },
  {
   "cell_type": "code",
   "execution_count": 3,
   "metadata": {},
   "outputs": [
    {
     "name": "stdout",
     "output_type": "stream",
     "text": [
      "0000000000000000000000000000000000000000000000001111111100000000\n",
      "\n",
      "--------\n",
      "--------\n",
      "--------\n",
      "--------\n",
      "--------\n",
      "--------\n",
      "OOOOOOOO\n",
      "--------\n",
      "\n",
      "--------\n",
      "OOOOOOOO\n",
      "--------\n",
      "--------\n",
      "--------\n",
      "--------\n",
      "--------\n",
      "--------\n",
      "\n",
      "--------\n",
      "--------\n",
      "--------\n",
      "--------\n",
      "--------\n",
      "--------\n",
      "--------\n",
      "-O----O-\n",
      "\n",
      "--O--O--\n",
      "--------\n",
      "--------\n",
      "--------\n",
      "--------\n",
      "--------\n",
      "--------\n",
      "--------\n",
      "\n",
      "--------\n",
      "--------\n",
      "--------\n",
      "--------\n",
      "--------\n",
      "--------\n",
      "--------\n",
      "---O----\n",
      "\n",
      "----O---\n",
      "--------\n",
      "--------\n",
      "--------\n",
      "--------\n",
      "--------\n",
      "--------\n",
      "--------\n",
      "\n",
      "--------\n",
      "--------\n",
      "--------\n",
      "--------\n",
      "--------\n",
      "--------\n",
      "--------\n",
      "O------O\n"
     ]
    }
   ],
   "source": [
    "P=Pawn(0)\n",
    "P2=Pawn(1)\n",
    "N=Knight(0)\n",
    "B=Bishop(1)\n",
    "K=King(0)\n",
    "Q=Queen(1)\n",
    "R=Rook(0)\n",
    "P.initial_bb\n",
    "get_b_string(P.initial_bb,64)\n",
    "P.initial_bb.print_bitboard()\n",
    "P2.initial_bb.print_bitboard()\n",
    "N.initial_bb.print_bitboard()\n",
    "B.initial_bb.print_bitboard()\n",
    "K.initial_bb.print_bitboard()\n",
    "Q.initial_bb.print_bitboard()\n",
    "R.initial_bb.print_bitboard()"
   ]
  },
  {
   "cell_type": "code",
   "execution_count": null,
   "metadata": {},
   "outputs": [],
   "source": []
  },
  {
   "cell_type": "code",
   "execution_count": 4,
   "metadata": {},
   "outputs": [
    {
     "name": "stdout",
     "output_type": "stream",
     "text": [
      "1111111111111111000000000000000000000000000000001111111111111111\n"
     ]
    },
    {
     "data": {
      "text/plain": [
       "'1111111111111111000000000000000000000000000000001111111111111111'"
      ]
     },
     "execution_count": 4,
     "metadata": {},
     "output_type": "execute_result"
    }
   ],
   "source": [
    "B=Board()\n",
    "get_b_string(B.Pos.BB,64)"
   ]
  },
  {
   "cell_type": "code",
   "execution_count": 9,
   "metadata": {},
   "outputs": [
    {
     "name": "stdout",
     "output_type": "stream",
     "text": [
      "<Piece.Rook object at 0x00000253699CD5C8>\n",
      "<Piece.Knight object at 0x00000253699CD688>\n",
      "<Piece.Bishop object at 0x00000253699CD708>\n",
      "<Piece.Queen object at 0x00000253699CD808>\n",
      "<Piece.King object at 0x00000253699CD908>\n",
      "<Piece.Pawn object at 0x00000253699CDA08>\n",
      "<Piece.Rook object at 0x00000253699CDC08>\n",
      "<Piece.Knight object at 0x00000253699CDD08>\n",
      "<Piece.Bishop object at 0x00000253699CDD88>\n",
      "<Piece.Queen object at 0x00000253699CDE88>\n",
      "<Piece.King object at 0x0000025331505A88>\n",
      "<Piece.Pawn object at 0x0000025331544D08>\n",
      "<Piece.Pawn object at 0x0000025331544D08>\n"
     ]
    }
   ],
   "source": [
    "A=B.get_Piece_by_sq(11)\n",
    "print(A)"
   ]
  },
  {
   "cell_type": "code",
   "execution_count": 6,
   "metadata": {},
   "outputs": [
    {
     "name": "stdout",
     "output_type": "stream",
     "text": [
      "\n",
      "XXXXXXXX\n",
      "XXXXXXXX\n",
      "--------\n",
      "--------\n",
      "--------\n",
      "--------\n",
      "XXXXXXXX\n",
      "XXXXXXXX\n"
     ]
    }
   ],
   "source": [
    "B.print_board()"
   ]
  },
  {
   "cell_type": "code",
   "execution_count": null,
   "metadata": {},
   "outputs": [],
   "source": []
  },
  {
   "cell_type": "code",
   "execution_count": 7,
   "metadata": {},
   "outputs": [
    {
     "name": "stdout",
     "output_type": "stream",
     "text": [
      "0 a\n",
      "1 b\n",
      "2 c\n"
     ]
    }
   ],
   "source": [
    "ch=\"abc\"\n",
    "for i,j in enumerate(ch):\n",
    "    print(i , j)"
   ]
  },
  {
   "cell_type": "code",
   "execution_count": null,
   "metadata": {},
   "outputs": [],
   "source": []
  },
  {
   "cell_type": "code",
   "execution_count": null,
   "metadata": {},
   "outputs": [],
   "source": []
  },
  {
   "cell_type": "code",
   "execution_count": null,
   "metadata": {},
   "outputs": [],
   "source": []
  },
  {
   "cell_type": "code",
   "execution_count": null,
   "metadata": {},
   "outputs": [],
   "source": []
  },
  {
   "cell_type": "code",
   "execution_count": null,
   "metadata": {},
   "outputs": [],
   "source": []
  },
  {
   "cell_type": "code",
   "execution_count": null,
   "metadata": {},
   "outputs": [],
   "source": []
  },
  {
   "cell_type": "code",
   "execution_count": null,
   "metadata": {},
   "outputs": [],
   "source": []
  }
 ],
 "metadata": {
  "kernelspec": {
   "display_name": "p36workshop",
   "language": "python",
   "name": "p36workshop"
  },
  "language_info": {
   "codemirror_mode": {
    "name": "ipython",
    "version": 3
   },
   "file_extension": ".py",
   "mimetype": "text/x-python",
   "name": "python",
   "nbconvert_exporter": "python",
   "pygments_lexer": "ipython3",
   "version": "3.7.11"
  }
 },
 "nbformat": 4,
 "nbformat_minor": 4
}
