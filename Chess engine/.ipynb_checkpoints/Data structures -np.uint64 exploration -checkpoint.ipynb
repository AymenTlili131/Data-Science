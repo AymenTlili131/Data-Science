{
 "cells": [
  {
   "cell_type": "code",
   "execution_count": 2,
   "metadata": {},
   "outputs": [],
   "source": [
    "import numpy as np \n",
    "from Board import Board\n",
    "from bitboards import bitboard"
   ]
  },
  {
   "cell_type": "code",
   "execution_count": 3,
   "metadata": {},
   "outputs": [],
   "source": [
    "def get_b_string(a,length=64):\n",
    "    a=np.uint64(a)\n",
    "    ch=bin(a)\n",
    "    ch=ch[2:].zfill(length)\n",
    "    print(ch)\n",
    "    return ch"
   ]
  },
  {
   "cell_type": "code",
   "execution_count": 4,
   "metadata": {},
   "outputs": [
    {
     "name": "stdout",
     "output_type": "stream",
     "text": [
      "00000010\n",
      "00000111\n",
      "00000111\n",
      "9\n"
     ]
    },
    {
     "data": {
      "text/plain": [
       "7"
      ]
     },
     "execution_count": 4,
     "metadata": {},
     "output_type": "execute_result"
    }
   ],
   "source": [
    "a=np.uint64(2)\n",
    "get_b_string(a,length=8)\n",
    "b=np.uint64(7)\n",
    "get_b_string(b,length=8)\n",
    "get_b_string(a|b,length=8)\n",
    "print(a+b)\n",
    "int(a|b)"
   ]
  },
  {
   "cell_type": "code",
   "execution_count": 13,
   "metadata": {},
   "outputs": [
    {
     "data": {
      "text/plain": [
       "0"
      ]
     },
     "execution_count": 13,
     "metadata": {},
     "output_type": "execute_result"
    }
   ],
   "source": [
    "a=bitboard()\n",
    "b=bitboard()\n",
    "a.value|b.value"
   ]
  },
  {
   "cell_type": "code",
   "execution_count": 10,
   "metadata": {},
   "outputs": [
    {
     "name": "stdout",
     "output_type": "stream",
     "text": [
      "1000000000000000000000000000000000000000000000000000000000000000\n"
     ]
    },
    {
     "data": {
      "text/plain": [
       "'1000000000000000000000000000000000000000000000000000000000000000'"
      ]
     },
     "execution_count": 10,
     "metadata": {},
     "output_type": "execute_result"
    }
   ],
   "source": [
    "a.value=np.uint64( (a.value | (np.uint64(1) << np.uint64(63))))\n",
    "get_b_string(a,length=64)"
   ]
  },
  {
   "cell_type": "code",
   "execution_count": 14,
   "metadata": {},
   "outputs": [
    {
     "name": "stdout",
     "output_type": "stream",
     "text": [
      "1000000000000000000000000000000000000000000000000000000000000000\n"
     ]
    },
    {
     "data": {
      "text/plain": [
       "'1000000000000000000000000000000000000000000000000000000000000000'"
      ]
     },
     "execution_count": 14,
     "metadata": {},
     "output_type": "execute_result"
    }
   ],
   "source": [
    "a.setBitHot(63)\n",
    "get_b_string(a,length=64)"
   ]
  },
  {
   "cell_type": "code",
   "execution_count": 15,
   "metadata": {},
   "outputs": [
    {
     "data": {
      "text/plain": [
       "18446744073709551610"
      ]
     },
     "execution_count": 15,
     "metadata": {},
     "output_type": "execute_result"
    }
   ],
   "source": [
    "a=np.uint64(5)\n",
    "bb=bitboard()\n",
    "bb.value=np.uint64\n",
    "~a"
   ]
  },
  {
   "cell_type": "code",
   "execution_count": 24,
   "metadata": {},
   "outputs": [
    {
     "name": "stdout",
     "output_type": "stream",
     "text": [
      "00000101\n",
      "00000011\n",
      "7\n",
      "00000001\n",
      "5\n"
     ]
    },
    {
     "data": {
      "text/plain": [
       "8"
      ]
     },
     "execution_count": 24,
     "metadata": {},
     "output_type": "execute_result"
    }
   ],
   "source": [
    "a=np.uint64(5)\n",
    "b=np.uint64(3)\n",
    "get_b_string(a,length=8)\n",
    "get_b_string(b,length=8)\n",
    "print(a|b)\n",
    "type(a|b) \n",
    "#c=a&(np.uint64(1)<<b)\n",
    "c=a&b\n",
    "get_b_string(c,8)\n",
    "print(a|c)\n",
    "a+b"
   ]
  },
  {
   "cell_type": "code",
   "execution_count": 25,
   "metadata": {},
   "outputs": [
    {
     "data": {
      "text/plain": [
       "True"
      ]
     },
     "execution_count": 25,
     "metadata": {},
     "output_type": "execute_result"
    }
   ],
   "source": [
    "a=np.uint64(5)\n",
    "ch=bin(a)\n",
    "ch=ch[2:].zfill(64)\n",
    "int(ch, 2)\n",
    "a=a<<np.uint64(2)\n",
    "ch=bin(a)\n",
    "ch=ch[2:].zfill(64)\n",
    "b=np.uint64(int(ch, 2))\n",
    "a==b"
   ]
  },
  {
   "cell_type": "code",
   "execution_count": 26,
   "metadata": {},
   "outputs": [
    {
     "data": {
      "text/plain": [
       "b'\\x14\\x00\\x00\\x00\\x00\\x00\\x00\\x00'"
      ]
     },
     "execution_count": 26,
     "metadata": {},
     "output_type": "execute_result"
    }
   ],
   "source": [
    "a.tobytes()"
   ]
  },
  {
   "cell_type": "code",
   "execution_count": 27,
   "metadata": {},
   "outputs": [
    {
     "name": "stdout",
     "output_type": "stream",
     "text": [
      "0b101 0b10\n"
     ]
    },
    {
     "data": {
      "text/plain": [
       "'0000000000000000000000000000000000000000000000000000000000000111'"
      ]
     },
     "execution_count": 27,
     "metadata": {},
     "output_type": "execute_result"
    }
   ],
   "source": [
    "a=np.uint64(5)\n",
    "ch=bin(a)\n",
    "ch=ch[2:].zfill(64)\n",
    "b=np.uint64(2)\n",
    "ch1=bin(b)\n",
    "ch1=ch1[2:].zfill(64)\n",
    "print(bin(a),bin(b))\n",
    "bin(a|b)[2:].zfill(64)"
   ]
  },
  {
   "cell_type": "code",
   "execution_count": 28,
   "metadata": {},
   "outputs": [],
   "source": [
    "bb=bitboard()"
   ]
  },
  {
   "cell_type": "code",
   "execution_count": 29,
   "metadata": {},
   "outputs": [
    {
     "data": {
      "text/plain": [
       "5"
      ]
     },
     "execution_count": 29,
     "metadata": {},
     "output_type": "execute_result"
    }
   ],
   "source": [
    "bb.value+a"
   ]
  },
  {
   "cell_type": "code",
   "execution_count": 30,
   "metadata": {},
   "outputs": [
    {
     "name": "stdout",
     "output_type": "stream",
     "text": [
      "<class 'numpy.uint64'>\n"
     ]
    },
    {
     "data": {
      "text/plain": [
       "int"
      ]
     },
     "execution_count": 30,
     "metadata": {},
     "output_type": "execute_result"
    }
   ],
   "source": [
    "h=np.uint64(0)\n",
    "a=7\n",
    "print(type(bb.value+h))\n",
    "type(a)"
   ]
  },
  {
   "cell_type": "code",
   "execution_count": null,
   "metadata": {},
   "outputs": [],
   "source": []
  },
  {
   "cell_type": "code",
   "execution_count": null,
   "metadata": {},
   "outputs": [],
   "source": []
  }
 ],
 "metadata": {
  "kernelspec": {
   "display_name": "p36workshop",
   "language": "python",
   "name": "p36workshop"
  },
  "language_info": {
   "codemirror_mode": {
    "name": "ipython",
    "version": 3
   },
   "file_extension": ".py",
   "mimetype": "text/x-python",
   "name": "python",
   "nbconvert_exporter": "python",
   "pygments_lexer": "ipython3",
   "version": "3.7.11"
  }
 },
 "nbformat": 4,
 "nbformat_minor": 4
}
