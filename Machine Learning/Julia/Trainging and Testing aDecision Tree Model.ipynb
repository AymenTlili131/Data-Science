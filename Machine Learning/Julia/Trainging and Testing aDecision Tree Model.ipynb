{
 "cells": [
  {
   "cell_type": "code",
   "execution_count": 1,
   "metadata": {},
   "outputs": [
    {
     "data": {
      "text/plain": [
       "150-element Array{String,1}:\n",
       " \"setosa\"   \n",
       " \"setosa\"   \n",
       " \"setosa\"   \n",
       " \"setosa\"   \n",
       " \"setosa\"   \n",
       " \"setosa\"   \n",
       " \"setosa\"   \n",
       " \"setosa\"   \n",
       " \"setosa\"   \n",
       " \"setosa\"   \n",
       " \"setosa\"   \n",
       " \"setosa\"   \n",
       " \"setosa\"   \n",
       " ⋮          \n",
       " \"virginica\"\n",
       " \"virginica\"\n",
       " \"virginica\"\n",
       " \"virginica\"\n",
       " \"virginica\"\n",
       " \"virginica\"\n",
       " \"virginica\"\n",
       " \"virginica\"\n",
       " \"virginica\"\n",
       " \"virginica\"\n",
       " \"virginica\"\n",
       " \"virginica\""
      ]
     },
     "execution_count": 1,
     "metadata": {},
     "output_type": "execute_result"
    }
   ],
   "source": [
    "using RDatasets,Distributions,DecisionTree,MLBase\n",
    "iris=dataset(\"datasets\",\"iris\")\n",
    "features =convert(Array,iris[:,1:4])\n",
    "labels=convert(Array,iris[:,5])"
   ]
  },
  {
   "cell_type": "code",
   "execution_count": 5,
   "metadata": {},
   "outputs": [],
   "source": [
    "train=rand(Bernoulli(0.75),nrow(iris))\n",
    "#convert(UInt8, x)\n",
    "test=Bool[]\n",
    "for i in 1:nrow(iris)\n",
    " push!(test,!train[i])\n",
    "end"
   ]
  },
  {
   "cell_type": "code",
   "execution_count": 6,
   "metadata": {},
   "outputs": [
    {
     "data": {
      "text/plain": [
       "Decision Tree\n",
       "Leaves: 9\n",
       "Depth:  5"
      ]
     },
     "execution_count": 6,
     "metadata": {},
     "output_type": "execute_result"
    }
   ],
   "source": [
    "model=build_tree(labels[train],features[train,:])"
   ]
  },
  {
   "cell_type": "code",
   "execution_count": 7,
   "metadata": {},
   "outputs": [
    {
     "name": "stdout",
     "output_type": "stream",
     "text": [
      "Feature 3, Threshold 2.45\n",
      "L-> setosa : 37/37\n",
      "R-> Feature 4, Threshold 1.75\n",
      "    L-> Feature 3, Threshold 5.05\n",
      "        L-> Feature 4, Threshold 1.65\n",
      "            L-> versicolor : 34/34\n",
      "            R-> Feature 2, Threshold 2.75\n",
      "                L-> virginica : 1/1\n",
      "                R-> versicolor : 1/1\n",
      "        R-> virginica : 3/4\n",
      "    R-> Feature 3, Threshold 4.85\n",
      "        L-> Feature 1, Threshold 5.95\n",
      "            L-> versicolor : 1/1\n",
      "            R-> virginica : 2/2\n",
      "        R-> virginica : 32/32\n"
     ]
    }
   ],
   "source": [
    "model=prune_tree(model,0.7)\n",
    "print_tree(model)"
   ]
  },
  {
   "cell_type": "code",
   "execution_count": 8,
   "metadata": {},
   "outputs": [
    {
     "data": {
      "text/plain": [
       "38-element Array{String,1}:\n",
       " \"setosa\"    \n",
       " \"setosa\"    \n",
       " \"setosa\"    \n",
       " \"setosa\"    \n",
       " \"setosa\"    \n",
       " \"setosa\"    \n",
       " \"setosa\"    \n",
       " \"setosa\"    \n",
       " \"setosa\"    \n",
       " \"setosa\"    \n",
       " \"setosa\"    \n",
       " \"setosa\"    \n",
       " \"setosa\"    \n",
       " ⋮           \n",
       " \"virginica\" \n",
       " \"virginica\" \n",
       " \"virginica\" \n",
       " \"virginica\" \n",
       " \"virginica\" \n",
       " \"versicolor\"\n",
       " \"virginica\" \n",
       " \"virginica\" \n",
       " \"virginica\" \n",
       " \"virginica\" \n",
       " \"virginica\" \n",
       " \"virginica\" "
      ]
     },
     "execution_count": 8,
     "metadata": {},
     "output_type": "execute_result"
    }
   ],
   "source": [
    "predictions = apply_tree(model,features[test,:])"
   ]
  },
  {
   "cell_type": "markdown",
   "metadata": {},
   "source": [
    "Performance Check"
   ]
  },
  {
   "cell_type": "code",
   "execution_count": 10,
   "metadata": {},
   "outputs": [
    {
     "data": {
      "text/plain": [
       "38-element Array{Int64,1}:\n",
       " 1\n",
       " 1\n",
       " 1\n",
       " 1\n",
       " 1\n",
       " 1\n",
       " 1\n",
       " 1\n",
       " 1\n",
       " 1\n",
       " 1\n",
       " 1\n",
       " 1\n",
       " ⋮\n",
       " 2\n",
       " 2\n",
       " 2\n",
       " 2\n",
       " 2\n",
       " 3\n",
       " 2\n",
       " 2\n",
       " 2\n",
       " 2\n",
       " 2\n",
       " 2"
      ]
     },
     "execution_count": 10,
     "metadata": {},
     "output_type": "execute_result"
    }
   ],
   "source": [
    "species=[\"setosa\",\"virginica\",\"versicolor\"]\n",
    "lm=labelmap(species)\n",
    "labels_test=labelencode(lm,labels[test])\n",
    "predictions_test=labelencode(lm, predictions)"
   ]
  },
  {
   "cell_type": "code",
   "execution_count": 15,
   "metadata": {},
   "outputs": [
    {
     "name": "stdout",
     "output_type": "stream",
     "text": [
      "0.9817853324553131\n"
     ]
    },
    {
     "data": {
      "text/plain": [
       "0.9615384615384616"
      ]
     },
     "execution_count": 15,
     "metadata": {},
     "output_type": "execute_result"
    }
   ],
   "source": [
    "println(cor(labels_test,predictions_test)) #correlation coefficient\n",
    "R2(labels_test,predictions_test) #R_squared test"
   ]
  },
  {
   "cell_type": "code",
   "execution_count": 16,
   "metadata": {},
   "outputs": [
    {
     "name": "stdout",
     "output_type": "stream",
     "text": [
      "1 - 1\n",
      "1 - 1\n",
      "1 - 1\n",
      "1 - 1\n",
      "1 - 1\n",
      "1 - 1\n",
      "1 - 1\n",
      "1 - 1\n",
      "1 - 1\n",
      "1 - 1\n",
      "1 - 1\n",
      "1 - 1\n",
      "1 - 1\n",
      "3 - 3\n",
      "3 - 3\n",
      "3 - 3\n",
      "3 - 3\n",
      "3 - 3\n",
      "3 - 3\n",
      "3 - 3\n",
      "3 - 3\n",
      "3 - 3\n",
      "3 - 3\n",
      "3 - 3\n",
      "3 - 3\n",
      "3 - 3\n",
      "2 - 2\n",
      "2 - 2\n",
      "2 - 2\n",
      "2 - 2\n",
      "2 - 2\n",
      "2 - 3\n",
      "2 - 2\n",
      "2 - 2\n",
      "2 - 2\n",
      "2 - 2\n",
      "2 - 2\n",
      "2 - 2\n"
     ]
    }
   ],
   "source": [
    "for i in 1:length(labels_test)\n",
    "    println(labels_test[i],\" - \" ,predictions_test[i])\n",
    "end"
   ]
  },
  {
   "cell_type": "markdown",
   "metadata": {},
   "source": [
    "we can see a single error of prediction in this set 2-3"
   ]
  },
  {
   "cell_type": "code",
   "execution_count": 23,
   "metadata": {},
   "outputs": [
    {
     "data": {
      "text/plain": [
       "ROCNums{Int64}\n",
       "  p = 38\n",
       "  n = 0\n",
       "  tp = 37\n",
       "  tn = 0\n",
       "  fp = 0\n",
       "  fn = 0\n"
      ]
     },
     "execution_count": 23,
     "metadata": {},
     "output_type": "execute_result"
    }
   ],
   "source": [
    "r=roc(labels_test,predictions_test)"
   ]
  },
  {
   "cell_type": "code",
   "execution_count": 25,
   "metadata": {},
   "outputs": [
    {
     "name": "stdout",
     "output_type": "stream",
     "text": [
      "0.9736842105263158\n",
      "NaN\n",
      "1.0\n",
      "0.9736842105263158\n"
     ]
    }
   ],
   "source": [
    "println(true_positive_rate(r))\n",
    "println(true_negative_rate(r))\n",
    "println(precision(r))\n",
    "println(recall(r))"
   ]
  },
  {
   "cell_type": "code",
   "execution_count": null,
   "metadata": {},
   "outputs": [],
   "source": [
    "#we can repeat this for a range of different purities to get more precise results\n",
    "accuracy_cv =DataFrame()\n",
    "accuracy_cv[:purity]=collect(0.1:0.025:1.0)\n",
    "accuracy_cv[:accuracy]= map(x->mean(nfoldCV_tree(labels[train],features[train,:],x,10)),accuracy_cv[:purity])\n"
   ]
  },
  {
   "cell_type": "code",
   "execution_count": null,
   "metadata": {},
   "outputs": [],
   "source": []
  }
 ],
 "metadata": {
  "kernelspec": {
   "display_name": "Julia 1.0.5",
   "language": "julia",
   "name": "julia-1.0"
  },
  "language_info": {
   "file_extension": ".jl",
   "mimetype": "application/julia",
   "name": "julia",
   "version": "1.0.5"
  }
 },
 "nbformat": 4,
 "nbformat_minor": 4
}
