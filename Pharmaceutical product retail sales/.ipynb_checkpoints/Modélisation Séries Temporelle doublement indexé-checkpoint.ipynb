{
 "cells": [
  {
   "cell_type": "code",
   "execution_count": 15,
   "metadata": {},
   "outputs": [],
   "source": [
    "import pandas as pd"
   ]
  },
  {
   "cell_type": "code",
   "execution_count": 16,
   "metadata": {},
   "outputs": [],
   "source": [
    "df_C=pd.read_csv('Clients.csv')\n",
    "df_F=pd.read_csv('Factures.csv')\n",
    "df_P=pd.read_csv('Produits.csv')\n",
    "df_C=df_C.drop(columns=[\"Unnamed: 0\"])\n",
    "df_F=df_F.drop(columns=[\"Unnamed: 0\"])\n",
    "df_P=df_P.drop(columns=[\"Unnamed: 0\"])"
   ]
  },
  {
   "cell_type": "code",
   "execution_count": 17,
   "metadata": {},
   "outputs": [
    {
     "data": {
      "text/plain": [
       "Index(['Création', 'Identifier', 'adress', 'raisonSociale', 'madalite',\n",
       "       'matriculeFiscale', 'ID', 'email', 'ID facture'],\n",
       "      dtype='object')"
      ]
     },
     "execution_count": 17,
     "metadata": {},
     "output_type": "execute_result"
    }
   ],
   "source": [
    "df_C.columns"
   ]
  },
  {
   "cell_type": "code",
   "execution_count": 18,
   "metadata": {},
   "outputs": [
    {
     "data": {
      "text/html": [
       "<div>\n",
       "<style scoped>\n",
       "    .dataframe tbody tr th:only-of-type {\n",
       "        vertical-align: middle;\n",
       "    }\n",
       "\n",
       "    .dataframe tbody tr th {\n",
       "        vertical-align: top;\n",
       "    }\n",
       "\n",
       "    .dataframe thead th {\n",
       "        text-align: right;\n",
       "    }\n",
       "</style>\n",
       "<table border=\"1\" class=\"dataframe\">\n",
       "  <thead>\n",
       "    <tr style=\"text-align: right;\">\n",
       "      <th></th>\n",
       "      <th>date</th>\n",
       "      <th>reference</th>\n",
       "      <th>paymentDelay</th>\n",
       "      <th>createdAt</th>\n",
       "      <th>identifier</th>\n",
       "      <th>paymentMethod</th>\n",
       "      <th>paye</th>\n",
       "      <th>client</th>\n",
       "      <th>numeroCheque</th>\n",
       "      <th>ID_Produits</th>\n",
       "      <th>id</th>\n",
       "      <th>status</th>\n",
       "    </tr>\n",
       "  </thead>\n",
       "  <tbody>\n",
       "    <tr>\n",
       "      <th>0</th>\n",
       "      <td>2020-02-21T12:35:32.068Z</td>\n",
       "      <td>1000247</td>\n",
       "      <td>2021-08-08T00:16:46.169Z</td>\n",
       "      <td>2020-02-21T12:36:13.068Z</td>\n",
       "      <td>1666239562000</td>\n",
       "      <td>check</td>\n",
       "      <td>True</td>\n",
       "      <td>188450</td>\n",
       "      <td>NaN</td>\n",
       "      <td>{'Produit 1': 38350, 'Produit 2': 38500}</td>\n",
       "      <td>1035650</td>\n",
       "      <td>True</td>\n",
       "    </tr>\n",
       "    <tr>\n",
       "      <th>1</th>\n",
       "      <td>2021-01-02T23:00:00Z</td>\n",
       "      <td>1100008</td>\n",
       "      <td>2021-04-12T23:00:00Z</td>\n",
       "      <td>2021-01-05T08:56:54.181Z</td>\n",
       "      <td>-1187824257000</td>\n",
       "      <td>traite</td>\n",
       "      <td>True</td>\n",
       "      <td>188900</td>\n",
       "      <td>NaN</td>\n",
       "      <td>{'Produit 1': 38350, 'Produit 2': 38500}</td>\n",
       "      <td>1035650</td>\n",
       "      <td>True</td>\n",
       "    </tr>\n",
       "    <tr>\n",
       "      <th>2</th>\n",
       "      <td>2021-01-26T23:00:00Z</td>\n",
       "      <td>1100031</td>\n",
       "      <td>2021-04-26T22:00:00Z</td>\n",
       "      <td>2021-01-28T11:30:19.707Z</td>\n",
       "      <td>-2080658422000</td>\n",
       "      <td>traite</td>\n",
       "      <td>True</td>\n",
       "      <td>188450</td>\n",
       "      <td>NaN</td>\n",
       "      <td>{'Produit 1': 38350, 'Produit 2': 38500}</td>\n",
       "      <td>1035650</td>\n",
       "      <td>True</td>\n",
       "    </tr>\n",
       "    <tr>\n",
       "      <th>3</th>\n",
       "      <td>2019-11-14T12:14:03.068Z</td>\n",
       "      <td>1000182</td>\n",
       "      <td>2021-08-08T00:16:47.362Z</td>\n",
       "      <td>2019-11-14T12:14:03.068Z</td>\n",
       "      <td>-992794964000</td>\n",
       "      <td>check</td>\n",
       "      <td>True</td>\n",
       "      <td>189950</td>\n",
       "      <td>NaN</td>\n",
       "      <td>{'Produit 1': 38350, 'Produit 2': 38500}</td>\n",
       "      <td>1035650</td>\n",
       "      <td>True</td>\n",
       "    </tr>\n",
       "    <tr>\n",
       "      <th>4</th>\n",
       "      <td>2019-02-14T17:09:11.068Z</td>\n",
       "      <td>1000030</td>\n",
       "      <td>2021-08-08T00:16:47.660Z</td>\n",
       "      <td>2019-02-14T17:09:11.068Z</td>\n",
       "      <td>-1766696871000</td>\n",
       "      <td>check</td>\n",
       "      <td>True</td>\n",
       "      <td>189950</td>\n",
       "      <td>NaN</td>\n",
       "      <td>{'Produit 1': 38350, 'Produit 2': 38500}</td>\n",
       "      <td>1035650</td>\n",
       "      <td>True</td>\n",
       "    </tr>\n",
       "  </tbody>\n",
       "</table>\n",
       "</div>"
      ],
      "text/plain": [
       "                       date  reference              paymentDelay  \\\n",
       "0  2020-02-21T12:35:32.068Z    1000247  2021-08-08T00:16:46.169Z   \n",
       "1      2021-01-02T23:00:00Z    1100008      2021-04-12T23:00:00Z   \n",
       "2      2021-01-26T23:00:00Z    1100031      2021-04-26T22:00:00Z   \n",
       "3  2019-11-14T12:14:03.068Z    1000182  2021-08-08T00:16:47.362Z   \n",
       "4  2019-02-14T17:09:11.068Z    1000030  2021-08-08T00:16:47.660Z   \n",
       "\n",
       "                  createdAt     identifier paymentMethod  paye  client  \\\n",
       "0  2020-02-21T12:36:13.068Z  1666239562000         check  True  188450   \n",
       "1  2021-01-05T08:56:54.181Z -1187824257000        traite  True  188900   \n",
       "2  2021-01-28T11:30:19.707Z -2080658422000        traite  True  188450   \n",
       "3  2019-11-14T12:14:03.068Z  -992794964000         check  True  189950   \n",
       "4  2019-02-14T17:09:11.068Z -1766696871000         check  True  189950   \n",
       "\n",
       "   numeroCheque                               ID_Produits       id  status  \n",
       "0           NaN  {'Produit 1': 38350, 'Produit 2': 38500}  1035650    True  \n",
       "1           NaN  {'Produit 1': 38350, 'Produit 2': 38500}  1035650    True  \n",
       "2           NaN  {'Produit 1': 38350, 'Produit 2': 38500}  1035650    True  \n",
       "3           NaN  {'Produit 1': 38350, 'Produit 2': 38500}  1035650    True  \n",
       "4           NaN  {'Produit 1': 38350, 'Produit 2': 38500}  1035650    True  "
      ]
     },
     "execution_count": 18,
     "metadata": {},
     "output_type": "execute_result"
    }
   ],
   "source": [
    "df_F.head()"
   ]
  },
  {
   "cell_type": "code",
   "execution_count": null,
   "metadata": {},
   "outputs": [],
   "source": []
  },
  {
   "cell_type": "code",
   "execution_count": null,
   "metadata": {},
   "outputs": [],
   "source": []
  }
 ],
 "metadata": {
  "kernelspec": {
   "display_name": "p36workshop",
   "language": "python",
   "name": "p36workshop"
  },
  "language_info": {
   "codemirror_mode": {
    "name": "ipython",
    "version": 3
   },
   "file_extension": ".py",
   "mimetype": "text/x-python",
   "name": "python",
   "nbconvert_exporter": "python",
   "pygments_lexer": "ipython3",
   "version": "3.7.11"
  }
 },
 "nbformat": 4,
 "nbformat_minor": 4
}
