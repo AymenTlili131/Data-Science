{
 "cells": [
  {
   "cell_type": "code",
   "execution_count": null,
   "metadata": {},
   "outputs": [],
   "source": [
    "transform = transforms.Compose([transforms.ToTensor()]) #transforms.Resize(255), transforms.CenterCrop(224),"
   ]
  },
  {
   "cell_type": "code",
   "execution_count": null,
   "metadata": {},
   "outputs": [],
   "source": [
    "path=r'./Juventus/Home/'\n",
    "dataset = torchvision.datasets.ImageFolder(path,transform=transform)\n",
    "dataset.samples[0:397]"
   ]
  },
  {
   "cell_type": "code",
   "execution_count": 1,
   "metadata": {},
   "outputs": [
    {
     "name": "stderr",
     "output_type": "stream",
     "text": [
      "C:\\Users\\Aymen\\.conda\\envs\\p36workshop\\lib\\site-packages\\torchvision\\io\\image.py:11: UserWarning: Failed to load image Python extension: [WinError 126] Le module spécifié est introuvable\n",
      "  warn(f\"Failed to load image Python extension: {e}\")\n"
     ]
    }
   ],
   "source": [
    "import torch\n",
    "import torch.nn as nn\n",
    "from torch.utils.data import DataLoader, Dataset\n",
    "import torch.nn.functional as F\n",
    "\n",
    "import torchvision\n",
    "import torchvision.transforms as transforms\n",
    "from torchvision.utils import make_grid\n",
    "from torchvision.utils import save_image\n",
    "from torchvision import datasets, transforms\n",
    "\n",
    "import matplotlib.pyplot as plt\n",
    "import numpy as np\n",
    "import pandas as pd\n",
    "from IPython.display import Image\n",
    "import matplotlib.pyplot as plt\n",
    "\n",
    "import random\n",
    "import helper\n",
    "import os\n",
    "import glob\n",
    "from pathlib import Path\n",
    "%matplotlib inline"
   ]
  },
  {
   "cell_type": "code",
   "execution_count": 63,
   "metadata": {},
   "outputs": [
    {
     "data": {
      "text/html": [
       "<div>\n",
       "<style scoped>\n",
       "    .dataframe tbody tr th:only-of-type {\n",
       "        vertical-align: middle;\n",
       "    }\n",
       "\n",
       "    .dataframe tbody tr th {\n",
       "        vertical-align: top;\n",
       "    }\n",
       "\n",
       "    .dataframe thead th {\n",
       "        text-align: right;\n",
       "    }\n",
       "</style>\n",
       "<table border=\"1\" class=\"dataframe\">\n",
       "  <thead>\n",
       "    <tr style=\"text-align: right;\">\n",
       "      <th></th>\n",
       "      <th>wyId</th>\n",
       "      <th>gameweek</th>\n",
       "      <th>label</th>\n",
       "      <th>Home</th>\n",
       "      <th>Away</th>\n",
       "      <th>Home Score</th>\n",
       "      <th>Away Score</th>\n",
       "    </tr>\n",
       "  </thead>\n",
       "  <tbody>\n",
       "    <tr>\n",
       "      <th>0</th>\n",
       "      <td>2576335</td>\n",
       "      <td>38</td>\n",
       "      <td>Lazio - Internazionale, 2 - 3</td>\n",
       "      <td>Lazio</td>\n",
       "      <td>Internazionale</td>\n",
       "      <td>2</td>\n",
       "      <td>3</td>\n",
       "    </tr>\n",
       "    <tr>\n",
       "      <th>1</th>\n",
       "      <td>2576336</td>\n",
       "      <td>38</td>\n",
       "      <td>Sassuolo - Roma, 0 - 1</td>\n",
       "      <td>Sassuolo</td>\n",
       "      <td>Roma</td>\n",
       "      <td>0</td>\n",
       "      <td>1</td>\n",
       "    </tr>\n",
       "  </tbody>\n",
       "</table>\n",
       "</div>"
      ],
      "text/plain": [
       "      wyId  gameweek                          label      Home            Away  \\\n",
       "0  2576335        38  Lazio - Internazionale, 2 - 3     Lazio  Internazionale   \n",
       "1  2576336        38         Sassuolo - Roma, 0 - 1  Sassuolo            Roma   \n",
       "\n",
       "   Home Score  Away Score  \n",
       "0           2           3  \n",
       "1           0           1  "
      ]
     },
     "execution_count": 63,
     "metadata": {},
     "output_type": "execute_result"
    }
   ],
   "source": [
    "Results = pd.read_csv(\"Results.csv\")\n",
    "Results=Results[[\"wyId\",\"gameweek\",\"label\",\"Home\",\"Away\",\"Home Score\",\"Away Score\"]]\n",
    "Results.head(2)\n",
    "#invasion_index\n",
    "#acceleration_index"
   ]
  },
  {
   "cell_type": "code",
   "execution_count": 4,
   "metadata": {},
   "outputs": [
    {
     "data": {
      "text/plain": [
       "device(type='cuda')"
      ]
     },
     "execution_count": 4,
     "metadata": {},
     "output_type": "execute_result"
    }
   ],
   "source": [
    "# device configuration\n",
    "device = torch.device('cuda' if torch.cuda.is_available() else 'cpu')\n",
    "device"
   ]
  },
  {
   "cell_type": "code",
   "execution_count": 5,
   "metadata": {},
   "outputs": [
    {
     "data": {
      "text/plain": [
       "['.ipynb_checkpoints',\n",
       " 'Atalanta',\n",
       " 'Benevento',\n",
       " 'Bologna',\n",
       " 'Cagliari',\n",
       " 'Chievo',\n",
       " 'Crotone',\n",
       " 'Fiorentina',\n",
       " 'Genoa',\n",
       " 'Hellas Verona',\n",
       " 'Internazionale',\n",
       " 'Juventus',\n",
       " 'Lazio',\n",
       " 'Milan',\n",
       " 'Models.ipynb',\n",
       " 'Napoli',\n",
       " 'Results.csv',\n",
       " 'Roma',\n",
       " 'Sampdoria',\n",
       " 'Sassuolo',\n",
       " 'SPAL',\n",
       " 'Torino',\n",
       " 'Udinese']"
      ]
     },
     "execution_count": 5,
     "metadata": {},
     "output_type": "execute_result"
    }
   ],
   "source": [
    "os.listdir(\"./\")"
   ]
  },
  {
   "cell_type": "code",
   "execution_count": 37,
   "metadata": {},
   "outputs": [
    {
     "data": {
      "text/plain": [
       "['2575964',\n",
       " '2575985',\n",
       " '2576005',\n",
       " '2576014',\n",
       " '2576035',\n",
       " '2576056',\n",
       " '2576076',\n",
       " '2576094',\n",
       " '2576112',\n",
       " '2576132',\n",
       " '2576163',\n",
       " '2576186',\n",
       " '2576209',\n",
       " '2576238',\n",
       " '2576252',\n",
       " '2576275',\n",
       " '2576295',\n",
       " '2576311',\n",
       " '2576334']"
      ]
     },
     "execution_count": 37,
     "metadata": {},
     "output_type": "execute_result"
    }
   ],
   "source": [
    "path_str=r'.\\Juventus\\Home'\n",
    "os.listdir(path_str)"
   ]
  },
  {
   "cell_type": "code",
   "execution_count": 52,
   "metadata": {},
   "outputs": [
    {
     "name": "stdout",
     "output_type": "stream",
     "text": [
      ".\\Juventus\\Home\\2575964\\\n",
      "['Juventus\\\\Home\\\\2575964\\\\Duel H1.png', 'Juventus\\\\Home\\\\2575964\\\\Duel H2.png', 'Juventus\\\\Home\\\\2575964\\\\Foul H1.png', 'Juventus\\\\Home\\\\2575964\\\\Foul H2.png', 'Juventus\\\\Home\\\\2575964\\\\Free Kick H1.png', 'Juventus\\\\Home\\\\2575964\\\\Free Kick H2.png', 'Juventus\\\\Home\\\\2575964\\\\Interruption H1.png', 'Juventus\\\\Home\\\\2575964\\\\Interruption H2.png', 'Juventus\\\\Home\\\\2575964\\\\Others on the ball H1.png', 'Juventus\\\\Home\\\\2575964\\\\Others on the ball H2.png', 'Juventus\\\\Home\\\\2575964\\\\Pass H1.png', 'Juventus\\\\Home\\\\2575964\\\\Pass H2.png', 'Juventus\\\\Home\\\\2575964\\\\Save attempt H1.png', 'Juventus\\\\Home\\\\2575964\\\\Save attempt H2.png', 'Juventus\\\\Home\\\\2575964\\\\Shot H1.png', 'Juventus\\\\Home\\\\2575964\\\\Shot H2.png']\n"
     ]
    }
   ],
   "source": [
    "for img_name in os.listdir(path_str):# defining the image path\n",
    "    aux=[str(x) for x in path.glob('*'+str(img_name)+'*\\\\*.png')]\n",
    "    break"
   ]
  },
  {
   "cell_type": "code",
   "execution_count": 59,
   "metadata": {},
   "outputs": [
    {
     "name": "stdout",
     "output_type": "stream",
     "text": [
      "302\n",
      "302\n",
      "302\n",
      "302\n",
      "302\n",
      "302\n",
      "302\n",
      "302\n",
      "302\n",
      "302\n",
      "302\n",
      "302\n",
      "302\n",
      "302\n",
      "302\n",
      "302\n",
      "302\n",
      "302\n",
      "302\n"
     ]
    }
   ],
   "source": [
    "path_str=r'.\\Juventus\\Home'\n",
    "transform = transforms.Compose([transforms.ToTensor()])\n",
    "Results = pd.read_csv(\"Results.csv\")\n",
    "Results=Results[[\"wyId\",\"gameweek\",\"label\",\"Home\",\"Away\",\"Home Score\",\"Away Score\"]]\n",
    "D_images=dict()    #ID---> images\n",
    "D_paths=dict()     #ID--->paths\n",
    "D_labels=dict()    #ID--->label\n",
    "D_NHeatmaps=dict() #ID---->n_heatmaps\n",
    "\n",
    "aux=list()\n",
    "for i in range(len(os.listdir(path_str))):\n",
    "    path=Path(path_str+\"/\"+os.listdir(path_str)[i])\n",
    "    D_NHeatmaps[os.listdir(path_str)[i]]=sum(1 for x in path.glob('*') if x.is_file())-5\n",
    "    path=Path('.\\Juventus\\Home')\n",
    "    dataset = torchvision.datasets.ImageFolder(path_str,transform=transform)\n",
    "    pngCounter = sum(1 for x in path.glob('**/*.png') if x.is_file()) \n",
    "    print(pngCounter)\n",
    "    path_list=list()\n",
    "    #dataloader = torch.utils.data.DataLoader(dataset, batch_size=1, shuffle=False)\n",
    "    for tu in range(pngCounter):\n",
    "        #image= next(iter(dataloader))\n",
    "        for index in range(len(Results[Results[\"Home\"]==\"Juventus\"][[\"Home Score\",\"Away Score\"]].values)):\n",
    "            for ID in D_NHeatmaps.keys():\n",
    "                if ((str(Results[Results[\"Home\"]==\"Juventus\"][[\"wyId\"]].values[index][0])==ID) and (tu%D_NHeatmaps[ID]==0)and(tu>0)):\n",
    "                    Result,id_match,TeamName=Results[Results[\"Home\"]==\"Juventus\"][[\"Home Score\",\"Away Score\"]].values[index][0:2],Results[Results[\"Home\"]==\"Juventus\"][[\"wyId\"]].values[index][0],Results[Results[\"Home\"]==\"Juventus\"][[\"Home\"]].values[index][0]#Result,id_match,TeamName\n",
    "                    D_labels[str(id_match)]=list(Result)\n",
    "                    for img_name in os.listdir(path_str):# defining the image path\n",
    "                        path_list=[str(x) for x in path.glob('*'+str(img_name)+'*\\\\*.png')]\n",
    "                        D_paths[str(id_match)]=path_list \n",
    "                        for i in D_paths.values():\n",
    "                            for im in i:\n",
    "                                img = PIL.Image.open(im)\n",
    "                                img = np.array(img)/255.\n",
    "                                img =torch.tensor(img)\n",
    "                                print(img.shape)\n",
    "                                L_images.append(img)\n",
    "                        path_list.clear()\n",
    "                        D_images[str(id_match)]=L_images\n",
    "        break"
   ]
  },
  {
   "cell_type": "code",
   "execution_count": 60,
   "metadata": {},
   "outputs": [
    {
     "data": {
      "text/plain": [
       "{}"
      ]
     },
     "execution_count": 60,
     "metadata": {},
     "output_type": "execute_result"
    }
   ],
   "source": [
    "D_images"
   ]
  },
  {
   "cell_type": "code",
   "execution_count": 15,
   "metadata": {},
   "outputs": [
    {
     "name": "stdout",
     "output_type": "stream",
     "text": [
      "torch.Size([480, 672, 4])\n"
     ]
    }
   ],
   "source": [
    "import PIL\n",
    "L_images=list()\n",
    "for i in D_images.values():\n",
    "    for im in i:\n",
    "        img = PIL.Image.open(im)\n",
    "        img = np.array(img)/255.\n",
    "        img =torch.tensor(img)\n",
    "        print(img.shape)\n",
    "        L_images.append(img)\n",
    "        break\n",
    "    break"
   ]
  },
  {
   "cell_type": "code",
   "execution_count": 46,
   "metadata": {},
   "outputs": [
    {
     "name": "stderr",
     "output_type": "stream",
     "text": [
      "\n",
      "PackageNotInstalledError: Package is not installed in prefix.\n",
      "  prefix: C:\\ProgramData\\Anaconda3\n",
      "  package name: pytorch\n",
      "\n",
      "\n"
     ]
    }
   ],
   "source": [
    "!conda update pytorch torchvision"
   ]
  },
  {
   "cell_type": "code",
   "execution_count": 61,
   "metadata": {},
   "outputs": [],
   "source": [
    "class SoccerDataset():#['Atalanta','Benevento','Bologna','Cagliari','Chievo','Crotone','Fiorentina','Genoa','Hellas Verona','Internazionale','Juventus','Lazio','Milan','Napoli','Roma','Sampdoria','Sassuolo','SPAL','Torino','Udinese']\n",
    "    def __init__(self,team_name=\"Juventus\",Verbose=False,transform = transforms.Compose([transforms.ToTensor()])):\n",
    "        #attributes\n",
    "        self.path_str=r'.\\Juventus\\Home'\n",
    "               # self.x = D_images\n",
    "               # self.y = D_labels\n",
    "               # self.n_samples = pngCounter\n",
    "        self.transform=transform\n",
    "               #self.dataloader\n",
    "        # data loading\n",
    "        Results = pd.read_csv(\"Results.csv\")\n",
    "        Results=Results[[\"wyId\",\"gameweek\",\"label\",\"Home\",\"Away\",\"Home Score\",\"Away Score\"]]\n",
    "        D_images=dict() #ID--->images\n",
    "        D_labels=dict() #ID--->label\n",
    "        D_NHeatmaps=dict() #ID---->n_heatmaps\n",
    "        for i in range(len(os.listdir(self.path_str))):\n",
    "            path=Path(self.path_str+\"/\"+os.listdir(self.path_str)[i])\n",
    "            D_NHeatmaps[os.listdir(self.path_str)[i]]=sum(1 for x in path.glob('*') if x.is_file())-5\n",
    "        L_match=list()\n",
    "        path=Path('.\\Juventus\\Home')\n",
    "        dataset = torchvision.datasets.ImageFolder(self.path_str,transform=self.transform)\n",
    "        pngCounter = sum(1 for x in path.glob('**/*.png') if x.is_file()) \n",
    "        print(pngCounter)\n",
    "        self.dataloader = torch.utils.data.DataLoader(dataset, batch_size=1, shuffle=False)\n",
    "        for tu in range(pngCounter):\n",
    "            image= next(iter(self.dataloader))\n",
    "            L_match.append(image)\n",
    "            for index in range(len(Results[Results[\"Home\"]==\"Juventus\"][[\"Home Score\",\"Away Score\"]].values)):\n",
    "                for ID in D_NHeatmaps.keys():\n",
    "                    if ((str(Results[Results[\"Home\"]==\"Juventus\"][[\"wyId\"]].values[index][0])==ID) and (tu%D_NHeatmaps[ID]==0)and(tu>0)):\n",
    "                        Result,id_match,TeamName=Results[Results[\"Home\"]==\"Juventus\"][[\"Home Score\",\"Away Score\"]].values[index][0:2],Results[Results[\"Home\"]==\"Juventus\"][[\"wyId\"]].values[index][0],Results[Results[\"Home\"]==\"Juventus\"][[\"Home\"]].values[index][0]#Result,id_match,TeamName\n",
    "                        D_labels[str(id_match)]=list(Result)\n",
    "                        D_images[str(id_match)]=L_match \n",
    "                        L_match.clear()\n",
    "        self.x = D_images\n",
    "        self.y = D_labels\n",
    "        self.z = D_NHeatmaps\n",
    "        self.n_samples = pngCounter\n",
    "    def __getitem__(self, ID):\n",
    "        path = self.path_str\n",
    "        preds = self.x[str(ID)]\n",
    "        trgts = self.y[str(ID)]\n",
    "        sample = { \n",
    "            'predictors' : preds,\n",
    "            'targets' : trgts,\n",
    "            'path': path,\n",
    "          }\n",
    "        return preds,trgts\n",
    "\n",
    "\n",
    "    def __len__(self):\n",
    "        # len(dataset)\n",
    "        return self.n_samples"
   ]
  },
  {
   "cell_type": "code",
   "execution_count": 62,
   "metadata": {},
   "outputs": [
    {
     "name": "stdout",
     "output_type": "stream",
     "text": [
      "302\n"
     ]
    }
   ],
   "source": [
    "Foot=SoccerDataset()"
   ]
  },
  {
   "cell_type": "code",
   "execution_count": 81,
   "metadata": {},
   "outputs": [
    {
     "name": "stdout",
     "output_type": "stream",
     "text": [
      "tensor([[[[1., 1., 1.,  ..., 1., 1., 1.],\n",
      "          [1., 1., 1.,  ..., 1., 1., 1.],\n",
      "          [1., 1., 1.,  ..., 1., 1., 1.],\n",
      "          ...,\n",
      "          [1., 1., 1.,  ..., 1., 1., 1.],\n",
      "          [1., 1., 1.,  ..., 1., 1., 1.],\n",
      "          [1., 1., 1.,  ..., 1., 1., 1.]],\n",
      "\n",
      "         [[1., 1., 1.,  ..., 1., 1., 1.],\n",
      "          [1., 1., 1.,  ..., 1., 1., 1.],\n",
      "          [1., 1., 1.,  ..., 1., 1., 1.],\n",
      "          ...,\n",
      "          [1., 1., 1.,  ..., 1., 1., 1.],\n",
      "          [1., 1., 1.,  ..., 1., 1., 1.],\n",
      "          [1., 1., 1.,  ..., 1., 1., 1.]],\n",
      "\n",
      "         [[1., 1., 1.,  ..., 1., 1., 1.],\n",
      "          [1., 1., 1.,  ..., 1., 1., 1.],\n",
      "          [1., 1., 1.,  ..., 1., 1., 1.],\n",
      "          ...,\n",
      "          [1., 1., 1.,  ..., 1., 1., 1.],\n",
      "          [1., 1., 1.,  ..., 1., 1., 1.],\n",
      "          [1., 1., 1.,  ..., 1., 1., 1.]]]]) [3, 0]\n"
     ]
    }
   ],
   "source": [
    "first_data = Foot[2575964]\n",
    "features, labels = first_data\n",
    "print(features[0][0], labels)"
   ]
  },
  {
   "cell_type": "code",
   "execution_count": 38,
   "metadata": {},
   "outputs": [
    {
     "ename": "NameError",
     "evalue": "name 'Foot' is not defined",
     "output_type": "error",
     "traceback": [
      "\u001b[1;31m---------------------------------------------------------------------------\u001b[0m",
      "\u001b[1;31mNameError\u001b[0m                                 Traceback (most recent call last)",
      "\u001b[1;32m<ipython-input-38-3887bbfd143d>\u001b[0m in \u001b[0;36m<module>\u001b[1;34m\u001b[0m\n\u001b[1;32m----> 1\u001b[1;33m \u001b[1;32mfor\u001b[0m \u001b[0mi\u001b[0m \u001b[1;32min\u001b[0m \u001b[0mFoot\u001b[0m\u001b[1;33m.\u001b[0m\u001b[0mx\u001b[0m\u001b[1;33m.\u001b[0m\u001b[0mvalues\u001b[0m\u001b[1;33m(\u001b[0m\u001b[1;33m)\u001b[0m\u001b[1;33m:\u001b[0m\u001b[1;33m\u001b[0m\u001b[1;33m\u001b[0m\u001b[0m\n\u001b[0m\u001b[0;32m      2\u001b[0m     \u001b[0mprint\u001b[0m\u001b[1;33m(\u001b[0m\u001b[0mi\u001b[0m\u001b[1;33m[\u001b[0m\u001b[1;36m0\u001b[0m\u001b[1;33m]\u001b[0m\u001b[1;33m[\u001b[0m\u001b[1;36m0\u001b[0m\u001b[1;33m]\u001b[0m\u001b[1;33m[\u001b[0m\u001b[1;36m0\u001b[0m\u001b[1;33m,\u001b[0m\u001b[1;33m:\u001b[0m\u001b[1;33m,\u001b[0m\u001b[1;33m:\u001b[0m\u001b[1;33m,\u001b[0m\u001b[1;33m:\u001b[0m\u001b[1;33m]\u001b[0m\u001b[1;33m.\u001b[0m\u001b[0mshape\u001b[0m\u001b[1;33m)\u001b[0m\u001b[1;33m\u001b[0m\u001b[1;33m\u001b[0m\u001b[0m\n\u001b[0;32m      3\u001b[0m     \u001b[0mtransform\u001b[0m \u001b[1;33m=\u001b[0m \u001b[0mtransforms\u001b[0m\u001b[1;33m.\u001b[0m\u001b[0mToPILImage\u001b[0m\u001b[1;33m(\u001b[0m\u001b[1;33m)\u001b[0m\u001b[1;33m\u001b[0m\u001b[1;33m\u001b[0m\u001b[0m\n\u001b[0;32m      4\u001b[0m     \u001b[0mimg\u001b[0m \u001b[1;33m=\u001b[0m \u001b[0mtransform\u001b[0m\u001b[1;33m(\u001b[0m\u001b[0mi\u001b[0m\u001b[1;33m[\u001b[0m\u001b[1;36m0\u001b[0m\u001b[1;33m]\u001b[0m\u001b[1;33m[\u001b[0m\u001b[1;36m0\u001b[0m\u001b[1;33m]\u001b[0m\u001b[1;33m[\u001b[0m\u001b[1;36m0\u001b[0m\u001b[1;33m,\u001b[0m\u001b[1;33m:\u001b[0m\u001b[1;33m,\u001b[0m\u001b[1;33m:\u001b[0m\u001b[1;33m,\u001b[0m\u001b[1;33m:\u001b[0m\u001b[1;33m]\u001b[0m\u001b[1;33m)\u001b[0m\u001b[1;33m\u001b[0m\u001b[1;33m\u001b[0m\u001b[0m\n\u001b[0;32m      5\u001b[0m     \u001b[0mimg\u001b[0m\u001b[1;33m.\u001b[0m \u001b[0mshow\u001b[0m\u001b[1;33m(\u001b[0m\u001b[1;33m)\u001b[0m\u001b[1;33m\u001b[0m\u001b[1;33m\u001b[0m\u001b[0m\n",
      "\u001b[1;31mNameError\u001b[0m: name 'Foot' is not defined"
     ]
    }
   ],
   "source": [
    "for i in Foot.x.values():\n",
    "    print(i[0][0][0,:,:,:].shape)\n",
    "    transform = transforms.ToPILImage()\n",
    "    img = transform(i[0][0][0,:,:,:])\n",
    "    img. show()\n",
    "    break"
   ]
  },
  {
   "attachments": {
    "image.png": {
     "image/png": "[encoded data removed]"
    }
   },
   "cell_type": "markdown",
   "metadata": {},
   "source": [
    "![image.png](attachment:image.png)"
   ]
  },
  {
   "attachments": {
    "image.png": {
     "image/png": "[encoded data removed]"
    }
   },
   "cell_type": "markdown",
   "metadata": {},
   "source": [
    "![image.png](attachment:image.png)"
   ]
  },
  {
   "cell_type": "code",
   "execution_count": 83,
   "metadata": {},
   "outputs": [
    {
     "data": {
      "text/plain": [
       "'C:\\\\Users\\\\Aymen\\\\Desktop\\\\Soccer Heatmaps\\\\Italy'"
      ]
     },
     "execution_count": 83,
     "metadata": {},
     "output_type": "execute_result"
    }
   ],
   "source": [
    "#os.chdir(str(r'C:\\Users\\Aymen\\Desktop\\Soccer Heatmaps\\Italy'))\n",
    "os.getcwd() # Get working directory "
   ]
  },
  {
   "attachments": {
    "image.png": {
     "image/png": "[encoded data removed]"
    }
   },
   "cell_type": "markdown",
   "metadata": {},
   "source": [
    "![image.png](attachment:image.png)"
   ]
  },
  {
   "cell_type": "markdown",
   "metadata": {},
   "source": [
    "### Modélisation:"
   ]
  },
  {
   "cell_type": "code",
   "execution_count": 12,
   "metadata": {},
   "outputs": [
    {
     "name": "stderr",
     "output_type": "stream",
     "text": [
      "UsageError: Line magic function `%matplotlib.use(\"Agg\")` not found.\n"
     ]
    }
   ],
   "source": [
    "# import the necessary packages\n",
    "from torch.nn import Module\n",
    "from torch.nn import Conv3d\n",
    "from torch.nn import Linear\n",
    "from torch.nn import MaxPool2d\n",
    "from torch.nn import ReLU\n",
    "from torch.nn import LogSoftmax\n",
    "from torch import flatten\n",
    "\n",
    "\n",
    "%matplotlib.use(\"Agg\")\n",
    "# import the necessary packages\n",
    "from pyimagesearch.lenet import LeNet\n",
    "from sklearn.metrics import classification_report\n",
    "from torch.utils.data import random_split\n",
    "from torchvision.transforms import ToTensor\n",
    "from torchvision.datasets import KMNIST\n",
    "from torch.optim import Adam\n",
    "\n",
    "import argparse\n",
    "import time"
   ]
  },
  {
   "cell_type": "code",
   "execution_count": 73,
   "metadata": {},
   "outputs": [
    {
     "name": "stdout",
     "output_type": "stream",
     "text": [
      "torch.Size([3, 480, 672])\n"
     ]
    },
    {
     "data": {
      "text/plain": [
       "[[0, 1],\n",
       " [2, 0],\n",
       " [1, 0],\n",
       " [1, 0],\n",
       " [2, 1],\n",
       " [3, 1],\n",
       " [3, 0],\n",
       " [3, 1],\n",
       " [2, 0],\n",
       " [1, 0],\n",
       " [3, 0],\n",
       " [2, 1],\n",
       " [4, 1],\n",
       " [4, 0],\n",
       " [3, 0],\n",
       " [3, 0],\n",
       " [1, 2],\n",
       " [7, 0],\n",
       " [0, 0]]"
      ]
     },
     "execution_count": 73,
     "metadata": {},
     "output_type": "execute_result"
    }
   ],
   "source": [
    "for i in S.x.values():\n",
    "    print(i[0][0][0,:,:,:].shape)\n",
    "    transform = transforms.ToPILImage()\n",
    "    #img = transform(i[0][0][0,:,:,:])\n",
    "    #img. show()\n",
    "    break\n",
    "numChannels=i[0][0][0,:,:,:].shape[0]\n",
    "s=list()\n",
    "for i in S.y.keys():\n",
    "    s.append(S[i][1])\n",
    "classes=s\n",
    "classes"
   ]
  },
  {
   "cell_type": "code",
   "execution_count": 20,
   "metadata": {},
   "outputs": [
    {
     "data": {
      "text/plain": [
       "tensor([0, 1, 2, 3, 4, 7])"
      ]
     },
     "execution_count": 20,
     "metadata": {},
     "output_type": "execute_result"
    }
   ],
   "source": [
    "classes= torch.from_numpy(np.array(classes))\n",
    "classes"
   ]
  },
  {
   "cell_type": "code",
   "execution_count": 24,
   "metadata": {},
   "outputs": [
    {
     "data": {
      "text/plain": [
       "3"
      ]
     },
     "execution_count": 24,
     "metadata": {},
     "output_type": "execute_result"
    }
   ],
   "source": [
    "numChannels"
   ]
  },
  {
   "cell_type": "code",
   "execution_count": 25,
   "metadata": {},
   "outputs": [],
   "source": [
    "class ConvNet(nn.Module):\n",
    "    def __init__(self, numChannels, classes):\n",
    "        # call the parent constructor\n",
    "        super(ConvNet, self).__init__()\n",
    "        # initialize first set of CONV => RELU => POOL layers\n",
    "        self.conv1 = nn.Conv3d(in_channels=3, out_channels=20,kernel_size=(5, 5))\n",
    "        \n",
    "        \n",
    "        self.relu1 = ReLU()\n",
    "        \n",
    "        #BRU\n",
    "        self.maxpool1 = nn.MaxPool3d(kernel_size=(2, 2), stride=(2, 2))\n",
    "        \n",
    "        \n",
    "        # initialize second set of CONV => RELU => POOL layers\n",
    "        self.conv2 = nn.Conv3d(in_channels=20, out_channels=50,kernel_size=(5, 5))\n",
    "        \n",
    "        self.relu2 = ReLU()\n",
    "        \n",
    "        self.maxpool2 = nn.MaxPool3d(kernel_size=(2, 2), stride=(2, 2))\n",
    "        \n",
    "        \n",
    "        # initialize first (and only) set of FC => RELU layers\n",
    "        self.fc1 = Linear(in_features=322560, out_features=500) #322560=480*672\n",
    "        self.relu3 = ReLU()\n",
    "        # initialize our softmax classifier\n",
    "        self.fc2 = Linear(in_features=500, out_features=2)\n",
    "        self.logSoftmax = LogSoftmax(dim=1)\n",
    "        \n",
    "    \n",
    "    def forward(self, x):\n",
    "        # pass the input through our first set of CONV => RELU =>\n",
    "        # POOL layers\n",
    "        x = self.conv1(x)\n",
    "        x = self.relu1(x)\n",
    "        x = self.maxpool1(x)\n",
    "        # pass the output from the previous layer through the second\n",
    "        # set of CONV => RELU => POOL layers\n",
    "        x = self.conv2(x)\n",
    "        x = self.relu2(x)\n",
    "        x = self.maxpool2(x)\n",
    "        # flatten the output from the previous layer and pass it\n",
    "        # through our only set of FC => RELU layers\n",
    "        x = flatten(x, 1)\n",
    "        x = self.fc1(x)\n",
    "        x = self.relu3(x)\n",
    "        # pass the output to our softmax classifier to get our output\n",
    "        # predictions\n",
    "        output= self.fc2(x)\n",
    "        #output = self.logSoftmax(x)\n",
    "        # return the output predictions\n",
    "        return output"
   ]
  },
  {
   "cell_type": "code",
   "execution_count": 26,
   "metadata": {},
   "outputs": [],
   "source": [
    "model=ConvNet(numChannels,classes)"
   ]
  },
  {
   "cell_type": "code",
   "execution_count": 27,
   "metadata": {},
   "outputs": [],
   "source": [
    "# define training hyperparameters\n",
    "INIT_LR = 1e-3\n",
    "BATCH_SIZE = 64\n",
    "EPOCHS = 10\n",
    "# define the train and val splits\n",
    "TRAIN_SPLIT = 12/19\n",
    "VAL_SPLIT = 1 - TRAIN_SPLIT"
   ]
  },
  {
   "cell_type": "code",
   "execution_count": 72,
   "metadata": {},
   "outputs": [
    {
     "name": "stdout",
     "output_type": "stream",
     "text": [
      "1 <class 'list'>\n",
      "2 <class 'list'>\n",
      "1 <class 'torch.Tensor'>\n",
      "3 <class 'torch.Tensor'>\n",
      "torch.Size([3, 480, 672])\n",
      "19\n",
      "1 [2, 0]\n"
     ]
    }
   ],
   "source": [
    "for i in S.x.values():\n",
    "    print(len(i),type(i))\n",
    "    print(len(i[0]),type(i[0]))\n",
    "    print(len(i[0][0]),type(i[0][0]))\n",
    "    print(len(i[0][0][0,:,:,:]),type(i[0][0][0,:,:,:]))\n",
    "    print(i[0][0][0,:,:,:].shape)\n",
    "    break\n",
    "print(len(S.x.keys()))\n",
    "c=0\n",
    "Train=list()\n",
    "Train_lab=list()\n",
    "Test=list()\n",
    "Test_lab=list()\n",
    "\n",
    "for i in S.x.keys():\n",
    "    if c<13:\n",
    "        Train_lab.append(S.y[i])\n",
    "        Train.append(S.x[i][0][0])\n",
    "        c=c+1\n",
    "    else :\n",
    "        Test_lab.append(S.y[i])\n",
    "        Test.append(S.x[i][0][0])\n",
    "        c=c+1\n",
    "print(len(Train[0]),Train_lab[1])"
   ]
  },
  {
   "cell_type": "code",
   "execution_count": 52,
   "metadata": {},
   "outputs": [
    {
     "data": {
      "text/plain": [
       "2513646871112"
      ]
     },
     "execution_count": 52,
     "metadata": {},
     "output_type": "execute_result"
    }
   ],
   "source": [
    "image= next(iter(S.dataloader))\n",
    "id(image)"
   ]
  },
  {
   "cell_type": "code",
   "execution_count": 50,
   "metadata": {},
   "outputs": [
    {
     "name": "stdout",
     "output_type": "stream",
     "text": [
      "[INFO] loading the Soccer dataset...\n"
     ]
    },
    {
     "ename": "NameError",
     "evalue": "name 'img2Label' is not defined",
     "output_type": "error",
     "traceback": [
      "\u001b[1;31m---------------------------------------------------------------------------\u001b[0m",
      "\u001b[1;31mNameError\u001b[0m                                 Traceback (most recent call last)",
      "\u001b[1;32m<ipython-input-50-c04401f315e9>\u001b[0m in \u001b[0;36m<module>\u001b[1;34m\u001b[0m\n\u001b[0;32m      1\u001b[0m \u001b[1;31m##### load the dataset\u001b[0m\u001b[1;33m\u001b[0m\u001b[1;33m\u001b[0m\u001b[1;33m\u001b[0m\u001b[0m\n\u001b[0;32m      2\u001b[0m \u001b[0mprint\u001b[0m\u001b[1;33m(\u001b[0m\u001b[1;34m\"[INFO] loading the Soccer dataset...\"\u001b[0m\u001b[1;33m)\u001b[0m\u001b[1;33m\u001b[0m\u001b[1;33m\u001b[0m\u001b[0m\n\u001b[1;32m----> 3\u001b[1;33m \u001b[0mtrainData\u001b[0m \u001b[1;33m=\u001b[0m \u001b[0mlist\u001b[0m\u001b[1;33m(\u001b[0m\u001b[0mimg2Label\u001b[0m\u001b[1;33m.\u001b[0m\u001b[0mitems\u001b[0m\u001b[1;33m(\u001b[0m\u001b[1;33m)\u001b[0m\u001b[1;33m)\u001b[0m\u001b[1;33m\u001b[0m\u001b[1;33m\u001b[0m\u001b[0m\n\u001b[0m\u001b[0;32m      4\u001b[0m \u001b[0mtrainLabel\u001b[0m\u001b[1;33m=\u001b[0m\u001b[0mlist\u001b[0m\u001b[1;33m(\u001b[0m\u001b[0mS\u001b[0m\u001b[1;33m.\u001b[0m\u001b[0my\u001b[0m\u001b[1;33m.\u001b[0m\u001b[0mvalues\u001b[0m\u001b[1;33m(\u001b[0m\u001b[1;33m)\u001b[0m\u001b[1;33m)\u001b[0m\u001b[1;33m\u001b[0m\u001b[1;33m\u001b[0m\u001b[0m\n\u001b[0;32m      5\u001b[0m \u001b[0mtestData\u001b[0m \u001b[1;33m=\u001b[0m\u001b[0mlist\u001b[0m\u001b[1;33m(\u001b[0m\u001b[0mimg2Label\u001b[0m\u001b[1;33m.\u001b[0m\u001b[0mitems\u001b[0m\u001b[1;33m(\u001b[0m\u001b[1;33m)\u001b[0m\u001b[1;33m)\u001b[0m\u001b[1;33m\u001b[0m\u001b[1;33m\u001b[0m\u001b[0m\n",
      "\u001b[1;31mNameError\u001b[0m: name 'img2Label' is not defined"
     ]
    }
   ],
   "source": [
    "##### load the dataset\n",
    "print(\"[INFO] loading the Soccer dataset...\")\n",
    "trainData = list(img2Label.items())\n",
    "trainLabel=list(S.y.values())\n",
    "testData =list(img2Label.items()) \n",
    "testLabel=list(S.y.values())\n",
    "# calculate the train/validation split\n",
    "print(\"[INFO] generating the train/validation split...\")\n",
    "numTrainSamples = int(len(trainData) * TRAIN_SPLIT)\n",
    "numValSamples = int(len(trainData) * VAL_SPLIT)\n",
    "trainData, valData = torch.utils.data.random_split(img2Label.items(),[numTrainSamples, numValSamples],generator=torch.Generator().manual_seed(42))"
   ]
  },
  {
   "cell_type": "code",
   "execution_count": null,
   "metadata": {},
   "outputs": [],
   "source": [
    "# initialize the train, validation, and test data loaders\n",
    "trainDataLoader = DataLoader((trainData,trainLabel), shuffle=True,batch_size=BATCH_SIZE)\n",
    "valDataLoader = DataLoader((valData,tra, batch_size=BATCH_SIZE)\n",
    "testDataLoader = DataLoader(testData, batch_size=BATCH_SIZE)\n",
    "# calculate steps per epoch for training and validation set\n",
    "trainSteps = len(trainDataLoader.dataset)//BATCH_SIZE\n",
    "valSteps = len(valDataLoader.dataset)//BATCH_SIZE"
   ]
  },
  {
   "cell_type": "code",
   "execution_count": null,
   "metadata": {},
   "outputs": [],
   "source": [
    "# initialize the ConvNet model\n",
    "print(\"[INFO] initializing the ConvNet model...\")\n",
    "model = ConvNet(numChannels=3,classes=2).to(device)\n",
    "# initialize our optimizer and loss function\n",
    "opt = torch.optim.Adam(model.parameters(), lr=INIT_LR)\n",
    "lossFn = nn.NLLLoss()\n",
    "# initialize a dictionary to store training history\n",
    "H = {\"train_loss\": [],\"train_acc\": [],\"val_loss\": [],\"val_acc\": []}\n",
    "# measure how long training is going to take\n"
   ]
  },
  {
   "cell_type": "code",
   "execution_count": null,
   "metadata": {},
   "outputs": [],
   "source": [
    "import time\n",
    "print(\"[INFO] training the network...\")\n",
    "startTime = time.time()\n",
    "# loop over our epochs\n",
    "for e in range(0, EPOCHS):\n",
    "    # set the model in training mode\n",
    "    model.train()\n",
    "    # initialize the total training and validation loss\n",
    "    totalTrainLoss = 0\n",
    "    totalValLoss = 0\n",
    "    # initialize the number of correct predictions in the training\n",
    "    # and validation step\n",
    "    trainCorrect = 0\n",
    "    valCorrect = 0\n",
    "    # loop over the training set\n",
    "    for (x, y) in trainDataLoader:\n",
    "        # send the input to the device\n",
    "        (x, y) = (x.to(device), y.to(device))\n",
    "        # perform a forward pass and calculate the training loss\n",
    "        pred = model(x)\n",
    "        loss = lossFn(pred, y)\n",
    "        # zero out the gradients, perform the backpropagation step,\n",
    "        # and update the weights\n",
    "        opt.zero_grad()\n",
    "        loss.backward()\n",
    "        opt.step()\n",
    "        # add the loss to the total training loss so far and\n",
    "        # calculate the number of correct predictions\n",
    "        totalTrainLoss += loss\n",
    "        trainCorrect += (pred.argmax(1) == y).type(\n",
    "            torch.float).sum().item()"
   ]
  },
  {
   "cell_type": "code",
   "execution_count": null,
   "metadata": {},
   "outputs": [],
   "source": [
    "### switch off autograd for evaluation\n",
    "with torch.no_grad():\n",
    "# set the model in evaluation mode\n",
    "    model.eval()\n",
    "    # loop over the validation set\n",
    "    for (x, y) in valDataLoader:\n",
    "        # send the input to the device\n",
    "        (x, y) = (x.to(device), y.to(device))\n",
    "        # make the predictions and calculate the validation loss\n",
    "        pred = model(x)\n",
    "        totalValLoss += lossFn(pred, y)\n",
    "        # calculate the number of correct predictions\n",
    "        valCorrect += (pred.argmax(1) == y).type(torch.float).sum().item()"
   ]
  },
  {
   "cell_type": "code",
   "execution_count": null,
   "metadata": {},
   "outputs": [],
   "source": [
    "# calculate the average training and validation loss\n",
    "avgTrainLoss = totalTrainLoss / trainSteps\n",
    "avgValLoss = totalValLoss / valSteps\n",
    "# calculate the training and validation accuracy\n",
    "trainCorrect = trainCorrect / len(trainDataLoader.dataset)\n",
    "valCorrect = valCorrect / len(valDataLoader.dataset)\n",
    "# update our training history\n",
    "H[\"train_loss\"].append(avgTrainLoss.cpu().detach().numpy())\n",
    "H[\"train_acc\"].append(trainCorrect)\n",
    "H[\"val_loss\"].append(avgValLoss.cpu().detach().numpy())\n",
    "H[\"val_acc\"].append(valCorrect)\n",
    "# print the model training and validation information\n",
    "print(\"[INFO] EPOCH: {}/{}\".format(e + 1, EPOCHS))\n",
    "print(\"Train loss: {:.6f}, Train accuracy: {:.4f}\".format(avgTrainLoss, trainCorrect))\n",
    "print(\"Val loss: {:.6f}, Val accuracy: {:.4f}\\n\".format(avgValLoss, valCorrect))"
   ]
  },
  {
   "cell_type": "code",
   "execution_count": null,
   "metadata": {},
   "outputs": [],
   "source": [
    "# finish measuring how long training took\n",
    "endTime = time.time()\n",
    "print(\"[INFO] total time taken to train the model: {:.2f}s\".format(endTime - startTime))\n",
    "# we can now evaluate the network on the test set\n",
    "print(\"[INFO] evaluating network...\")\n",
    "# turn off autograd for testing evaluation\n",
    "with torch.no_grad():\n",
    "    # set the model in evaluation mode\n",
    "    model.eval()\n",
    "    # initialize a list to store our predictions\n",
    "    preds = []\n",
    "    # loop over the test set\n",
    "    for (x, y) in testDataLoader:\n",
    "        # send the input to the device\n",
    "        x = x.to(device)\n",
    "        # make the predictions and add them to the list\n",
    "        pred = model(x)\n",
    "        preds.extend(pred.argmax(axis=1).cpu().numpy())\n",
    "# generate a classification report\n",
    "print(classification_report(testData.targets.cpu().numpy(),np.array(preds), target_names=testData.classes))"
   ]
  },
  {
   "cell_type": "code",
   "execution_count": null,
   "metadata": {},
   "outputs": [],
   "source": [
    "# plot the training loss and accuracy\n",
    "plt.style.use(\"ggplot\")\n",
    "plt.figure()\n",
    "plt.plot(H[\"train_loss\"], label=\"train_loss\")\n",
    "plt.plot(H[\"val_loss\"], label=\"val_loss\")\n",
    "plt.plot(H[\"train_acc\"], label=\"train_acc\")\n",
    "plt.plot(H[\"val_acc\"], label=\"val_acc\")\n",
    "plt.title(\"Training Loss and Accuracy on Dataset\")\n",
    "plt.xlabel(\"Epoch #\")\n",
    "plt.ylabel(\"Loss/Accuracy\")\n",
    "plt.legend(loc=\"lower left\")\n",
    "plt.savefig(args[\"plot\"])\n",
    "# serialize the model to disk\n",
    "torch.save(model, args[\"model\"])"
   ]
  },
  {
   "cell_type": "code",
   "execution_count": null,
   "metadata": {},
   "outputs": [],
   "source": []
  },
  {
   "cell_type": "code",
   "execution_count": null,
   "metadata": {},
   "outputs": [],
   "source": []
  },
  {
   "cell_type": "code",
   "execution_count": null,
   "metadata": {},
   "outputs": [],
   "source": []
  },
  {
   "cell_type": "code",
   "execution_count": null,
   "metadata": {},
   "outputs": [],
   "source": [
    "import torch.nn as nn\n",
    "\n",
    "class NeuralNetwork(nn.Module):\n",
    "    def __init__(self):\n",
    "    super(NeuralNetwork, self).__init__()\n",
    "        self.linear1 = nn.Linear(in_features = 3, out_features = 1)\n",
    "        self.linear2 = nn.Linear(in_features = 3,out_features = 2)\n",
    "\n",
    "    def forward(self, x):\n",
    "        output1 = self.linear1(x)\n",
    "        output2 = self.linear2(x)\n",
    "        return output1, output2"
   ]
  }
 ],
 "metadata": {
  "kernelspec": {
   "display_name": "p36workshop",
   "language": "python",
   "name": "p36workshop"
  },
  "language_info": {
   "codemirror_mode": {
    "name": "ipython",
    "version": 3
   },
   "file_extension": ".py",
   "mimetype": "text/x-python",
   "name": "python",
   "nbconvert_exporter": "python",
   "pygments_lexer": "ipython3",
   "version": "3.7.11"
  }
 },
 "nbformat": 4,
 "nbformat_minor": 4
}
